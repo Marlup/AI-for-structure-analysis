{
 "cells": [
  {
   "cell_type": "markdown",
   "id": "a1ca3702-f868-4044-805f-bdb82388722a",
   "metadata": {
    "jp-MarkdownHeadingCollapsed": true
   },
   "source": [
    "# Introduccion: ¿Qué es lenguaje Python?"
   ]
  },
  {
   "cell_type": "markdown",
   "id": "e8989c33-5ea8-4a47-997a-f29fc1347ac2",
   "metadata": {},
   "source": [
    "Python es un lenguaje interpretado. Un intérprete es un sistema compuesto por programas precompilados en otro lenguaje de menor nivel que 1) lee el código fuente línea por línea, 2) lo traduce *on the fly* y 3) lo ejecuta en tiempo real sin compilaciones previas. \n",
    "\n",
    "Los lenguajes interpretados ofrecen características como:\n",
    "\n",
    "1. &#x2705; Flexibilidad. Permiten mejores abstracciones.\n",
    "2. &#x2705; Tipado dinámico. Los tipos de las variables son revisadas durante la ejecución del código (runtime).\n",
    "3. &#x2705; Sin compilación previa.\n",
    "4. &#x10102; \n",
    "Ejecución más lenta. Esto es debido a que el intérprete tiene que leer y <a href=https://en.wikipedia.org/wiki/Parsing#Parser>parsear</a> cada línea, al mismo tiempo que ejecuta el programa."
   ]
  },
  {
   "cell_type": "markdown",
   "id": "3ad651e9-b9e1-4c76-9d6a-b857cddd260a",
   "metadata": {},
   "source": [
    "# Tipos de datos primitivos: int, str, float, bool, complex, None"
   ]
  },
  {
   "cell_type": "markdown",
   "id": "cf2d16c9-f04d-48ab-b767-60afdf875e18",
   "metadata": {},
   "source": [
    "La función type() muestra el tipo de dato asignado de una variable."
   ]
  },
  {
   "cell_type": "markdown",
   "id": "a9cc20cf-b09e-4eab-a518-e24869cbc9e8",
   "metadata": {},
   "source": [
    "## Numéricos"
   ]
  },
  {
   "cell_type": "markdown",
   "id": "59c6b0e3-7aac-4fdd-b278-3b62d99d4a4c",
   "metadata": {},
   "source": [
    "Enteros (int)"
   ]
  },
  {
   "cell_type": "code",
   "execution_count": 3,
   "id": "1d179645-cd50-433f-a81b-8996e4eab7c7",
   "metadata": {},
   "outputs": [
    {
     "data": {
      "text/plain": [
       "(5, 117, -5, int)"
      ]
     },
     "execution_count": 3,
     "metadata": {},
     "output_type": "execute_result"
    }
   ],
   "source": [
    "x = 5\n",
    "y = 117\n",
    "z = -5\n",
    "\n",
    "x, y, z, type(x)"
   ]
  },
  {
   "cell_type": "markdown",
   "id": "24497b2d-8da8-44f8-a2ce-989c5137b9d4",
   "metadata": {},
   "source": [
    "Punto flotante, para números decimales (float)"
   ]
  },
  {
   "cell_type": "code",
   "execution_count": 5,
   "id": "e71cb207-a6ad-4990-bd05-e18b4c8bb5ef",
   "metadata": {},
   "outputs": [
    {
     "data": {
      "text/plain": [
       "(3.14, 10000, 1e-06, float, True)"
      ]
     },
     "execution_count": 5,
     "metadata": {},
     "output_type": "execute_result"
    }
   ],
   "source": [
    "x = 3.14\n",
    "y = 10000\n",
    "z = 1e-6 # Podemos usar la notación científica para definir valores float\n",
    "q = 0.000001\n",
    "\n",
    "x, y, z, type(x), z == q"
   ]
  },
  {
   "cell_type": "markdown",
   "id": "d1f82d98-054c-4ad0-a093-1518faceac5d",
   "metadata": {},
   "source": [
    "Números complejos (complex)"
   ]
  },
  {
   "cell_type": "code",
   "execution_count": 16,
   "id": "1536baf2-5819-4768-9d82-d10ad87023f3",
   "metadata": {},
   "outputs": [
    {
     "data": {
      "text/plain": [
       "((1.1-3j), (10.7+0j), 10.7j, complex, complex)"
      ]
     },
     "execution_count": 16,
     "metadata": {},
     "output_type": "execute_result"
    }
   ],
   "source": [
    "# Con parte real e imaginaria\n",
    "x = complex(1.1, -3)\n",
    "\n",
    "# Solo con parte real\n",
    "y = complex(10.7) # si escribes complex(real=10.7) obtendrías el mismo resultado\n",
    "\n",
    "# Solo con parte imaginaria\n",
    "z = complex(imag=10.7)\n",
    "\n",
    "x, y, z, type(x), type(z)"
   ]
  },
  {
   "cell_type": "markdown",
   "id": "98a41118-640e-4175-b895-706e28561301",
   "metadata": {},
   "source": [
    "## Boolean"
   ]
  },
  {
   "cell_type": "markdown",
   "id": "7a5c428c-0cb8-4238-ba69-7defdb535a60",
   "metadata": {},
   "source": [
    "Este tipo de dato solo permite los valores True o False.\n",
    "\n",
    "Además, Python puede interpretar, implícitamente, el valor de otro tipo de dato como True o False según el valor:\n",
    "\n",
    "1. **int**. 0 es False, y cualquier otro (1, 117, -5, ...) es True.\n",
    "1. **float**. similar a tipos de datos int.\n",
    "1. **str**. un string vacío, \"\" ó '', es False, en caso contrario será True.\n",
    "1. **list**. una lista vacía, [], es False, en caso contrario (contiene al menos un elemento) es True.\n",
    "1. **dict**.  similar a tipos de datos list.\n",
    "1. **set**.  similar a tipos de datos list.\n",
    "\n",
    "**Intuición general**: Podemos pensar que las variables con valores *vacías, sin elementos o sin cantidad* serán boolean False y los valores *con algún elemento o con cantidad* serán True. Por ejemplo\n",
    "\n",
    "- Vemos que 0, 0.0, \"\", [], {} y set(), son valores sin cantidad (nulos) o vacíos (sin elementos), luego siempre serán False en caso de que se conviertan a boolean.\n",
    "\n",
    "Unos ejemplos:"
   ]
  },
  {
   "cell_type": "markdown",
   "id": "5eebb88c-edb0-4fd6-acd6-b0b0f9301ea5",
   "metadata": {},
   "source": [
    "int a bool"
   ]
  },
  {
   "cell_type": "code",
   "execution_count": 22,
   "id": "0166ae46-77b6-4914-84f5-5cb8471d5ee4",
   "metadata": {},
   "outputs": [
    {
     "data": {
      "text/plain": [
       "(False, True, True, True)"
      ]
     },
     "execution_count": 22,
     "metadata": {},
     "output_type": "execute_result"
    }
   ],
   "source": [
    "# Podemos utilizar la función bool() para convertir otro tipo a boolean\n",
    "\n",
    "x = bool(0)\n",
    "\n",
    "y = bool(1)\n",
    "\n",
    "z = bool(117)\n",
    "\n",
    "q = bool(-5)\n",
    "\n",
    "x, y, z, q"
   ]
  },
  {
   "cell_type": "markdown",
   "id": "b3f5198a-b462-4dfb-a6f3-89540b3ce302",
   "metadata": {},
   "source": [
    "float a bool"
   ]
  },
  {
   "cell_type": "code",
   "execution_count": 23,
   "id": "5904fae9-32c8-47a7-8454-e9f2883619fd",
   "metadata": {},
   "outputs": [
    {
     "data": {
      "text/plain": [
       "(False, True, True, True)"
      ]
     },
     "execution_count": 23,
     "metadata": {},
     "output_type": "execute_result"
    }
   ],
   "source": [
    "x = bool(0.0)\n",
    "\n",
    "y = bool(1.8)\n",
    "\n",
    "z = bool(117.3)\n",
    "\n",
    "q = bool(-5.3)\n",
    "\n",
    "x, y, z, q"
   ]
  },
  {
   "cell_type": "markdown",
   "id": "c1fb77d4-c172-4a16-badf-13dcdf6e0de3",
   "metadata": {},
   "source": [
    "str a bool"
   ]
  },
  {
   "cell_type": "code",
   "execution_count": 24,
   "id": "869313bd-d39c-4cac-a9d7-64ce2e578d82",
   "metadata": {},
   "outputs": [
    {
     "data": {
      "text/plain": [
       "(False, True, True)"
      ]
     },
     "execution_count": 24,
     "metadata": {},
     "output_type": "execute_result"
    }
   ],
   "source": [
    "x = bool(\"\")\n",
    "\n",
    "y = bool(\"a\")\n",
    "\n",
    "z = bool(\"comentario de prueba\")\n",
    "\n",
    "x, y, z"
   ]
  },
  {
   "cell_type": "code",
   "execution_count": null,
   "id": "b93a40f6-95db-43e1-b20d-9082ebf59d2d",
   "metadata": {},
   "outputs": [],
   "source": []
  },
  {
   "cell_type": "markdown",
   "id": "0c1ee233-0fb1-4ad4-b02c-52cf6d271cb9",
   "metadata": {},
   "source": [
    "list a bool"
   ]
  },
  {
   "cell_type": "code",
   "execution_count": 25,
   "id": "007a2346-0736-479c-b763-0cb26a1b7d1f",
   "metadata": {},
   "outputs": [
    {
     "data": {
      "text/plain": [
       "(False, True, True)"
      ]
     },
     "execution_count": 25,
     "metadata": {},
     "output_type": "execute_result"
    }
   ],
   "source": [
    "x = bool([])\n",
    "\n",
    "y = bool([3])\n",
    "\n",
    "z = bool([\"value 1\", \"value 2\", \"value 3\", \"value 4\", \"value 5\", \"value 6\"])\n",
    "\n",
    "x, y, z"
   ]
  },
  {
   "cell_type": "markdown",
   "id": "8da69df8-2016-43ed-b961-fd883a0f87fa",
   "metadata": {},
   "source": [
    "list a bool"
   ]
  },
  {
   "cell_type": "code",
   "execution_count": 30,
   "id": "c6325f08-7bfc-4e8c-a669-baf06b0b072b",
   "metadata": {},
   "outputs": [
    {
     "data": {
      "text/plain": [
       "(False, True, True)"
      ]
     },
     "execution_count": 30,
     "metadata": {},
     "output_type": "execute_result"
    }
   ],
   "source": [
    "x = bool({})\n",
    "\n",
    "y = bool({\"clave 1\": 117, \"otra clave\": [1, -7, 3]})\n",
    "\n",
    "z = bool({685: \"pi\"})\n",
    "\n",
    "x, y, z"
   ]
  },
  {
   "cell_type": "code",
   "execution_count": 33,
   "id": "92c9b506-6a02-4701-adae-790e082669f4",
   "metadata": {},
   "outputs": [
    {
     "data": {
      "text/plain": [
       "(False, True, True)"
      ]
     },
     "execution_count": 33,
     "metadata": {},
     "output_type": "execute_result"
    }
   ],
   "source": [
    "x = bool(set())\n",
    "\n",
    "y = bool(set([1]))\n",
    "\n",
    "z = bool(set([1, 1, 2, 3, 4]))\n",
    "\n",
    "x, y, z"
   ]
  },
  {
   "cell_type": "code",
   "execution_count": null,
   "id": "24d4954a-0590-4847-a703-c62bf611361f",
   "metadata": {},
   "outputs": [],
   "source": []
  },
  {
   "cell_type": "markdown",
   "id": "77c13e39-c971-4be2-b0a9-9d731ccf01f6",
   "metadata": {},
   "source": [
    "# Estructuras de datos"
   ]
  },
  {
   "cell_type": "markdown",
   "id": "e73acd1f-f7c2-440a-bd65-e8c8b504c735",
   "metadata": {},
   "source": [
    "## tuple, list, dict y set."
   ]
  },
  {
   "cell_type": "markdown",
   "id": "ec0abd11-745c-49f9-b1b1-332959cf454a",
   "metadata": {},
   "source": [
    "Fundamentalmente, se utilizan para almacenar elementos en una variable."
   ]
  },
  {
   "cell_type": "markdown",
   "id": "40e3d73b-d06c-4cd5-a295-912156bc58b2",
   "metadata": {},
   "source": [
    "### List"
   ]
  },
  {
   "cell_type": "markdown",
   "id": "282a7860-9a5f-481f-916a-869b4b1fc6ba",
   "metadata": {},
   "source": [
    "1. Almacena elementos identificados por un indice entero que aumenta secuencialmente a medida que se añaden elementos.\n",
    "1. Permite almacenar elementos de diferentes tipos de datos.\n",
    "1. (indexing or subscripting) Para indexar, o sea, leer elementos de la lista...\n",
    "   \n",
    "    Si `planets` es una lista con elementos...\n",
    "    1. Leer el 1º elemento y luego el 2º:\n",
    "       - `planets[0]`, `planets[1]`\n",
    "    1. Leer el último elemento y luego el penúltimo:\n",
    "       - `planets[-1]`, `planets[-2]`\n",
    "    1. Leer elementos desde el inicio de la lista hasta el índice *n* (*n* puede ser cualquier número entero):\n",
    "       - `planets[:n]`\n",
    "    1. Leer desde el índice *n* hasta el final de la lista:\n",
    "       - `planets[n:]`\n",
    "    1. Leer desde el índice *n* hasta el penúltimo elemento de la lista:\n",
    "       - `planets[n:-1]`\n",
    "    1. Leer la lista de *n* en *n* (2 en 2, 3 en 3...):\n",
    "       - `planets[::2]` `planets[::3]`\n",
    "    1. Leer la lista al revés:\n",
    "       - `planets[::-1]`\n",
    "\n",
    "**Importante**: las listas son estructuras de datos **mutables**. Significa que permiten añadir, retirar elementos y modificar los elementos almacenados."
   ]
  },
  {
   "cell_type": "markdown",
   "id": "d18b2c8b-15a6-4635-99bc-024962958ae1",
   "metadata": {},
   "source": [
    "#### Ejemplos listas"
   ]
  },
  {
   "cell_type": "code",
   "execution_count": 15,
   "id": "26ed9067-32c1-415c-ae45-41d4b7fd76f7",
   "metadata": {},
   "outputs": [
    {
     "data": {
      "text/plain": [
       "(['mercury', 'venus', 'earth'],\n",
       " ['mars', 'jupyter', 'saturn', 'uranus', 'neptune'])"
      ]
     },
     "execution_count": 15,
     "metadata": {},
     "output_type": "execute_result"
    }
   ],
   "source": [
    "n = 3\n",
    "\n",
    "planetas_cercanos_sol = planets[:n]\n",
    "planetas_lejanos_sol = planets[n:]\n",
    "\n",
    "planetas_cercanos_sol, planetas_lejanos_sol"
   ]
  },
  {
   "cell_type": "code",
   "execution_count": 2,
   "id": "dc97b0de-55a3-4542-a9df-c0d0c659c131",
   "metadata": {},
   "outputs": [
    {
     "name": "stdout",
     "output_type": "stream",
     "text": [
      "The planets available are: \n",
      "\t ['mercury', 'venus', 'earth', 'mars', 'jupyter', 'saturn', 'uranus', 'neptune']\n",
      "\n",
      "The first planet is 'mercury' and the second one is 'venus'\n",
      "\n",
      "The last 'planet' is 'neptune' and the second-to-last one is 'uranus'\n"
     ]
    }
   ],
   "source": [
    "planets = [\"mercury\", \"venus\", \"earth\", \"mars\", \"jupyter\", \"saturn\", \"uranus\", \"neptune\"]\n",
    "elements_name = \"planet\"\n",
    "\n",
    "# Print a formatted message as output to the console\n",
    "print(f\"The planets available are: \\n\\t {planets}\\n\")\n",
    "\n",
    "# A.1\n",
    "first_planet = planets[0]\n",
    "# A.2\n",
    "second_planet = planets[1]\n",
    "\n",
    "# Print a formatted message as output to the console\n",
    "print(f\"The first {elements_name} is '{first_planet}' and the second one is '{second_planet}'\\n\")\n",
    "\n",
    "# B.1\n",
    "last_planet = planets[-1]\n",
    "# B.2\n",
    "penultimate_planet = planets[-2]\n",
    "\n",
    "# Output message\n",
    "print(f\"The last '{elements_name}' is '{last_planet}' and the second-to-last one is '{penultimate_planet}'\")"
   ]
  },
  {
   "cell_type": "code",
   "execution_count": 3,
   "id": "62a55525-fed5-446a-90a0-014a304a1f1f",
   "metadata": {},
   "outputs": [
    {
     "name": "stdout",
     "output_type": "stream",
     "text": [
      "The planets available are: \n",
      "\t ['mercury', 'venus', 'earth', 'mars', 'jupyter', 'saturn', 'uranus', 'neptune']\n",
      "\n",
      "The first 3 planets are '['mercury', 'venus', 'earth']'\n",
      "\n",
      "The 4º-to-last planets are ['mars', 'jupyter', 'saturn', 'uranus', 'neptune'], a total of 5\n",
      "\n",
      "The 4º-to-last planets are ['mars', 'jupyter', 'saturn', 'uranus'], a total of 4\n"
     ]
    }
   ],
   "source": [
    "print(f\"The planets available are: \\n\\t {planets}\\n\")\n",
    "\n",
    "index = 3\n",
    "\n",
    "# C\n",
    "first_3_planets = planets[:index]\n",
    "\n",
    "# Print a formatted message as output to the console\n",
    "print(f\"The first {index} {elements_name}s are '{first_3_planets}'\\n\")\n",
    "\n",
    "# D\n",
    "fourth_to_last_planets = planets[index:]\n",
    "n_D_planets = len(fourth_to_last_planets)\n",
    "\n",
    "# Output message\n",
    "print(f\"The {index + 1}º-to-last {elements_name}s are {fourth_to_last_planets}, a total of {n_D_planets}\\n\")\n",
    "\n",
    "# E\n",
    "fourth_to_penultimate_planets = planets[index:-1]\n",
    "n_E_planets = len(fourth_to_penultimate_planets)\n",
    "\n",
    "# Output message\n",
    "print(f\"The {index + 1}º-to-last {elements_name}s are {fourth_to_penultimate_planets}, a total of {n_E_planets}\")"
   ]
  },
  {
   "cell_type": "code",
   "execution_count": 4,
   "id": "c9817495-9062-401a-b780-b950c7c0dbf7",
   "metadata": {},
   "outputs": [
    {
     "name": "stdout",
     "output_type": "stream",
     "text": [
      "The planets available are: \n",
      "\t ['mercury', 'venus', 'earth', 'mars', 'jupyter', 'saturn', 'uranus', 'neptune']\n",
      "\n",
      "From point F., we've got: \n",
      "\t['mercury', 'earth', 'jupyter', 'uranus']\n",
      "\n",
      "For point G., we've got: \n",
      "\t['mercury', 'mars', 'uranus']\n"
     ]
    }
   ],
   "source": [
    "print(f\"The planets available are: \\n\\t {planets}\\n\")\n",
    "\n",
    "# F\n",
    "planets_by_2 = planets[::2]\n",
    "\n",
    "# Output message\n",
    "print(f\"From point F., we've got: \\n\\t{planets_by_2}\\n\")\n",
    "\n",
    "# G\n",
    "planets_by_3 = planets[::3]\n",
    "\n",
    "print(f\"For point G., we've got: \\n\\t{planets_by_3}\")"
   ]
  },
  {
   "cell_type": "markdown",
   "id": "153045f0-9784-4c09-8b96-7b28ca522388",
   "metadata": {},
   "source": [
    "### Tuple"
   ]
  },
  {
   "cell_type": "markdown",
   "id": "f2575a47-7d0e-4625-8290-311bfeff6cc3",
   "metadata": {},
   "source": [
    "Podemos extrapolar lo explicado anteriormente sobre listas a las tuplas. \n",
    "\n",
    "**Importante**: las tuplas son estructuras de datos **inmutables**. Significa que SOLO es posible almacenar elementos en el momento de construcción de la tupla."
   ]
  },
  {
   "cell_type": "markdown",
   "id": "dc0463f2-a1f0-4a04-8838-732b7fd9a2d3",
   "metadata": {},
   "source": [
    "#### Ejemplos tuples"
   ]
  },
  {
   "cell_type": "code",
   "execution_count": 16,
   "id": "3a930b0e-9315-4d8c-8ad1-feadc77d49ad",
   "metadata": {},
   "outputs": [
    {
     "name": "stdout",
     "output_type": "stream",
     "text": [
      "The planets available are: \n",
      "\t ('mercury', 'venus', 'earth', 'mars', 'jupyter', 'saturn', 'uranus', 'neptune')\n",
      "\n",
      "The first planet is 'mercury' and the second one is 'venus'\n",
      "\n",
      "The last 'planet' is 'neptune' and the second-to-last one is 'uranus'\n"
     ]
    }
   ],
   "source": [
    "planets = (\"mercury\", \"venus\", \"earth\", \"mars\", \"jupyter\", \"saturn\", \"uranus\", \"neptune\")\n",
    "elements_name = \"planet\"\n",
    "\n",
    "# Print a formatted message as output to the console\n",
    "print(f\"The planets available are: \\n\\t {planets}\\n\")\n",
    "\n",
    "# A.1\n",
    "first_planet = planets[0]\n",
    "# A.2\n",
    "second_planet = planets[1]\n",
    "\n",
    "# Print a formatted message as output to the console\n",
    "print(f\"The first {elements_name} is '{first_planet}' and the second one is '{second_planet}'\\n\")\n",
    "\n",
    "# B.1\n",
    "last_planet = planets[-1]\n",
    "# B.2\n",
    "penultimate_planet = planets[-2]\n",
    "\n",
    "# Output message\n",
    "print(f\"The last '{elements_name}' is '{last_planet}' and the second-to-last one is '{penultimate_planet}'\")"
   ]
  },
  {
   "cell_type": "code",
   "execution_count": 17,
   "id": "72c2f53c-8a9c-4a7e-96e8-4d837b55f21b",
   "metadata": {},
   "outputs": [
    {
     "name": "stdout",
     "output_type": "stream",
     "text": [
      "The planets available are: \n",
      "\t ('mercury', 'venus', 'earth', 'mars', 'jupyter', 'saturn', 'uranus', 'neptune')\n",
      "\n",
      "The first 3 planets are '('mercury', 'venus', 'earth')'\n",
      "\n",
      "The 4º-to-last planets are ('mars', 'jupyter', 'saturn', 'uranus', 'neptune'), a total of 5\n",
      "\n",
      "The 4º-to-last planets are ('mars', 'jupyter', 'saturn', 'uranus'), a total of 4\n"
     ]
    }
   ],
   "source": [
    "print(f\"The planets available are: \\n\\t {planets}\\n\")\n",
    "\n",
    "index = 3\n",
    "\n",
    "# C\n",
    "first_3_planets = planets[:index]\n",
    "\n",
    "# Print a formatted message as output to the console\n",
    "print(f\"The first {index} {elements_name}s are '{first_3_planets}'\\n\")\n",
    "\n",
    "# D\n",
    "fourth_to_last_planets = planets[index:]\n",
    "n_D_planets = len(fourth_to_last_planets)\n",
    "\n",
    "# Output message\n",
    "print(f\"The {index + 1}º-to-last {elements_name}s are {fourth_to_last_planets}, a total of {n_D_planets}\\n\")\n",
    "\n",
    "# E\n",
    "fourth_to_penultimate_planets = planets[index:-1]\n",
    "n_E_planets = len(fourth_to_penultimate_planets)\n",
    "\n",
    "# Output message\n",
    "print(f\"The {index + 1}º-to-last {elements_name}s are {fourth_to_penultimate_planets}, a total of {n_E_planets}\")"
   ]
  },
  {
   "cell_type": "code",
   "execution_count": 18,
   "id": "9114f4dd-61bd-42a8-81ab-56c137328ee3",
   "metadata": {},
   "outputs": [
    {
     "name": "stdout",
     "output_type": "stream",
     "text": [
      "The planets available are: \n",
      "\t ('mercury', 'venus', 'earth', 'mars', 'jupyter', 'saturn', 'uranus', 'neptune')\n",
      "\n",
      "From point F., we've got: \n",
      "\t('mercury', 'earth', 'jupyter', 'uranus')\n",
      "\n",
      "For point G., we've got: \n",
      "\t('mercury', 'mars', 'uranus')\n"
     ]
    }
   ],
   "source": [
    "print(f\"The planets available are: \\n\\t {planets}\\n\")\n",
    "\n",
    "# F\n",
    "planets_by_2 = planets[::2]\n",
    "\n",
    "# Output message\n",
    "print(f\"From point F., we've got: \\n\\t{planets_by_2}\\n\")\n",
    "\n",
    "# G\n",
    "planets_by_3 = planets[::3]\n",
    "\n",
    "print(f\"For point G., we've got: \\n\\t{planets_by_3}\")"
   ]
  },
  {
   "cell_type": "code",
   "execution_count": null,
   "id": "d268eaa8-09f2-434b-bb2c-efdcfea6d726",
   "metadata": {},
   "outputs": [],
   "source": [
    "## Estructuras Extras: librería collections"
   ]
  },
  {
   "cell_type": "markdown",
   "id": "ad5eb7a3-1b5a-44b3-bcda-f80768a4eae2",
   "metadata": {},
   "source": [
    "### Set"
   ]
  },
  {
   "cell_type": "markdown",
   "id": "712778a3-3d5d-4b2b-b4a4-a8a57f4770c3",
   "metadata": {},
   "source": [
    "set() o conjunto se asemeja a los conjuntos matemáticos (piensa en los <a href=https://en.wikipedia.org/wiki/Venn_diagram>Diagramas de Venn</a>). Es útil cuando queremos computar...\n",
    "\n",
    "1. Los elementos únicos de otro iterable (lista, tupla, etc).\n",
    "2. La unión e intersección entre dos sets.\n",
    "\n",
    "**Importante**: las tuplas son estructuras de datos **inmutables**. Significa que SOLO es posible almacenar elementos en el momento de construcción de la tupla."
   ]
  },
  {
   "cell_type": "code",
   "execution_count": null,
   "id": "8d0d6b64-a9ff-47c7-b34f-0d086be5eec0",
   "metadata": {},
   "outputs": [],
   "source": []
  },
  {
   "cell_type": "markdown",
   "id": "fad06a75-706d-4add-ad3a-a34e9daafac3",
   "metadata": {},
   "source": [
    "#### Methods of set"
   ]
  },
  {
   "cell_type": "code",
   "execution_count": 44,
   "id": "5817edab-bb13-4583-aeb6-1eebea3a1e8d",
   "metadata": {},
   "outputs": [
    {
     "data": {
      "text/plain": [
       "{'circular_beam', 'new_beam', 'rect_beam', 'trapz_beam'}"
      ]
     },
     "execution_count": 44,
     "metadata": {},
     "output_type": "execute_result"
    }
   ],
   "source": [
    "structures_cathalogue_B"
   ]
  },
  {
   "cell_type": "code",
   "execution_count": 63,
   "id": "fcaf7cd7-63b8-4bc4-9eed-4c9fa48bc10c",
   "metadata": {},
   "outputs": [
    {
     "name": "stdout",
     "output_type": "stream",
     "text": [
      "original set : {0, 1, 2, 3}\n",
      "original set after adding 4: {0, 1, 2, 3, 4}\n",
      "\n",
      "original set after cleaning: set()\n",
      "\n",
      "difference A from B: set()\n",
      "difference B from A: {'new_beam'}\n"
     ]
    },
    {
     "data": {
      "text/plain": [
       "(set(), {'new_beam'})"
      ]
     },
     "execution_count": 63,
     "metadata": {},
     "output_type": "execute_result"
    }
   ],
   "source": [
    "damage_levels = set([2, 2, 3, 0, 1, 3])\n",
    "print(f\"original set : {damage_levels}\")\n",
    "\n",
    "damage_levels.add(4) # añade un elemento\n",
    "print(f\"original set after adding 4: {damage_levels}\")\n",
    "\n",
    "damage_levels.clear() # limpia el objeto set de elementos\n",
    "print(f\"\\noriginal set after cleaning: {damage_levels}\")\n",
    "\n",
    "structures_cathalogue_A = set([\"rect_beam\", \"trapz_beam\", \"circular_beam\"])\n",
    "structures_cathalogue_B = set([\"new_beam\", \"rect_beam\", \"trapz_beam\", \"circular_beam\"])\n",
    "\n",
    "diff_A_from_B = structures_cathalogue_A.difference(structures_cathalogue_B)\n",
    "diff_B_from_A = structures_cathalogue_B.difference(structures_cathalogue_A)\n",
    "\n",
    "print(f\"\\ndifference A from B: {diff_A_from_B}\")\n",
    "print(f\"difference B from A: {diff_B_from_A}\")\n",
    "\n",
    "diff_A_from_B.difference_update, diff_B_from_A"
   ]
  },
  {
   "cell_type": "markdown",
   "id": "3566af87-3f06-4a01-bc68-748f6d9ffc87",
   "metadata": {},
   "source": [
    "#### Ejemplos sets"
   ]
  },
  {
   "cell_type": "code",
   "execution_count": null,
   "id": "37c9fb8a-2fc2-4769-bb06-dd3dad58a981",
   "metadata": {},
   "outputs": [],
   "source": [
    "diff_B_from_A."
   ]
  },
  {
   "cell_type": "code",
   "execution_count": 36,
   "id": "3f99140e-f75c-40ee-971c-cc636736f5c7",
   "metadata": {},
   "outputs": [
    {
     "data": {
      "text/plain": [
       "{0, 1, 2, 3, 4, 5, 6, 7}"
      ]
     },
     "execution_count": 36,
     "metadata": {},
     "output_type": "execute_result"
    }
   ],
   "source": [
    "sample_damage_levels = [7, 1, 1, 3, 0, 4, 1, 2, 7, 6, 1, 2, 5, 0, 1, 7, 0, 6, 0]\n",
    "\n",
    "# Valores únicos\n",
    "damage_levels = set(sample_damage_levels)\n",
    "damage_levels"
   ]
  },
  {
   "cell_type": "code",
   "execution_count": 37,
   "id": "bb8b8ee0-f3a5-4287-9dd4-b3e846123353",
   "metadata": {},
   "outputs": [
    {
     "name": "stdout",
     "output_type": "stream",
     "text": [
      "Al añadir 0 (ya existente):\n",
      "\t{0, 1, 2, 3, 4, 5, 6, 7}\n",
      "Al añadir 0 (no existente):\n",
      "\t{0, 1, 2, 3, 4, 5, 6, 7, 8}\n"
     ]
    }
   ],
   "source": [
    "damage_levels.add(0)\n",
    "print(f\"Al añadir 0 (ya existente):\\n\\t{damage_levels}\")\n",
    "\n",
    "damage_levels.add(8)\n",
    "print(f\"Al añadir 0 (no existente):\\n\\t{damage_levels}\")"
   ]
  },
  {
   "cell_type": "markdown",
   "id": "18629c83-5feb-4a87-8ade-acf2b3310b4f",
   "metadata": {},
   "source": [
    "#### Methods of set"
   ]
  },
  {
   "cell_type": "code",
   "execution_count": 40,
   "id": "5f99f093-f981-4bf9-a477-4723d43a427b",
   "metadata": {},
   "outputs": [],
   "source": [
    "damage_levels = set([2, 2, 3, 0, 1, 3])\n",
    "\n",
    "damage_levels.clear() "
   ]
  },
  {
   "cell_type": "markdown",
   "id": "d60ce7df-b1b4-49a9-9d60-9fb8fcd46aed",
   "metadata": {},
   "source": [
    "# Logica de control: if, elif y else"
   ]
  },
  {
   "cell_type": "markdown",
   "id": "2ed33ebb-4241-4194-bf4f-74369a90c638",
   "metadata": {},
   "source": [
    "En Python, las estructuras de control condicional permiten ejecutar diferentes bloques de código dependiendo de condiciones lógicas. Estas estructuras son esenciales para la toma de decisiones en un programa. A diferencia de MATLAB, Python no requiere fin de bloque (end) para cerrar las condiciones. En su lugar, usa la indentación para delimitar el alcance del código que depende de una condición."
   ]
  },
  {
   "cell_type": "markdown",
   "id": "182295a9-e6e4-4dec-95e8-bf2afa0130b8",
   "metadata": {},
   "source": [
    "Estructura básica:\n",
    "\n",
    "1. `if`: Evalúa una condición y, si es verdadera, ejecuta el bloque de código correspondiente.\n",
    "2. `elif`: Significa \"``else if``\" y permite verificar múltiples condiciones adicionales.\n",
    "3. `else`: Define el bloque de código a ejecutar si ninguna de las condiciones anteriores es verdadera."
   ]
  },
  {
   "cell_type": "code",
   "execution_count": 64,
   "id": "2c7208f0-6430-41f6-b28a-85d285a1faf0",
   "metadata": {},
   "outputs": [
    {
     "name": "stdout",
     "output_type": "stream",
     "text": [
      "x es positivo\n"
     ]
    }
   ],
   "source": [
    "x = 10\n",
    "\n",
    "if x > 0:\n",
    "    print(\"x es positivo\")\n",
    "elif x == 0:\n",
    "    print(\"x es cero\")\n",
    "else:\n",
    "    print(\"x es negativo\")"
   ]
  },
  {
   "cell_type": "markdown",
   "id": "98792bff-6eed-40f0-9fd5-8abc6d25ccda",
   "metadata": {},
   "source": [
    "Particularidades respecto a MATLAB:\n",
    "\n",
    "- No hay que usar ``end`` al final del bloque, ya que la indentación define el alcance de cada condición.\n",
    "- En Python, las condiciones se escriben sin punto y coma (``;``) ni paréntesis, lo que hace el código más limpio.\n",
    "- En MATLAB, el operador de igualdad es ``==``, y en Python es igual. Sin embargo, en MATLAB se usan condicionales como ``&&`` para \"y lógico\" y ``||`` para \"o lógico\", mientras que en Python usamos ``and`` y ``or``, respectivamente."
   ]
  },
  {
   "cell_type": "markdown",
   "id": "66b092a3-0c4b-46e2-967e-d7bb30ef307f",
   "metadata": {},
   "source": [
    "# Bucles: for y while"
   ]
  },
  {
   "cell_type": "markdown",
   "id": "4755c58b-2034-4a91-9f52-042cd80aafee",
   "metadata": {},
   "source": [
    "Los bucles permiten ejecutar repetidamente un bloque de código mientras se cumpla una condición o durante un número determinado de iteraciones. En Python, los bucles se estructuran de manera más concisa que en MATLAB, ya que no es necesario cerrar el bloque con end. Además, Python utiliza la indentación para definir el alcance del código dentro del bucle."
   ]
  },
  {
   "cell_type": "markdown",
   "id": "6c0548a1-cba3-44e3-ad75-1fab01a37a7e",
   "metadata": {},
   "source": [
    "## Bucle for"
   ]
  },
  {
   "cell_type": "markdown",
   "id": "736f36ab-04b3-4e75-9e4c-cbbff9d4207b",
   "metadata": {},
   "source": [
    "El bucle ``for`` en Python se utiliza principalmente para iterar sobre una secuencia (como una lista, tupla o cadena) o un rango de valores. A diferencia de MATLAB, donde ``for`` especifica el número de iteraciones, en Python se puede iterar directamente sobre los elementos de una secuencia o sobre un rango generado."
   ]
  },
  {
   "cell_type": "code",
   "execution_count": 67,
   "id": "4c73db35-1c42-4ca6-9a11-cf725579b985",
   "metadata": {},
   "outputs": [
    {
     "name": "stdout",
     "output_type": "stream",
     "text": [
      "0\n",
      "1\n",
      "2\n",
      "3\n",
      "4\n"
     ]
    }
   ],
   "source": [
    "for i in range(5):\n",
    "    print(i)"
   ]
  },
  {
   "cell_type": "markdown",
   "id": "12e56dd1-c2e6-43e3-90a7-5ab4e28ddec6",
   "metadata": {},
   "source": [
    "### Particularidades respecto a MATLAB:"
   ]
  },
  {
   "cell_type": "markdown",
   "id": "c661490e-353e-4ad1-b5a9-cde63ad665ae",
   "metadata": {},
   "source": [
    "En Python, no es necesario especificar un índice inicial ni un incremento en el bucle, ya que ``range()`` maneja esto de forma implícita.\n",
    "Python usa ``range(start, stop, step)`` para personalizar el rango, mientras que en MATLAB se usa la sintaxis ``start:step:stop``."
   ]
  },
  {
   "cell_type": "markdown",
   "id": "9b88e191-8b63-4bd5-8be0-1f53f7d565b1",
   "metadata": {},
   "source": [
    "## Bucle while"
   ]
  },
  {
   "cell_type": "markdown",
   "id": "ccf33ad9-3401-4adb-afce-49a863e23667",
   "metadata": {},
   "source": [
    "El bucle ``while`` ejecuta un bloque de código mientras una condición sea verdadera, similar a MATLAB. Sin embargo, en Python, la condición se evalúa en cada iteración, y la indentación organiza el código que depende de dicha condición."
   ]
  },
  {
   "cell_type": "code",
   "execution_count": 69,
   "id": "c241db50-1b47-48d2-af59-45c6062c3720",
   "metadata": {},
   "outputs": [
    {
     "name": "stdout",
     "output_type": "stream",
     "text": [
      "0\n",
      "1\n",
      "2\n",
      "3\n",
      "4\n"
     ]
    }
   ],
   "source": [
    "x = 0\n",
    "\n",
    "while x < 5:\n",
    "    print(x)\n",
    "    x += 1"
   ]
  },
  {
   "cell_type": "markdown",
   "id": "f86971ef-55d1-4a7c-a3ee-b9eeb155027e",
   "metadata": {},
   "source": [
    "### Particularidades respecto a MATLAB:"
   ]
  },
  {
   "cell_type": "markdown",
   "id": "c957c4c1-274d-4b9f-9515-75a3d5aac17d",
   "metadata": {},
   "source": [
    "En Python no es necesario usar ``end`` para cerrar el bucle.\n",
    "La condición se sigue evaluando mientras sea verdadera, como en MATLAB.\n",
    "Para modificar una variable dentro del bucle, Python usa el operador ``+=`` en lugar de ``x = x + 1``."
   ]
  },
  {
   "cell_type": "markdown",
   "id": "666069fd-8363-408b-b8bf-03c4c197d010",
   "metadata": {
    "jp-MarkdownHeadingCollapsed": true
   },
   "source": [
    "# Funciones: argumentos, positional arguments, keyword arguments, return (1 ó más), yield"
   ]
  },
  {
   "cell_type": "markdown",
   "id": "5f4cd5a8-2730-4a66-b2e1-9ea6811cc305",
   "metadata": {},
   "source": [
    "Las funciones en Python permiten encapsular un bloque de código reutilizable. Estas pueden recibir argumentos de entrada, devolver uno o más resultados, e incluso generar secuencias de valores usando `yield`.\n",
    "\n",
    "#### Definición de una función básica:\n",
    "```python\n",
    "def saludar(nombre):\n",
    "    print(f\"Hola, {nombre}\")\n",
    "```\n",
    "Esta función toma un argumento (``nombre``) y simplemente imprime un saludo."
   ]
  },
  {
   "cell_type": "markdown",
   "id": "97ae5005-62d7-475a-a9eb-117c04f3bbcf",
   "metadata": {},
   "source": [
    "## Argumentos: Posicionales (positional arguments) y por palabra clave (keyword arguments)"
   ]
  },
  {
   "cell_type": "markdown",
   "id": "84206b5e-f0d8-4909-8584-f14d11f087df",
   "metadata": {},
   "source": [
    "Los argumentos de una función en Python pueden ser:\n",
    "\n",
    "- **Argumentos posicionales** (Positional arguments): Son los que se pasan a la función según el orden en que fueron definidos.\n",
    "- **Argumentos por palabra clave** (Keyword arguments): Se pasan a la función indicando el nombre del parámetro, lo que permite alterar el orden de los argumentos."
   ]
  },
  {
   "cell_type": "markdown",
   "id": "7345118c-e840-4b7a-9690-825723a19671",
   "metadata": {},
   "source": [
    "### Ejemplo de argumentos posicionales:"
   ]
  },
  {
   "cell_type": "code",
   "execution_count": 72,
   "id": "d50d8a11-2cf3-4a00-97e6-9a63b59ae406",
   "metadata": {},
   "outputs": [
    {
     "name": "stdout",
     "output_type": "stream",
     "text": [
      "8\n"
     ]
    }
   ],
   "source": [
    "def sumar(a, b):\n",
    "    return a + b\n",
    "\n",
    "resultado = sumar(3, 5)  # 3 y 5 son argumentos posicionales\n",
    "print(resultado)  # Imprime: 8"
   ]
  },
  {
   "cell_type": "markdown",
   "id": "038cd5a1-2dfd-465d-892f-96f2c12d8587",
   "metadata": {},
   "source": [
    "### Ejemplo de argumentos por palabra clave:"
   ]
  },
  {
   "cell_type": "code",
   "execution_count": 73,
   "id": "23e9f18b-97cd-4078-9aac-b7115ba0383c",
   "metadata": {},
   "outputs": [
    {
     "name": "stdout",
     "output_type": "stream",
     "text": [
      "Nombre: Ana, Edad: 30\n"
     ]
    }
   ],
   "source": [
    "def describir_persona(nombre, edad):\n",
    "    print(f\"Nombre: {nombre}, Edad: {edad}\")\n",
    "\n",
    "describir_persona(edad=30, nombre=\"Ana\")  # Argumentos por palabra clave"
   ]
  },
  {
   "cell_type": "markdown",
   "id": "424a7749-1806-4581-934c-2d6836ee21c1",
   "metadata": {},
   "source": [
    "## Valores por defecto en los argumentos"
   ]
  },
  {
   "cell_type": "markdown",
   "id": "bba81479-f233-4dad-95d2-1e5212c1d6c8",
   "metadata": {},
   "source": [
    "Puedes asignar valores por defecto a los argumentos. Si no se pasa un valor al llamar la función, se usa el valor por defecto."
   ]
  },
  {
   "cell_type": "code",
   "execution_count": 74,
   "id": "d03a9dd9-b520-4f0c-acc5-25d4851657c8",
   "metadata": {},
   "outputs": [
    {
     "name": "stdout",
     "output_type": "stream",
     "text": [
      "Hola, desconocido\n",
      "Hola, Carlos\n"
     ]
    }
   ],
   "source": [
    "def saludar(nombre=\"desconocido\"):\n",
    "    print(f\"Hola, {nombre}\")\n",
    "\n",
    "saludar()  # Usa el valor por defecto: \"Hola, desconocido\"\n",
    "saludar(\"Carlos\")  # Usa el valor pasado: \"Hola, Carlos\""
   ]
  },
  {
   "cell_type": "markdown",
   "id": "b14a24f3-efde-4c69-bd92-865111d79f76",
   "metadata": {},
   "source": [
    "## Devolver uno o más valores con return"
   ]
  },
  {
   "cell_type": "markdown",
   "id": "8b7ae866-59ec-45e5-a4c1-aa57f48cfd04",
   "metadata": {},
   "source": [
    "Las funciones en Python pueden devolver uno o más valores usando return. Si deseas devolver múltiples valores, se pueden empaquetar en una tupla."
   ]
  },
  {
   "cell_type": "code",
   "execution_count": null,
   "id": "f504ef38-381e-40bb-a2f7-6c6dae57c977",
   "metadata": {},
   "outputs": [],
   "source": [
    "def obtener_nombres():\n",
    "    return \"Ana\", \"Luis\", \"Carlos\"\n",
    "\n",
    "nombres = obtener_nombres()\n",
    "print(nombres)  # Imprime: ('Ana', 'Luis', 'Carlos')"
   ]
  },
  {
   "cell_type": "markdown",
   "id": "c10e57b5-b7aa-4e20-a028-3460e762fb04",
   "metadata": {},
   "source": [
    "## Generar secuencias con yield"
   ]
  },
  {
   "cell_type": "markdown",
   "id": "6f900b38-938a-42eb-a788-4c6f869ad69b",
   "metadata": {},
   "source": [
    "La palabra clave ``yield`` se usa en una función generadora para devolver un valor y pausar la ejecución de la función, permitiendo retomarla más adelante. Esto es útil para trabajar con secuencias grandes de datos sin cargarlas todas en memoria a la vez."
   ]
  },
  {
   "cell_type": "code",
   "execution_count": 76,
   "id": "7ab0ce34-c647-4d92-97d8-40b170f70d8e",
   "metadata": {},
   "outputs": [
    {
     "name": "stdout",
     "output_type": "stream",
     "text": [
      "0\n",
      "1\n",
      "2\n",
      "3\n",
      "4\n"
     ]
    }
   ],
   "source": [
    "def generador_numeros():\n",
    "    for i in range(5):\n",
    "        yield i\n",
    "\n",
    "for numero in generador_numeros():\n",
    "    print(numero)"
   ]
  },
  {
   "cell_type": "markdown",
   "id": "ccbf189e-a42d-4c93-9964-b7b17cb08cdd",
   "metadata": {},
   "source": [
    "Este generador produce los números del 0 al 4 **sin almacenar toda la secuencia en memoria**, entregando cada valor cuando se solicita."
   ]
  },
  {
   "cell_type": "markdown",
   "id": "65ea6b04-9ee5-44e8-96b4-1aa74cb0b7c2",
   "metadata": {},
   "source": [
    "## Ejemplo completo de una función con diferentes tipos de argumentos y yield:"
   ]
  },
  {
   "cell_type": "code",
   "execution_count": 77,
   "id": "b9b0d2b8-9dbf-485a-b6ac-ce2f8fc4c649",
   "metadata": {},
   "outputs": [
    {
     "name": "stdout",
     "output_type": "stream",
     "text": [
      "a: 2, b: 5\n",
      "Positional args: ('extra',)\n",
      "Keyword args: {'clave': 'valor'}\n",
      "4\n",
      "6\n",
      "8\n"
     ]
    }
   ],
   "source": [
    "def procesar_datos(a, b=10, *args, **kwargs):\n",
    "    print(f\"a: {a}, b: {b}\")\n",
    "    print(f\"Positional args: {args}\")\n",
    "    print(f\"Keyword args: {kwargs}\")\n",
    "    for i in range(a, b):\n",
    "        yield i * 2\n",
    "\n",
    "# Llamando a la función\n",
    "for valor in procesar_datos(2, 5, \"extra\", clave=\"valor\"):\n",
    "    print(valor)"
   ]
  },
  {
   "cell_type": "markdown",
   "id": "b2d4f1cb-2feb-40ce-9616-215914fbeefa",
   "metadata": {},
   "source": [
    "Este ejemplo muestra cómo combinar argumentos posicionales, por palabra clave y yield para generar valores secuencialmente."
   ]
  },
  {
   "cell_type": "markdown",
   "id": "7adab62e-ad9c-4039-8f90-fc3c92ce6cf1",
   "metadata": {
    "jp-MarkdownHeadingCollapsed": true
   },
   "source": [
    "# Iterator, iterable y generators en Python"
   ]
  },
  {
   "cell_type": "markdown",
   "id": "633c6539-02f4-4b94-b1de-20176cca520b",
   "metadata": {
    "jp-MarkdownHeadingCollapsed": true
   },
   "source": [
    "En Python, los iteradores y generadores son formas de acceder a elementos de una secuencia uno a uno, lo que permite recorrer estructuras de datos de manera eficiente, sin necesidad de cargarlas completamente en memoria.\n",
    "\n",
    "## ¿Qué es un Iterable?\n",
    "\n",
    "Un objeto es iterable si se puede recorrer utilizando un bucle como `for`. Los iterables incluyen estructuras de datos como listas, tuplas, cadenas, y más. Los objetos iterables implementan el método especial `__iter__()`, que devuelve un iterador.\n",
    "\n",
    "### Ejemplo de iterable:\n",
    "```python\n",
    "mi_lista = [1, 2, 3, 4]\n",
    "for elemento in mi_lista:\n",
    "    print(elemento)\n",
    "```\n",
    "En este caso, ``mi_lista`` es iterable porque puede ser recorrida con un bucle ``for``."
   ]
  },
  {
   "cell_type": "markdown",
   "id": "a3b27763-09fa-43ec-8045-8bb1cabbdbdc",
   "metadata": {
    "jp-MarkdownHeadingCollapsed": true
   },
   "source": [
    "## ¿Qué es un Iterator?\n",
    "\n",
    "Un iterador es un objeto que implementa los métodos especiales ``__iter__()`` y ``__next__()``. El método ``__next__()`` devuelve el siguiente elemento de la secuencia y lanza una excepción StopIteration cuando no hay más elementos que recorrer."
   ]
  },
  {
   "cell_type": "markdown",
   "id": "742ccc8f-1d58-4902-9708-b7f993083e2f",
   "metadata": {},
   "source": [
    "### Ejemplo de iterador:"
   ]
  },
  {
   "cell_type": "code",
   "execution_count": 78,
   "id": "59254065-a490-4950-9840-a0a2df787315",
   "metadata": {},
   "outputs": [
    {
     "name": "stdout",
     "output_type": "stream",
     "text": [
      "1\n",
      "2\n",
      "3\n",
      "4\n"
     ]
    }
   ],
   "source": [
    "mi_lista = [1, 2, 3, 4]\n",
    "iterador = iter(mi_lista)\n",
    "\n",
    "print(next(iterador))  # Imprime 1\n",
    "print(next(iterador))  # Imprime 2\n",
    "print(next(iterador))  # Imprime 3\n",
    "print(next(iterador))  # Imprime 4\n",
    "# La próxima llamada a next(iterador) lanzará StopIteration"
   ]
  },
  {
   "cell_type": "markdown",
   "id": "e4971d40-3ded-490c-b2f4-6aa14c65af74",
   "metadata": {},
   "source": [
    "Aquí, usamos ``iter()`` para obtener un iterador a partir de un iterable y ``next()`` para obtener cada elemento sucesivo."
   ]
  },
  {
   "cell_type": "markdown",
   "id": "f70ddd0c-56b4-4849-8d0c-2485960cfcd4",
   "metadata": {
    "jp-MarkdownHeadingCollapsed": true
   },
   "source": [
    "## Generators"
   ]
  },
  {
   "cell_type": "markdown",
   "id": "8f72b1f2-3ee3-496b-b10e-4c896cd9a1dc",
   "metadata": {},
   "source": [
    "Un generador es una forma especial de crear un iterador de manera más sencilla y eficiente usando una función que incluye la palabra clave ``yield``. Los generadores permiten producir valores uno a la vez, sin almacenar la secuencia completa en memoria. Cada vez que el generador ejecuta ``yield``, la función se \"pausa\" y retoma su ejecución en la siguiente llamada."
   ]
  },
  {
   "cell_type": "markdown",
   "id": "84129025-f956-42c8-b527-09105e0338b4",
   "metadata": {},
   "source": [
    "### Sintaxis de un generador:"
   ]
  },
  {
   "cell_type": "code",
   "execution_count": 79,
   "id": "22bc784a-65a4-4994-85c1-a2af7a134fb2",
   "metadata": {},
   "outputs": [
    {
     "name": "stdout",
     "output_type": "stream",
     "text": [
      "0\n",
      "1\n"
     ]
    }
   ],
   "source": [
    "def mi_generador():\n",
    "    for i in range(5):\n",
    "        yield i\n",
    "\n",
    "gen = mi_generador()\n",
    "print(next(gen))  # Imprime 0\n",
    "print(next(gen))  # Imprime 1"
   ]
  },
  {
   "cell_type": "markdown",
   "id": "36283d30-4da2-46f7-9960-e4d19986ad45",
   "metadata": {},
   "source": [
    "En lugar de usar ``return`` como en las funciones tradicionales, ``yield`` devuelve el valor y mantiene el estado de la función, permitiendo continuar donde se dejó."
   ]
  },
  {
   "cell_type": "markdown",
   "id": "c5fb8a6c-0313-4773-9a2f-c5d6f29706ee",
   "metadata": {
    "jp-MarkdownHeadingCollapsed": true
   },
   "source": [
    "## Ventajas de los Generadores:\n",
    "1. Eficiencia en memoria: Los generadores producen elementos uno a uno, lo que es ideal para grandes volúmenes de datos.\n",
    "1. Facilidad de implementación: Las funciones con ``yield`` son más fáciles de escribir y leer que los iteradores manuales.\n",
    "1. Pausabilidad: Los generadores permiten pausar y retomar su ejecución sin perder el estado."
   ]
  },
  {
   "cell_type": "markdown",
   "id": "71c760cf-44db-4fc0-b3a7-c1166edd262c",
   "metadata": {
    "jp-MarkdownHeadingCollapsed": true
   },
   "source": [
    "## Diferencias entre ``Iterator`` y ``Generator``"
   ]
  },
  {
   "cell_type": "markdown",
   "id": "e761c356-3022-4093-ad1a-d5362d8feb85",
   "metadata": {},
   "source": [
    "- **Iteradores**: Son objetos que implementan los métodos ``__iter__()`` y ``__next__()``. Pueden ser creados manualmente o mediante el uso de estructuras como listas.\n",
    "- **Generadores**: Son una manera de crear iteradores más fácilmente usando funciones con ``yield``. A diferencia de los iteradores, los generadores son más eficientes porque no necesitan almacenar todos los elementos en memoria."
   ]
  },
  {
   "cell_type": "markdown",
   "id": "5ff2b462-a7f1-4338-8d28-c718e8a569db",
   "metadata": {
    "jp-MarkdownHeadingCollapsed": true
   },
   "source": [
    "## Ejemplo completo de uso de iterable, iterador y generador:"
   ]
  },
  {
   "cell_type": "code",
   "execution_count": 40,
   "id": "9a835e01-008a-4950-863f-1e5b5ece0089",
   "metadata": {},
   "outputs": [
    {
     "name": "stdout",
     "output_type": "stream",
     "text": [
      "Iterador:\n",
      "10\n",
      "20\n",
      "30\n",
      "Generador de pares:\n",
      "0\n",
      "2\n",
      "4\n",
      "6\n",
      "8\n"
     ]
    }
   ],
   "source": [
    "# Ejemplo de iterable e iterador\n",
    "mi_lista = [10, 20, 30]\n",
    "iterador = iter(mi_lista)\n",
    "\n",
    "print(\"Iterador:\")\n",
    "print(next(iterador))  # Imprime 10\n",
    "print(next(iterador))  # Imprime 20\n",
    "print(next(iterador))  # Imprime 30\n",
    "\n",
    "# Ejemplo de generador\n",
    "def generador_pares(max_num):\n",
    "    for n in range(0, max_num, 2):\n",
    "        yield n\n",
    "\n",
    "print(\"Generador de pares:\")\n",
    "generador_hasta_10 = generador_pares(10)\n",
    "for numero in generador_hasta_10:\n",
    "    print(numero)  # Imprime 0, 2, 4, 6, 8\n"
   ]
  },
  {
   "cell_type": "markdown",
   "id": "ae9e7179-3a1a-45b9-b9d4-644c609dc8cd",
   "metadata": {},
   "source": [
    "## Casos de uso típicos:\n",
    "- Generación de secuencias numéricas.\n",
    "- Procesamiento de grandes conjuntos de datos de manera 'perezosa' (lazy evaluation).\n",
    "- Lectura de archivos línea por línea sin cargar el archivo completo en memoria."
   ]
  },
  {
   "cell_type": "markdown",
   "id": "9b5afc9f-9396-4494-9d63-9fbd15a4de30",
   "metadata": {
    "jp-MarkdownHeadingCollapsed": true
   },
   "source": [
    "# Classes"
   ]
  },
  {
   "cell_type": "markdown",
   "id": "13b3929d-f824-4a2d-ad08-f2f2122ef6e2",
   "metadata": {},
   "source": [
    "## Clases 1: Atributos y Métodos. Instancias (Objetos). Métodos Constructor y Destructor."
   ]
  },
  {
   "cell_type": "markdown",
   "id": "85281dbd-2b2d-47a7-9197-3b0167ce0b41",
   "metadata": {},
   "source": [
    "En Python, las clases son la base de la programación orientada a objetos (OOP). En ingeniería de estructuras, las clases pueden modelar elementos estructurales como vigas, columnas o materiales. Los **atributos** representan las propiedades del elemento estructural (dimensiones, materiales), mientras que los **métodos** definen su comportamiento (cálculo de esfuerzos, deformaciones).\n",
    "\n",
    "### Definición básica de una clase\n",
    "\n",
    "Supongamos que queremos modelar una **viga**. Definimos una clase `Viga` que tiene atributos como la **longitud**, el **material** y la **carga aplicada**."
   ]
  },
  {
   "cell_type": "code",
   "execution_count": 83,
   "id": "80de9d7d-4879-43c9-aa84-1da00aa4967f",
   "metadata": {},
   "outputs": [],
   "source": [
    "class Viga():\n",
    "    # Constructor de la clase\n",
    "    def __init__(self, longitud, material, carga):\n",
    "        self.longitud = longitud  # Atributo de instancia\n",
    "        self.material = material  # Atributo de instancia\n",
    "        self.carga = carga        # Atributo de instancia\n",
    "    \n",
    "    # Método de la clase\n",
    "    def calcular_esfuerzo(self):\n",
    "        # Método simple para calcular el esfuerzo con base en la carga y longitud (fórmula simplificada)\n",
    "        return self.carga / self.longitud"
   ]
  },
  {
   "cell_type": "markdown",
   "id": "1ca55c82-5556-47e1-9e5c-7518868f5c2e",
   "metadata": {},
   "source": [
    "En este ejemplo, ``Viga`` es una clase con tres atributos de instancia: ``longitud``, ``material`` y ``carga``. También tiene un método llamado ``calcular_esfuerzo``, que devuelve el esfuerzo actuante sobre la viga."
   ]
  },
  {
   "cell_type": "markdown",
   "id": "43502493-39e9-4f51-8588-f4a8f98fa936",
   "metadata": {},
   "source": [
    "### Instancias (Objetos)"
   ]
  },
  {
   "cell_type": "markdown",
   "id": "d4b58975-0fb0-4572-825d-fd34d07da1c7",
   "metadata": {},
   "source": [
    "Para usar una clase, creamos una instancia. Cada instancia es un objeto que representa una viga única con sus propias propiedades."
   ]
  },
  {
   "cell_type": "markdown",
   "id": "06115dbd-7e60-4562-a3da-1ac1f94458fe",
   "metadata": {},
   "source": [
    "#### Crear una instancia:"
   ]
  },
  {
   "cell_type": "code",
   "execution_count": 84,
   "id": "e1dfb62d-f6c6-43da-aff1-8b2c8d4f9b92",
   "metadata": {},
   "outputs": [
    {
     "name": "stdout",
     "output_type": "stream",
     "text": [
      "El esfuerzo en la viga es: 250.0 kN/m\n"
     ]
    }
   ],
   "source": [
    "# Crear un objeto de la clase Viga\n",
    "viga1 = Viga(6, \"Acero\", 1500)\n",
    "esfuerzo = viga1.calcular_esfuerzo()\n",
    "print(f\"El esfuerzo en la viga es: {esfuerzo} kN/m\")"
   ]
  },
  {
   "cell_type": "markdown",
   "id": "e8914aa8-4e48-4364-abc7-8c633493003b",
   "metadata": {},
   "source": [
    "Aquí, ``viga1`` es una instancia de la clase ``Viga``, con una longitud de 6 metros, material de acero y una carga aplicada de 1500 kN.\n"
   ]
  },
  {
   "cell_type": "markdown",
   "id": "51efd2f1-560a-4571-a334-5563b57213a9",
   "metadata": {},
   "source": [
    "### Atributos de Clase vs Atributos de Instancia\n",
    "\n",
    "- **Atributos de instancia**: Son propiedades únicas para cada objeto. Cada viga puede tener diferentes dimensiones o cargas.\n",
    "- **Atributos de clase**: Son compartidos entre todas las instancias de una clase. Un ejemplo podría ser el módulo de elasticidad de un material común para todas las vigas de acero."
   ]
  },
  {
   "cell_type": "markdown",
   "id": "10fe532b-a35a-4010-b6b4-f1aafd729510",
   "metadata": {},
   "source": [
    "### Ejemplo de atributo de clase:"
   ]
  },
  {
   "cell_type": "code",
   "execution_count": 49,
   "id": "b1ad6701-30af-455d-bf4a-5dfe5b55ef14",
   "metadata": {},
   "outputs": [
    {
     "name": "stdout",
     "output_type": "stream",
     "text": [
      "La deformación en la columna es: 0.005291005291005291\n"
     ]
    }
   ],
   "source": [
    "class Columna():\n",
    "    modulo_elasticidad = 210000  # Módulo de elasticidad en MPa (Atributo de clase)\n",
    "\n",
    "    def __init__(self, seccion, carga):\n",
    "        self.seccion = seccion  # Área de la sección en m² (Atributo de instancia)\n",
    "        self.carga = carga      # Carga en kN (Atributo de instancia)\n",
    "\n",
    "    def calcular_deformacion(self):\n",
    "        # Fórmula simplificada: deformación = carga / (módulo de elasticidad * área)\n",
    "        return self.carga / (Columna.modulo_elasticidad * self.seccion)\n",
    "        \n",
    "# Crear una instancia de la clase Columna\n",
    "columna1 = Columna(0.3, 500)\n",
    "deformacion = columna1.calcular_deformacion()\n",
    "print(f\"La deformación en la columna es: {deformacion}\")"
   ]
  },
  {
   "cell_type": "markdown",
   "id": "9442ba2a-7786-475c-a7a9-19b343693941",
   "metadata": {},
   "source": [
    "En este caso, el módulo de elasticidad es un atributo de clase compartido por todas las columnas de acero. Cada columna tiene su propio área de sección (``seccion``) y carga (``carga``)."
   ]
  },
  {
   "cell_type": "markdown",
   "id": "b39ba9fc-0f47-4950-acc2-679d5c2e7443",
   "metadata": {
    "jp-MarkdownHeadingCollapsed": true
   },
   "source": [
    "### Métodos Constructor y Destructor"
   ]
  },
  {
   "cell_type": "markdown",
   "id": "5058ed99-55cd-4887-b110-0678f2ca2227",
   "metadata": {},
   "source": [
    "#### Constructor (``__init__``):\n",
    "El método constructor ``__init__`` se utiliza para inicializar los atributos de un objeto al momento de su creación.\n",
    "\n",
    "#### Destructor (``__del__``):\n",
    "El método destructor ``__del__`` se llama cuando un objeto es destruido. Aunque no se usa comúnmente en Python debido a la gestión automática de memoria, puede ser útil para liberar recursos o realizar otras tareas de limpieza."
   ]
  },
  {
   "cell_type": "code",
   "execution_count": 86,
   "id": "96af98a5-8839-4f95-a7fd-bd2f3ec7c24f",
   "metadata": {},
   "outputs": [
    {
     "name": "stdout",
     "output_type": "stream",
     "text": [
      "Material Concreto creado con una densidad de 2400 kg/m³.\n",
      "Material Concreto ha sido eliminado.\n"
     ]
    }
   ],
   "source": [
    "class Material:\n",
    "    def __init__(self, tipo, densidad):\n",
    "        self.tipo = tipo\n",
    "        self.densidad = densidad\n",
    "        print(f\"Material {self.tipo} creado con una densidad de {self.densidad} kg/m³.\")\n",
    "    \n",
    "    def __del__(self):\n",
    "        print(f\"Material {self.tipo} ha sido eliminado.\")\n",
    "\n",
    "# Crear y eliminar una instancia\n",
    "material1 = Material(\"Hormigon\", 2400)\n",
    "del material1  # Llama al destructor"
   ]
  },
  {
   "cell_type": "markdown",
   "id": "25042334-8fb2-4ec0-8446-dc308a5360c0",
   "metadata": {},
   "source": [
    "En este ejemplo, el método ``__init__`` se ejecuta al crear el objeto ``material1``, y el método ``__del__`` se ejecuta al eliminarlo."
   ]
  },
  {
   "cell_type": "markdown",
   "id": "2916b02a-2818-4f3b-93af-944382671392",
   "metadata": {},
   "source": [
    "### Ejemplo completo: Clases, atributos, métodos y ciclo de vida de un objeto"
   ]
  },
  {
   "cell_type": "code",
   "execution_count": null,
   "id": "2df12266-e666-4b90-b2f5-40a047ea8b98",
   "metadata": {},
   "outputs": [],
   "source": [
    "class Viga():\n",
    "    material_defecto = \"Hormigon\"  # Atributo de clase\n",
    "\n",
    "    def __init__(self, longitud, carga, material=None):\n",
    "        self.longitud = longitud  # Atributo de instancia\n",
    "        self.carga = carga        # Atributo de instancia\n",
    "        self.material = material if material else Viga.material_defecto  # Usa el atributo de clase si no se especifica uno\n",
    "        print(f\"Viga de {self.longitud} m de {self.material} creada.\")\n",
    "\n",
    "    def calcular_flecha(self):\n",
    "        # Cálculo simplificado de la flecha con una fórmula aproximada\n",
    "        flecha = (5 * self.carga * self.longitud**4) / (384 * 210000 * 0.001)\n",
    "        return flecha\n",
    "    \n",
    "    def __del__(self):\n",
    "        print(f\"Viga de {self.material} eliminada.\")\n",
    "        \n",
    "# Crear una instancia de Viga\n",
    "viga2 = Viga(8, 2000, \"Acero\")\n",
    "flecha = viga2.calcular_flecha()\n",
    "print(f\"La flecha máxima de la viga es: {flecha} mm\")\n",
    "\n",
    "# Eliminar la instancia para llamar al destructor\n",
    "del viga2"
   ]
  },
  {
   "cell_type": "markdown",
   "id": "ef59bac3-fdcc-4d1b-af6c-596801ab99ae",
   "metadata": {},
   "source": [
    "En este ejemplo:\n",
    "\n",
    "- ``Viga`` tiene un atributo de clase (``material_defecto``) que asigna \"Hormigon\" como material por defecto.\n",
    "- Los atributos de instancia (``longitud``, ``carga``, ``material``) son únicos para cada objeto.\n",
    "- El método ``__init__`` se usa para inicializar las propiedades, y el método ``__del__`` se ejecuta cuando el objeto es destruido."
   ]
  },
  {
   "cell_type": "markdown",
   "id": "18132c1b-d952-4bb2-bd06-38befe6ad42b",
   "metadata": {},
   "source": [
    "### Resumen"
   ]
  },
  {
   "cell_type": "markdown",
   "id": "ab08640b-806a-4c4f-afb0-ef2458c1e8f0",
   "metadata": {},
   "source": [
    "- **Atributos**: Son las propiedades que definen un objeto (por ejemplo, longitud, material).\n",
    "- **Métodos**: Son las funciones que definen el comportamiento de un objeto (por ejemplo, calcular esfuerzos o deformaciones).\n",
    "- **Constructor** (``__init__``): Inicializa los atributos de un objeto cuando se crea.\n",
    "- **Destructor** (``__del__``): Se llama cuando el objeto es destruido."
   ]
  },
  {
   "cell_type": "markdown",
   "id": "848aa507-18a4-49e9-895e-5da33ff911ad",
   "metadata": {},
   "source": [
    "## Clases 2: Herencia. Polimorfismos. Variables \"Privadas\". Métodos dunder (\"métodos mágicos\")\n",
    "\n",
    "En esta sección exploraremos conceptos más avanzados de la Programación Orientada a Objetos (OOP) en Python. Estos incluyen **herencia**, **polimorfismo**, variables \"privadas\" y **métodos dunder** (también llamados \"métodos mágicos\"). Estos conceptos permiten estructurar y reutilizar código de manera más eficiente, especialmente en sistemas complejos como modelos estructurales."
   ]
  },
  {
   "cell_type": "markdown",
   "id": "f0c79acd-6e1a-429f-9de5-f99c424aba3c",
   "metadata": {},
   "source": [
    "### Herencia"
   ]
  },
  {
   "cell_type": "markdown",
   "id": "76c3f918-760b-488c-8790-c953d77f893e",
   "metadata": {},
   "source": [
    "La **herencia** permite crear una nueva clase (subclase) a partir de una clase existente (superclase), reutilizando y extendiendo su funcionalidad. Por ejemplo, si tenemos una clase general `ElementoEstructural`, podemos crear subclases más específicas como `Viga`, `Columna`, etc."
   ]
  },
  {
   "cell_type": "markdown",
   "id": "1c66f70b-278b-464f-9e3b-4f6910bc18ed",
   "metadata": {},
   "source": [
    "#### Ejemplo de herencia:"
   ]
  },
  {
   "cell_type": "code",
   "execution_count": null,
   "id": "52bad968-93ca-4eb6-b944-76f001ceef9a",
   "metadata": {},
   "outputs": [],
   "source": [
    "class ElementoEstructural:\n",
    "    def __init__(self, material, carga):\n",
    "        self.material = material\n",
    "        self.carga = carga\n",
    "\n",
    "    def calcular_esfuerzo(self):\n",
    "        pass  # Método que se redefinirá en las subclases\n",
    "\n",
    "# Heredando de ElementoEstructural\n",
    "class Viga(ElementoEstructural):\n",
    "    def __init__(self, material, carga, longitud):\n",
    "        super().__init__(material, carga)\n",
    "        self.longitud = longitud\n",
    "\n",
    "    def calcular_esfuerzo(self):\n",
    "        # Fórmula simplificada para esfuerzo en una viga\n",
    "        return self.carga / self.longitud\n",
    "\n",
    "# Heredando de ElementoEstructural\n",
    "class Columna(ElementoEstructural):\n",
    "    def __init__(self, material, carga, seccion):\n",
    "        super().__init__(material, carga)\n",
    "        self.seccion = seccion\n",
    "\n",
    "    def calcular_esfuerzo(self):\n",
    "        # Fórmula simplificada para esfuerzo en una columna\n",
    "        return self.carga / self.seccion"
   ]
  },
  {
   "cell_type": "markdown",
   "id": "bec19dcf-1401-4b4d-a61c-594bbf958293",
   "metadata": {},
   "source": [
    "En este ejemplo, ``Viga`` y ``Columna`` heredan de ``ElementoEstructural``. Cada subclase tiene su propia implementación del método ``calcular_esfuerzo``, adaptada a la naturaleza del elemento estructural."
   ]
  },
  {
   "cell_type": "markdown",
   "id": "9ec079b1-aa05-48e2-8ddd-488540da9232",
   "metadata": {},
   "source": [
    "#### Crear instancias:"
   ]
  },
  {
   "cell_type": "code",
   "execution_count": null,
   "id": "1353f1c5-0833-4038-8aaf-c60b07d16a63",
   "metadata": {},
   "outputs": [],
   "source": [
    "viga1 = Viga(\"Acero\", 2000, 6)\n",
    "columna1 = Columna(\"Hormigon\", 1500, 0.3)\n",
    "\n",
    "print(f\"Esfuerzo en la viga: {viga1.calcular_esfuerzo()} kN/m\")\n",
    "print(f\"Esfuerzo en la columna: {columna1.calcular_esfuerzo()} kN/m²\")"
   ]
  },
  {
   "cell_type": "markdown",
   "id": "56d9bc9d-0158-40ed-a65f-07eca03d8db7",
   "metadata": {},
   "source": [
    "Aquí, ``viga1`` y ``columna1`` son instancias de subclases que heredan de ``ElementoEstructural``, cada una calculando el esfuerzo de manera diferente.\n",
    "\n"
   ]
  },
  {
   "cell_type": "markdown",
   "id": "f36abecf-d9d7-4f18-a261-fbbf8e0aee1a",
   "metadata": {},
   "source": [
    "### Polimorfismo"
   ]
  },
  {
   "cell_type": "markdown",
   "id": "4140f660-c917-491d-a759-658283b3e9f8",
   "metadata": {},
   "source": [
    "El polimorfismo permite que una misma operación funcione de manera diferente en clases derivadas. En el ejemplo anterior, tanto ``Viga`` como ``Columna`` tienen el método ``calcular_esfuerzo``, pero la forma en que se implementa varía según la clase. Esto es útil para trabajar con diferentes tipos de elementos estructurales de forma genérica."
   ]
  },
  {
   "cell_type": "markdown",
   "id": "a5e4e234-8059-4629-8413-cd8847587008",
   "metadata": {},
   "source": [
    "#### Ejemplo de polimorfismo:"
   ]
  },
  {
   "cell_type": "code",
   "execution_count": null,
   "id": "a1eb6bf5-38c1-493b-975e-7ca943eddd3a",
   "metadata": {},
   "outputs": [],
   "source": [
    "elementos = [Viga(\"Acero\", 2000, 6), Columna(\"Hormigon\", 1500, 0.3)]\n",
    "\n",
    "for elemento in elementos:\n",
    "    print(f\"Esfuerzo calculado: {elemento.calcular_esfuerzo()}\")"
   ]
  },
  {
   "cell_type": "markdown",
   "id": "b08aa0f5-5489-4136-9480-55eefff206e4",
   "metadata": {},
   "source": [
    "Aquí, el método ``calcular_esfuerzo`` se comporta de manera diferente según si el objeto es una ``Viga`` o una ``Columna``."
   ]
  },
  {
   "cell_type": "markdown",
   "id": "462a2b26-efea-4e2f-9960-bb4cbf473b77",
   "metadata": {},
   "source": [
    "### Variables \"Privadas\""
   ]
  },
  {
   "cell_type": "markdown",
   "id": "567ab956-b158-4807-a9ed-6f055a33017b",
   "metadata": {},
   "source": [
    "En Python, no existe un verdadero mecanismo de encapsulamiento como en otros lenguajes, pero se puede simular usando el prefijo ``__`` (doble guion bajo) para denotar que una variable o método es \"privado\". Esto evita que sea fácilmente accesible desde fuera de la clase."
   ]
  },
  {
   "cell_type": "markdown",
   "id": "3a8d056a-5cb5-45b5-9dad-87cad46761bf",
   "metadata": {},
   "source": [
    "#### Ejemplo de variable \"privada\":"
   ]
  },
  {
   "cell_type": "code",
   "execution_count": null,
   "id": "d9fb85e0-ccdb-4c70-b40f-722d6a49bc3b",
   "metadata": {},
   "outputs": [],
   "source": [
    "class SeccionTransversal:\n",
    "    def __init__(self, base, altura):\n",
    "        self.__base = base  # Variable \"privada\"\n",
    "        self.__altura = altura  # Variable \"privada\"\n",
    "\n",
    "    def calcular_area(self):\n",
    "        return self.__base * self.__altura\n",
    "\n",
    "    def get_base(self):\n",
    "        return self.__base\n",
    "\n",
    "# Crear instancia\n",
    "seccion = SeccionTransversal(0.3, 0.5)\n",
    "print(f\"Área de la sección: {seccion.calcular_area()} m²\")"
   ]
  },
  {
   "cell_type": "markdown",
   "id": "8f5d53c8-a12f-46a0-adf4-9faa0175c327",
   "metadata": {},
   "source": [
    "En este ejemplo, ``__base`` y ``__altura`` están \"privadas\" y no se pueden acceder directamente desde fuera de la clase."
   ]
  },
  {
   "cell_type": "markdown",
   "id": "b508aff4-d3cd-41b7-8053-4817c44f2508",
   "metadata": {},
   "source": [
    "#### Acceso a una variable \"privada\":\n"
   ]
  },
  {
   "cell_type": "code",
   "execution_count": null,
   "id": "6c9eb5eb-2c99-4fa8-afee-9a0e3ae3ea12",
   "metadata": {},
   "outputs": [],
   "source": [
    "# Intentar acceder directamente a la variable privada generará un error\n",
    "# print(seccion.__base)  # Error\n",
    "\n",
    "# Usar un método \"getter\" para acceder\n",
    "print(f\"Base de la sección: {seccion.get_base()} m\")"
   ]
  },
  {
   "cell_type": "markdown",
   "id": "5692866b-a0b8-45da-801a-f5781231a951",
   "metadata": {},
   "source": [
    "### Métodos dunder (métodos mágicos)\n"
   ]
  },
  {
   "cell_type": "markdown",
   "id": "2541082e-210f-4db7-868a-3f80e1e2539b",
   "metadata": {},
   "source": [
    "Los métodos dunder (double underscore), también llamados \"métodos mágicos\", son métodos especiales en Python que tienen un comportamiento definido automáticamente por el intérprete. Estos incluyen métodos como ``__init__``, ``__del__``, ``__str__``, ``__repr__``, __add__, entre otros. Pueden redefinir operaciones como la representación de un objeto, suma, multiplicación, etc.\n",
    "\n"
   ]
  },
  {
   "cell_type": "markdown",
   "id": "23d1f0ed-a8ff-45d5-a4f1-52916825a251",
   "metadata": {},
   "source": [
    "#### Ejemplo de métodos dunder:"
   ]
  },
  {
   "cell_type": "code",
   "execution_count": 89,
   "id": "ed40cb46-7d91-48e4-aa8d-ea6a16e4bb6b",
   "metadata": {},
   "outputs": [
    {
     "name": "stdout",
     "output_type": "stream",
     "text": [
      "Barra de 5 metros\n",
      "Barra de 8 metros\n"
     ]
    }
   ],
   "source": [
    "class Barra:\n",
    "    def __init__(self, longitud):\n",
    "        self.longitud = longitud\n",
    "\n",
    "    # Método mágico para representar el objeto como cadena\n",
    "    def __str__(self):\n",
    "        return f\"Barra de {self.longitud} metros\"\n",
    "\n",
    "    # Método mágico para sumar longitudes de barras\n",
    "    def __add__(self, otra_barra):\n",
    "        return Barra(self.longitud + otra_barra.longitud)\n",
    "\n",
    "# Crear dos barras\n",
    "barra1 = Barra(5)\n",
    "barra2 = Barra(3)\n",
    "\n",
    "# Usar __str__ para representar el objeto como cadena\n",
    "print(barra1)  # Imprime: Barra de 5 metros\n",
    "\n",
    "# Usar __add__ para sumar las longitudes de dos barras\n",
    "barra3 = barra1 + barra2\n",
    "print(barra3)  # Imprime: Barra de 8 metros"
   ]
  },
  {
   "cell_type": "markdown",
   "id": "05b94730-0532-4324-89bf-8667a20620ce",
   "metadata": {},
   "source": [
    "En este ejemplo, redefinimos los métodos dunder ``__str__`` para mostrar una representación de la barra, y ``__add__`` para sumar dos barras (similar a cómo se sumarían números)."
   ]
  },
  {
   "cell_type": "markdown",
   "id": "67b39bf7-fc92-4926-b5d5-45b0a13a4a3f",
   "metadata": {},
   "source": [
    "### Resumen"
   ]
  },
  {
   "cell_type": "markdown",
   "id": "5979522d-0148-49d3-ac81-abf1bde495e7",
   "metadata": {},
   "source": [
    "- **Herencia**: Permite que una clase derive de otra y reutilice sus métodos y atributos.\n",
    "- **Polimorfismo**: Permite que diferentes clases usen el mismo método con implementaciones específicas para cada una.\n",
    "- **Variables \"privadas\"**: Se simulan en Python con prefijos ``__`` para limitar el acceso a los atributos desde fuera de la clase.\n",
    "- **Métodos dunder**: Métodos especiales que permiten personalizar el comportamiento de las operaciones básicas en Python (como ``__init__``, ``__str__``, ``__add__``, etc.)."
   ]
  },
  {
   "cell_type": "markdown",
   "id": "649c194c-db58-485e-81e9-67abf59972c6",
   "metadata": {},
   "source": [
    "## Clases 3: Herencia Múltiple y el Orden de Resolución de Métodos (MRO). Función `super()`"
   ]
  },
  {
   "cell_type": "markdown",
   "id": "c5e6faec-2248-4d27-8890-5dc144252773",
   "metadata": {},
   "source": [
    "En Python, una clase puede heredar de múltiples clases base, lo que se denomina **herencia múltiple**. Este enfoque es útil cuando un objeto debe combinar características de varias clases. Sin embargo, la **herencia múltiple** también introduce complejidades, como el **Orden de Resolución de Métodos** (**MRO**), que define cómo Python decide qué método llamar cuando existen métodos con el mismo nombre en diferentes clases base.\n",
    "\n",
    "### Herencia Múltiple\n",
    "\n",
    "La **herencia múltiple** permite que una clase derive de más de una clase base. Esto es útil cuando una clase combina atributos y comportamientos de diferentes clases.\n",
    "\n",
    "#### Ejemplo de herencia múltiple:\n",
    "Supongamos que tenemos dos clases base: una clase `ElementoEstructural` y otra clase `Inspeccionable`. Queremos que la clase `VigaInspeccionada` herede de ambas para combinar las propiedades estructurales de una viga y las capacidades de inspección de un elemento."
   ]
  },
  {
   "cell_type": "code",
   "execution_count": 90,
   "id": "630ec5a9-88cb-4863-bf0b-ea271089fff8",
   "metadata": {},
   "outputs": [],
   "source": [
    "class ElementoEstructural:\n",
    "    def __init__(self, material, carga):\n",
    "        self.material = material\n",
    "        self.carga = carga\n",
    "\n",
    "    def calcular_esfuerzo(self):\n",
    "        pass  # Método que se redefinirá en las subclases\n",
    "\n",
    "class Inspeccionable:\n",
    "    def __init__(self, estado_inspeccion):\n",
    "        self.estado_inspeccion = estado_inspeccion\n",
    "\n",
    "    def inspeccionar(self):\n",
    "        return f\"Estado de inspección: {self.estado_inspeccion}\"\n",
    "\n",
    "# Clase que hereda de ElementoEstructural e Inspeccionable\n",
    "class VigaInspeccionada(ElementoEstructural, Inspeccionable):\n",
    "    def __init__(self, material, carga, longitud, estado_inspeccion):\n",
    "        ElementoEstructural.__init__(self, material, carga)\n",
    "        Inspeccionable.__init__(self, estado_inspeccion)\n",
    "        self.longitud = longitud\n",
    "\n",
    "    def calcular_esfuerzo(self):\n",
    "        # Fórmula simplificada para calcular el esfuerzo en una viga\n",
    "        return self.carga / self.longitud"
   ]
  },
  {
   "cell_type": "markdown",
   "id": "75274e52-0e80-4226-bd54-786ceb5a3850",
   "metadata": {},
   "source": [
    "En este ejemplo, la clase ``VigaInspeccionada`` hereda de ``ElementoEstructural`` e ``Inspeccionable``, permitiendo que los objetos de esta clase utilicen tanto los atributos estructurales como los métodos de inspección."
   ]
  },
  {
   "cell_type": "markdown",
   "id": "37c74809-6800-4356-866f-7824802c758e",
   "metadata": {},
   "source": [
    "#### Crear instancia:"
   ]
  },
  {
   "cell_type": "code",
   "execution_count": null,
   "id": "9c9d1ac2-f729-4408-9b27-3d83edb002e7",
   "metadata": {},
   "outputs": [],
   "source": [
    "viga_inspeccionada = VigaInspeccionada(\"Acero\", 1500, 6, \"Buen estado\")\n",
    "esfuerzo = viga_inspeccionada.calcular_esfuerzo()\n",
    "inspeccion = viga_inspeccionada.inspeccionar()\n",
    "\n",
    "print(f\"Esfuerzo en la viga: {esfuerzo} kN/m\")\n",
    "print(inspeccion)"
   ]
  },
  {
   "cell_type": "markdown",
   "id": "ca05310b-7e8e-454e-aa9c-07065811a265",
   "metadata": {},
   "source": [
    "Aquí, el objeto ``viga_inspeccionada`` hereda métodos de ambas clases base. Calcula el esfuerzo como una viga y permite inspeccionar su estado."
   ]
  },
  {
   "cell_type": "markdown",
   "id": "e6ebda95-a6ce-4a85-824c-d7749f216fc5",
   "metadata": {},
   "source": [
    "### Orden de Resolución de Métodos (MRO)"
   ]
  },
  {
   "cell_type": "markdown",
   "id": "efe17aa2-9058-49af-b813-49d2b88c7f31",
   "metadata": {},
   "source": [
    "El **MRO** determina el orden en el que Python busca un método en una jerarquía de herencia. En casos de herencia múltiple, Python sigue el **algoritmo C3 linearization** para garantizar que los métodos se busquen en un orden predecible y consistente.\n",
    "\n",
    "Para ver el MRO de una clase, se utiliza el atributo especial ``__mro__`` o el método ``mro()``."
   ]
  },
  {
   "cell_type": "markdown",
   "id": "367926a7-61f6-48a7-9e82-5a83b65b5966",
   "metadata": {},
   "source": [
    "#### Ejemplo de MRO:"
   ]
  },
  {
   "cell_type": "code",
   "execution_count": null,
   "id": "771c3e04-bd0e-47c0-b20e-64a576ea036f",
   "metadata": {},
   "outputs": [],
   "source": [
    "# Ver el orden de resolución de métodos de VigaInspeccionada\n",
    "print(VigaInspeccionada.__mro__)"
   ]
  },
  {
   "cell_type": "markdown",
   "id": "d55f90f2-2738-4f6c-898a-e3ca45858f11",
   "metadata": {},
   "source": [
    "Esto mostrará el orden en el que Python buscará métodos en la jerarquía de ``VigaInspeccionada``, empezando por la propia clase y continuando con las clases base en un orden específico."
   ]
  },
  {
   "cell_type": "markdown",
   "id": "81222690-a44d-4cdc-9c4c-8f4f9e93880e",
   "metadata": {},
   "source": [
    "### Función super()"
   ]
  },
  {
   "cell_type": "markdown",
   "id": "602a3ce4-ddca-4447-9403-0e5d6945ba64",
   "metadata": {},
   "source": [
    "La función ``super()`` se utiliza para llamar a un método de una clase base desde una subclase. Es útil en herencia múltiple porque respeta el **MRO** y permite coordinar correctamente las llamadas a métodos de múltiples clases base."
   ]
  },
  {
   "cell_type": "markdown",
   "id": "363e6971-f492-4bc4-a4cd-ce512cf62cf8",
   "metadata": {},
   "source": [
    "#### Ejemplo con super():"
   ]
  },
  {
   "cell_type": "code",
   "execution_count": 51,
   "id": "7bf44d3f-a07d-48a3-a411-5410b2511e0a",
   "metadata": {},
   "outputs": [],
   "source": [
    "class ElementoEstructural:\n",
    "    def __init__(self, material, carga):\n",
    "        self.material = material\n",
    "        self.carga = carga\n",
    "\n",
    "    def calcular_esfuerzo(self):\n",
    "        pass  # Método que se redefinirá en las subclases\n",
    "\n",
    "class Inspeccionable:\n",
    "    def __init__(self, estado_inspeccion):\n",
    "        self.estado_inspeccion = estado_inspeccion\n",
    "\n",
    "    def inspeccionar(self):\n",
    "        return f\"Estado de inspección: {self.estado_inspeccion}\"\n",
    "\n",
    "class VigaInspeccionada(ElementoEstructural, Inspeccionable):\n",
    "    def __init__(self, material, carga, longitud, estado_inspeccion):\n",
    "        # Usar super() para respetar el MRO\n",
    "        super().__init__(material, carga)\n",
    "        Inspeccionable.__init__(self, estado_inspeccion)  # Llamada explícita\n",
    "        self.longitud = longitud\n",
    "\n",
    "    def calcular_esfuerzo(self):\n",
    "        # Fórmula simplificada para calcular el esfuerzo en una viga\n",
    "        return self.carga / self.longitud"
   ]
  },
  {
   "cell_type": "markdown",
   "id": "8a0ae2cd-1f48-47cd-8721-912415453c5d",
   "metadata": {},
   "source": [
    "En este caso, utilizamos ``super()`` para llamar al constructor de ``ElementoEstructural``. Como ``super()`` respeta el **MRO**, garantiza que las clases base sean llamadas en el orden correcto. Además, ``Inspeccionable.__init__()`` se llama explícitamente para asegurar que el estado de inspección se inicializa correctamente."
   ]
  },
  {
   "cell_type": "markdown",
   "id": "bb5d35e3-ea61-4410-9bbe-5cf2f0574471",
   "metadata": {},
   "source": [
    "#### Crear instancia y ejecutar:\n"
   ]
  },
  {
   "cell_type": "code",
   "execution_count": 52,
   "id": "68ed3742-4557-4999-88b1-cc9106dd1c87",
   "metadata": {},
   "outputs": [
    {
     "name": "stdout",
     "output_type": "stream",
     "text": [
      "250.0\n",
      "Estado de inspección: Buen estado\n"
     ]
    }
   ],
   "source": [
    "viga_inspeccionada = VigaInspeccionada(\"Acero\", 1500, 6, \"Buen estado\")\n",
    "print(viga_inspeccionada.calcular_esfuerzo())\n",
    "print(viga_inspeccionada.inspeccionar())"
   ]
  },
  {
   "cell_type": "markdown",
   "id": "988536e4-1036-4608-a6e9-fc26b4d63585",
   "metadata": {},
   "source": [
    "### Resumen\n",
    "\n",
    "- **Herencia múltiple**: Permite que una clase herede de más de una clase base.\n",
    "- **MRO** (**Orden de Resolución de Métodos**): Determina el orden en que Python busca un método en una jerarquía de herencia.\n",
    "- ``super()``: Llama a métodos de clases base respetando el **MRO**, lo que es especialmente útil en herencia múltiple."
   ]
  },
  {
   "cell_type": "markdown",
   "id": "309c22b7-9092-4580-9e91-b55be14ead99",
   "metadata": {},
   "source": [
    "## Clases 4: Métodos estáticos, métodos de clase, override, clases abstractas y métodos abstractos"
   ]
  },
  {
   "cell_type": "markdown",
   "id": "bcf5149a-2ab0-4749-a654-80a979038d9e",
   "metadata": {},
   "source": [
    "En Python, los **métodos estáticos**, **métodos de clase**, **override (sobrescritura)** y las **clases y métodos abstractos** son herramientas que permiten diseñar código más flexible, modular y reutilizable. Estos conceptos son útiles en ingeniería estructural cuando queremos implementar modelos y simulaciones de estructuras."
   ]
  },
  {
   "cell_type": "markdown",
   "id": "56522043-f9ae-416a-b2d0-dc40a71968c5",
   "metadata": {
    "jp-MarkdownHeadingCollapsed": true
   },
   "source": [
    "### Métodos Estáticos"
   ]
  },
  {
   "cell_type": "markdown",
   "id": "55b8ef91-9606-4c82-8c2c-8868ea7c6820",
   "metadata": {},
   "source": [
    "Un **método estático** es una función definida dentro de una clase, pero que no necesita acceso a los atributos o métodos de la instancia de la clase. Se pueden llamar directamente desde la clase sin crear una instancia de ella. Son útiles cuando queremos realizar cálculos que no dependen del estado de un objeto."
   ]
  },
  {
   "cell_type": "markdown",
   "id": "da740b42-b0ad-447e-8b5a-8fe56af49675",
   "metadata": {},
   "source": [
    "#### Ejemplo de método estático:"
   ]
  },
  {
   "cell_type": "markdown",
   "id": "7cd4e483-872d-4b18-a12d-091d8705bd10",
   "metadata": {},
   "source": [
    "Supongamos que queremos calcular el peso de un material estructural en función de su densidad y volumen:"
   ]
  },
  {
   "cell_type": "code",
   "execution_count": 91,
   "id": "d056c062-7db3-4c76-a41e-a07ad88cb11b",
   "metadata": {},
   "outputs": [
    {
     "name": "stdout",
     "output_type": "stream",
     "text": [
      "El peso del acero es: 157.0 kg\n"
     ]
    }
   ],
   "source": [
    "class MaterialEstructural:\n",
    "    @staticmethod\n",
    "    def calcular_peso(densidad, volumen):\n",
    "        return densidad * volumen\n",
    "\n",
    "# Uso del método estático sin necesidad de instanciar la clase\n",
    "peso_acero = MaterialEstructural.calcular_peso(7850, 0.02)  # Densidad del acero en kg/m³, volumen en m³\n",
    "print(f\"El peso del acero es: {peso_acero} kg\")"
   ]
  },
  {
   "cell_type": "markdown",
   "id": "b5215198-b8a9-4030-9305-11c412369316",
   "metadata": {
    "jp-MarkdownHeadingCollapsed": true
   },
   "source": [
    "### Métodos de Clase"
   ]
  },
  {
   "cell_type": "markdown",
   "id": "6356e771-50b4-4cb4-b076-279df8ed6509",
   "metadata": {},
   "source": [
    "Un **método de clase** es aquel que recibe la clase como primer argumento, en lugar de la instancia del objeto. Para definir un método de clase, se utiliza el decorador ``@classmethod``. Los métodos de clase son útiles cuando queremos modificar o interactuar con la clase misma, no con instancias individuales."
   ]
  },
  {
   "cell_type": "markdown",
   "id": "15007c60-adf9-40be-9a8a-6f6813b822ea",
   "metadata": {},
   "source": [
    "#### Ejemplo de método de clase:"
   ]
  },
  {
   "cell_type": "markdown",
   "id": "053577ec-eba9-4ea9-9f0d-c65ba46ce90a",
   "metadata": {},
   "source": [
    "Supongamos que queremos llevar un registro del número total de instancias creadas de una clase ``ElementoEstructural``:"
   ]
  },
  {
   "cell_type": "code",
   "execution_count": 92,
   "id": "8c88c4ee-eb76-4b49-8269-60a3f7d55651",
   "metadata": {},
   "outputs": [
    {
     "name": "stdout",
     "output_type": "stream",
     "text": [
      "Número de elementos estructurales creados 2\n"
     ]
    }
   ],
   "source": [
    "class ElementoEstructural:\n",
    "    contador_elementos = 0\n",
    "\n",
    "    def __init__(self, material, carga):\n",
    "        self.material = material\n",
    "        self.carga = carga\n",
    "        ElementoEstructural.contador_elementos += 1\n",
    "\n",
    "    @classmethod\n",
    "    def obtener_numero_elementos(cls):\n",
    "        return cls.contador_elementos\n",
    "\n",
    "# Crear instancias\n",
    "viga = ElementoEstructural(\"Acero\", 1500)\n",
    "columna = ElementoEstructural(\"Hormigon\", 1000)\n",
    "\n",
    "# Uso del método de clase\n",
    "print(f\"Número de elementos estructurales creados {ElementoEstructural.obtener_numero_elementos()}\")"
   ]
  },
  {
   "cell_type": "markdown",
   "id": "115ae9eb-0aa5-4136-bc73-ebf3cab9840f",
   "metadata": {
    "jp-MarkdownHeadingCollapsed": true
   },
   "source": [
    "### Override (Sobrescritura)"
   ]
  },
  {
   "cell_type": "markdown",
   "id": "e0e4d9e9-96b1-4939-b323-62f99f049114",
   "metadata": {},
   "source": [
    "La sobrescritura de métodos permite que una subclase redefina un método que ya existe en la clase base. Esto es útil cuando queremos que una subclase tenga un comportamiento diferente al de su superclase en un método específico."
   ]
  },
  {
   "cell_type": "markdown",
   "id": "6f745f4c-b2a9-4f66-8e0a-ccff5dde8844",
   "metadata": {},
   "source": [
    "#### Ejemplo de sobrescritura:"
   ]
  },
  {
   "cell_type": "markdown",
   "id": "7e3af21e-5cee-4f57-976c-3a749d81d9a7",
   "metadata": {},
   "source": [
    "En este ejemplo, sobrescribimos el método ``calcular_esfuerzo`` de una clase base ``ElementoEstructural`` en la subclase ``Viga`` para implementar el cálculo de esfuerzo de una viga de manera específica:"
   ]
  },
  {
   "cell_type": "code",
   "execution_count": 93,
   "id": "f231c820-6669-49eb-843e-d5ea7182acd1",
   "metadata": {},
   "outputs": [
    {
     "name": "stdout",
     "output_type": "stream",
     "text": [
      "Esfuerzo en la viga: 333.3333333333333 kN/m\n"
     ]
    }
   ],
   "source": [
    "class ElementoEstructural:\n",
    "    def calcular_esfuerzo(self):\n",
    "        return \"Cálculo general de esfuerzo\"\n",
    "\n",
    "class Viga(ElementoEstructural):\n",
    "    def __init__(self, carga, longitud):\n",
    "        self.carga = carga\n",
    "        self.longitud = longitud\n",
    "\n",
    "    # Sobrescribimos el método de la clase base\n",
    "    def calcular_esfuerzo(self):\n",
    "        return self.carga / self.longitud\n",
    "\n",
    "# Crear instancia de Viga y sobrescribir el cálculo\n",
    "viga = Viga(2000, 6)\n",
    "print(f\"Esfuerzo en la viga: {viga.calcular_esfuerzo()} kN/m\")"
   ]
  },
  {
   "cell_type": "markdown",
   "id": "8e5426d1-f26d-41b4-b444-7ba859850ac7",
   "metadata": {},
   "source": [
    "### Clases Abstractas y Métodos Abstractos"
   ]
  },
  {
   "cell_type": "markdown",
   "id": "744ad729-cfb9-4663-a8ef-2cd50e8e8390",
   "metadata": {},
   "source": [
    "Una clase abstracta es una clase que no puede ser instanciada directamente. Sirve como plantilla para otras clases. Los métodos abstractos son métodos definidos en una clase abstracta que deben ser implementados por cualquier subclase que herede de ella. Las clases abstractas se definen utilizando el módulo ``abc`` (Abstract Base Classes)."
   ]
  },
  {
   "cell_type": "markdown",
   "id": "6d851d93-caf3-4dcf-8267-e08a768de964",
   "metadata": {
    "jp-MarkdownHeadingCollapsed": true
   },
   "source": [
    "#### Ejemplo de clase y métodos abstractos:"
   ]
  },
  {
   "cell_type": "markdown",
   "id": "67924244-6cbe-4daa-92aa-3e9ca41cd8c3",
   "metadata": {},
   "source": [
    "Queremos definir una clase abstracta ``ElementoEstructural`` que obligue a las subclases a implementar el método ``calcular_esfuerzo``:"
   ]
  },
  {
   "cell_type": "code",
   "execution_count": 94,
   "id": "5fd60f8d-dd5b-4dee-9e3a-33a225e40885",
   "metadata": {},
   "outputs": [
    {
     "name": "stdout",
     "output_type": "stream",
     "text": [
      "Esfuerzo en la viga: 333.3333333333333 kN/m\n",
      "Esfuerzo en la columna: 6000.0 kN/m²\n"
     ]
    }
   ],
   "source": [
    "from abc import ABC, abstractmethod\n",
    "\n",
    "class ElementoEstructural(ABC):\n",
    "    def __init__(self, material, carga):\n",
    "        self.material = material\n",
    "        self.carga = carga\n",
    "\n",
    "    @abstractmethod\n",
    "    def calcular_esfuerzo(self):\n",
    "        pass  # Debe ser implementado por las subclases\n",
    "\n",
    "class Viga(ElementoEstructural):\n",
    "    def __init__(self, material, carga, longitud):\n",
    "        super().__init__(material, carga)\n",
    "        self.longitud = longitud\n",
    "\n",
    "    def calcular_esfuerzo(self):\n",
    "        return self.carga / self.longitud\n",
    "\n",
    "class Columna(ElementoEstructural):\n",
    "    def __init__(self, material, carga, area_seccion):\n",
    "        super().__init__(material, carga)\n",
    "        self.area_seccion = area_seccion\n",
    "\n",
    "    def calcular_esfuerzo(self):\n",
    "        return self.carga / self.area_seccion\n",
    "\n",
    "# Crear instancias de subclases concretas\n",
    "viga = Viga(\"Acero\", 2000, 6)\n",
    "columna = Columna(\"Hormigon\", 3000, 0.5)\n",
    "\n",
    "print(f\"Esfuerzo en la viga: {viga.calcular_esfuerzo()} kN/m\")\n",
    "print(f\"Esfuerzo en la columna: {columna.calcular_esfuerzo()} kN/m²\")"
   ]
  },
  {
   "cell_type": "markdown",
   "id": "f3166177-f658-4704-ae8e-db82cd4918e4",
   "metadata": {
    "jp-MarkdownHeadingCollapsed": true
   },
   "source": [
    "#### En este ejemplo:"
   ]
  },
  {
   "cell_type": "markdown",
   "id": "9861ff0f-81a1-4343-b198-1c0821f472a1",
   "metadata": {},
   "source": [
    "- ``ElementoEstructural`` es una clase abstracta que no puede ser instanciada directamente.\n",
    "- ``Viga`` y ``Columna`` son subclases concretas que deben implementar el método abstracto ``calcular_esfuerzo``."
   ]
  },
  {
   "cell_type": "markdown",
   "id": "6eecd254-993f-4cd7-8a44-0ddc4b87ad38",
   "metadata": {
    "jp-MarkdownHeadingCollapsed": true
   },
   "source": [
    "### Resumen"
   ]
  },
  {
   "cell_type": "markdown",
   "id": "fe96a932-eeb0-48ba-8242-d5b4ee645431",
   "metadata": {},
   "source": [
    "- **Métodos estáticos**: No dependen de una instancia de la clase; son útiles para realizar cálculos generales.\n",
    "- **Métodos de clase**: Operan a nivel de clase y no de instancia; son útiles para mantener y manipular atributos de clase.\n",
    "- **Override** (**sobrescritura**): Permite redefinir el comportamiento de un método de una clase base en una subclase.\n",
    "- **Clases abstractas**: Son clases que no pueden ser instanciadas directamente; sirven como plantilla para las subclases.\n",
    "- **Métodos abstractos**: Son métodos definidos en una clase abstracta que deben ser implementados por las subclases."
   ]
  },
  {
   "cell_type": "markdown",
   "id": "6d3ba9a4-a22d-42c3-9a2b-0a0eb2c3c95e",
   "metadata": {
    "jp-MarkdownHeadingCollapsed": true
   },
   "source": [
    "### ¿Cuándo son útiles?:\n",
    "\n",
    "- **Métodos estáticos** son útiles cuando necesitas realizar cálculos que no dependen del estado del objeto, como en el cálculo del peso de un material basado en su densidad y volumen.\n",
    "- **Métodos de clase** te permiten trabajar con la clase en sí, como en el ejemplo de contar cuántos elementos estructurales se han creado.\n",
    "- **Override** es un mecanismo crucial cuando una subclase necesita comportarse de manera diferente a la clase base, como en el cálculo del esfuerzo de una viga o columna.\n",
    "- **Clases abstractas** te permiten diseñar una arquitectura clara, definiendo qué métodos deben ser implementados por las subclases, algo esencial en modelos complejos como los elementos estructurales."
   ]
  },
  {
   "cell_type": "markdown",
   "id": "08944632-ab72-4f18-a277-f1e455244f67",
   "metadata": {},
   "source": [
    "# Gestión de Excepciones (i.e. errores)"
   ]
  },
  {
   "cell_type": "markdown",
   "id": "4df26220-f50e-46ba-9e8c-44e5358cc2f7",
   "metadata": {},
   "source": [
    "En Python, las **excepciones** son errores que ocurren durante la ejecución de un programa. La gestión de excepciones permite capturar esos errores y dar una respuesta adecuada, evitando que el programa se detenga de forma inesperada. En aplicaciones de ingeniería estructural, donde pueden ocurrir cálculos críticos y condiciones inesperadas, es importante manejar los errores de manera eficiente.\n",
    "\n",
    "El bloque básico para manejar excepciones es `try-except`. También podemos usar `else`, `finally` y crear nuestras propias excepciones personalizadas."
   ]
  },
  {
   "cell_type": "markdown",
   "id": "f4de00d5-e3ef-4be0-949c-29b55be13904",
   "metadata": {},
   "source": [
    "## Estructura básica: `try-except`"
   ]
  },
  {
   "cell_type": "markdown",
   "id": "ac342ada-d18b-4697-9658-416a36ad6258",
   "metadata": {},
   "source": [
    "El bloque `try-except` permite intentar ejecutar un bloque de código. Si ocurre una excepción (error), el flujo del programa pasa a la sección `except`."
   ]
  },
  {
   "cell_type": "markdown",
   "id": "382fccfa-0f3e-42b3-b175-3dba15666d01",
   "metadata": {
    "jp-MarkdownHeadingCollapsed": true
   },
   "source": [
    "### Ejemplo:"
   ]
  },
  {
   "cell_type": "markdown",
   "id": "a2ed15f8-c23a-40c3-bed0-65a4f34ebca5",
   "metadata": {},
   "source": [
    "Supongamos que estamos calculando la tensión en una viga, pero existe la posibilidad de que la longitud sea cero, lo que provocaría una **división por cero**."
   ]
  },
  {
   "cell_type": "code",
   "execution_count": 1,
   "id": "204fe989-77fb-4dc7-bb22-79c7936514d1",
   "metadata": {},
   "outputs": [
    {
     "name": "stdout",
     "output_type": "stream",
     "text": [
      "200.0\n",
      "Error: La longitud no puede ser cero.\n"
     ]
    }
   ],
   "source": [
    "def calcular_esfuerzo(carga, longitud):\n",
    "    try:\n",
    "        esfuerzo = carga / longitud\n",
    "        return esfuerzo\n",
    "    except ZeroDivisionError:\n",
    "        return \"Error: La longitud no puede ser cero.\"\n",
    "\n",
    "# Prueba con una longitud válida\n",
    "print(calcular_esfuerzo(1000, 5))  # Salida: 200.0\n",
    "\n",
    "# Prueba con longitud cero\n",
    "print(calcular_esfuerzo(1000, 0))  # Salida: Error: La longitud no puede ser cero."
   ]
  },
  {
   "cell_type": "markdown",
   "id": "92e1588b-5b0f-4848-83dd-c6249e26e12d",
   "metadata": {
    "jp-MarkdownHeadingCollapsed": true
   },
   "source": [
    "## Múltiples excepciones"
   ]
  },
  {
   "cell_type": "markdown",
   "id": "ffc77eaf-0c37-4a7a-b158-7ac1817e1a8b",
   "metadata": {},
   "source": [
    "En un bloque try, pueden surgir varios tipos de errores. Podemos manejar múltiples tipos de excepciones utilizando varios bloques except."
   ]
  },
  {
   "cell_type": "markdown",
   "id": "022f1626-3d94-4a2b-afb6-96fbfcb4e556",
   "metadata": {},
   "source": [
    "### Ejemplo:"
   ]
  },
  {
   "cell_type": "markdown",
   "id": "471b01d9-65e1-4ceb-ab90-ecde6d555a7c",
   "metadata": {},
   "source": [
    "Queremos manejar tanto la división por cero como el ingreso de tipos de datos no numéricos."
   ]
  },
  {
   "cell_type": "code",
   "execution_count": null,
   "id": "5ede82f7-8e4b-4688-a840-7fcc86b3d972",
   "metadata": {},
   "outputs": [],
   "source": [
    "def calcular_esfuerzo(carga, longitud):\n",
    "    try:\n",
    "        esfuerzo = carga / longitud\n",
    "        return esfuerzo\n",
    "    except ZeroDivisionError:\n",
    "        return \"Error: La longitud no puede ser cero.\"\n",
    "    except TypeError:\n",
    "        return \"Error: Los valores de carga y longitud deben ser números.\"\n",
    "\n",
    "# Prueba con un valor no numérico\n",
    "print(calcular_esfuerzo(1000, \"cinco\"))  # Salida: Error: Los valores de carga y longitud deben ser números."
   ]
  },
  {
   "cell_type": "markdown",
   "id": "4d299e87-4b1a-4a26-b861-b3857172dd6b",
   "metadata": {
    "jp-MarkdownHeadingCollapsed": true
   },
   "source": [
    "## Uso de ``else`` y ``finally``"
   ]
  },
  {
   "cell_type": "markdown",
   "id": "7927cadd-4a09-473e-ac81-21ec1988c3a3",
   "metadata": {},
   "source": [
    "- El bloque ``else`` se ejecuta si no ocurre ninguna excepción.\n",
    "- El bloque ``finally`` siempre se ejecuta, ocurra o no una excepción. Es útil para liberar recursos o ejecutar pasos finales, como cerrar archivos o conexiones."
   ]
  },
  {
   "cell_type": "markdown",
   "id": "09f9caef-dd34-427f-8c5d-5a92f9ded779",
   "metadata": {},
   "source": [
    "### Ejemplo con ``else`` y ``finally``:"
   ]
  },
  {
   "cell_type": "markdown",
   "id": "483dcc8d-4caf-47c8-82ed-79f1d4b0c327",
   "metadata": {},
   "source": [
    "Imaginemos que estamos leyendo datos de un archivo de cargas, y queremos asegurarnos de que el archivo se cierre independientemente de si ocurrió un error."
   ]
  },
  {
   "cell_type": "code",
   "execution_count": null,
   "id": "d3ee8ecd-e79d-471a-8731-ccc88144db8c",
   "metadata": {},
   "outputs": [],
   "source": [
    "def leer_cargas(archivo):\n",
    "    try:\n",
    "        archivo_cargas = open(archivo, 'r')\n",
    "        cargas = archivo_cargas.readlines()\n",
    "    except FileNotFoundError:\n",
    "        return \"Error: El archivo no fue encontrado.\"\n",
    "    else:\n",
    "        return [float(carga.strip()) for carga in cargas]\n",
    "    finally:\n",
    "        try:\n",
    "            archivo_cargas.close()\n",
    "            print(\"El archivo ha sido cerrado.\")\n",
    "        except NameError:\n",
    "            pass  # Si no se pudo abrir el archivo, no intentamos cerrarlo\n",
    "\n",
    "# Prueba con un archivo inexistente\n",
    "print(leer_cargas(\"cargas.txt\"))  # Salida: Error: El archivo no fue encontrado. El archivo ha sido cerrado.\n"
   ]
  },
  {
   "cell_type": "markdown",
   "id": "5ab43893-1cce-48a3-bb97-beecb9f4bd16",
   "metadata": {
    "jp-MarkdownHeadingCollapsed": true
   },
   "source": [
    "## Excepciones Personalizadas"
   ]
  },
  {
   "cell_type": "markdown",
   "id": "589c36ee-a41d-4d78-8853-6a5ec9546636",
   "metadata": {},
   "source": [
    "Puedes crear tus propias excepciones personalizadas para gestionar errores específicos de tu dominio, como errores de cálculo en modelos estructurales."
   ]
  },
  {
   "cell_type": "markdown",
   "id": "5a8bb6d7-9b63-4e9d-ad14-08a7fbfd650e",
   "metadata": {},
   "source": [
    "### Ejemplo:"
   ]
  },
  {
   "cell_type": "markdown",
   "id": "46d8c961-9fb5-41d8-b4dc-d04834c07119",
   "metadata": {},
   "source": [
    "Creemos una excepción personalizada llamada ``EsfuerzoInvalidoError`` para lanzar un error cuando el esfuerzo calculado esté fuera de los límites aceptables."
   ]
  },
  {
   "cell_type": "code",
   "execution_count": null,
   "id": "87ed2c29-44f9-4a1e-8bc2-46d27730321a",
   "metadata": {},
   "outputs": [],
   "source": [
    "class EsfuerzoInvalidoError(Exception):\n",
    "    def __init__(self, esfuerzo, mensaje=\"El esfuerzo calculado es inválido.\"):\n",
    "        self.esfuerzo = esfuerzo\n",
    "        self.mensaje = mensaje\n",
    "        super().__init__(self.mensaje)\n",
    "\n",
    "def verificar_esfuerzo(esfuerzo):\n",
    "    if esfuerzo < 0 or esfuerzo > 250:\n",
    "        raise EsfuerzoInvalidoError(esfuerzo, f\"Esfuerzo inválido: {esfuerzo} MPa.\")\n",
    "    return esfuerzo\n",
    "\n",
    "# Prueba con esfuerzo fuera de los límites\n",
    "try:\n",
    "    esfuerzo = verificar_esfuerzo(300)\n",
    "except EsfuerzoInvalidoError as e:\n",
    "    print(e)"
   ]
  },
  {
   "cell_type": "markdown",
   "id": "3b15fe28-8fcf-4843-95f6-58f032d561e6",
   "metadata": {
    "jp-MarkdownHeadingCollapsed": true
   },
   "source": [
    "## Resumen"
   ]
  },
  {
   "cell_type": "markdown",
   "id": "5605baf0-67da-4cbd-8d65-3fa360da65cf",
   "metadata": {},
   "source": [
    "- try-except: Permite capturar y manejar errores.\n",
    "- **Múltiples excepciones**: Podemos capturar distintos tipos de errores con varios bloques ``except``.\n",
    "- ``else`` y ``finally``: else se ejecuta si no hay excepciones, y ``finally`` siempre se ejecuta, ideal para limpieza de recursos.\n",
    "- **Excepciones personalizadas**: Podemos definir nuestras propias excepciones para manejar casos específicos en nuestros modelos."
   ]
  },
  {
   "cell_type": "markdown",
   "id": "e9b15a93-f7a0-48a3-8451-d5aa2970df19",
   "metadata": {
    "jp-MarkdownHeadingCollapsed": true
   },
   "source": [
    "# Manejo de `pip` e Instalación de Repositorios desde GitHub"
   ]
  },
  {
   "cell_type": "markdown",
   "id": "38124106-aae1-4ca6-88b6-2cfae7ff82a8",
   "metadata": {},
   "source": [
    "https://packaging.python.org/en/latest/tutorials/installing-packages/\n",
    "\n",
    "\n",
    "Python ofrece un sistema robusto para la instalación de paquetes y bibliotecas utilizando **`pip`**, el gestor de paquetes por defecto. Además, es posible instalar repositorios directamente desde GitHub u otras fuentes de control de versiones, lo que es útil en muchos proyectos de ingeniería estructural donde se requieren herramientas especializada.s"
   ]
  },
  {
   "cell_type": "markdown",
   "id": "ccb933cb-cfca-4a68-9b1c-b30baaf15081",
   "metadata": {},
   "source": [
    "## Instalación de Paquetes con `pip`\r\n",
    "\r\n",
    "`pip` permite instalar bibliotecas directamente desde el repositorio oficial de Python, **PyPI**. Esto es útil cuando necesitas bibliotecas de terceros para tus proyecto"
   ]
  },
  {
   "cell_type": "markdown",
   "id": "c82f8a14-35a9-4c4e-90ec-a31c0e7423de",
   "metadata": {},
   "source": [
    "### Ejemplo:"
   ]
  },
  {
   "cell_type": "markdown",
   "id": "79e9cc97-8207-457b-aa58-89c8d312feab",
   "metadata": {},
   "source": [
    "Para instalar una biblioteca común como **NumPy**, que es ampliamente utilizada en ingeniería para cálculos numéricos\n",
    "\n",
    "```bash\n",
    "pip install numpy\n",
    "```"
   ]
  },
  {
   "cell_type": "markdown",
   "id": "a89b2eb2-8ac4-4557-9baa-3a010e519225",
   "metadata": {},
   "source": [
    "Puedes verificar la instalación ejecutando:"
   ]
  },
  {
   "cell_type": "code",
   "execution_count": 6,
   "id": "89528490-2d73-4c5d-b134-24260ba2df8c",
   "metadata": {},
   "outputs": [
    {
     "name": "stdout",
     "output_type": "stream",
     "text": [
      "1.26.4\n"
     ]
    }
   ],
   "source": [
    "import numpy as np\n",
    "print(np.__version__)"
   ]
  },
  {
   "cell_type": "markdown",
   "id": "d14d2f6a-6630-4dc6-9e8b-c3c3de52e4cf",
   "metadata": {},
   "source": [
    "## Requerimientos de Proyectos"
   ]
  },
  {
   "cell_type": "markdown",
   "id": "920717ab-e477-49b3-8e08-5981aab65d59",
   "metadata": {},
   "source": [
    "A menudo, los proyectos en Python contienen un archivo ``requirements.txt`` que lista las bibliotecas necesarias. Puedes instalar todas las dependencias de un proyecto usando este archivo."
   ]
  },
  {
   "cell_type": "markdown",
   "id": "fad25b76-7ed7-4f9f-942b-6335d59b7e6f",
   "metadata": {},
   "source": [
    "### Ejemplo:"
   ]
  },
  {
   "cell_type": "markdown",
   "id": "bbf4f5fb-2b43-42f4-8ae2-72d108843abd",
   "metadata": {},
   "source": [
    "Si un proyecto de análisis estructural tiene un archivo ``requirements.txt`` como el siguiente:\n",
    "```\n",
    "numpy==1.21.0\n",
    "matplotlib==3.4.2\n",
    "pandas==1.3.0\n",
    "```"
   ]
  },
  {
   "cell_type": "markdown",
   "id": "77060df9-7237-4660-ada4-b466237ce109",
   "metadata": {},
   "source": [
    "Puedes instalar todas las dependencias de este archivo ejecutando:\n",
    "```bash\n",
    "pip install -r requirements.txt\n",
    "```"
   ]
  },
  {
   "cell_type": "markdown",
   "id": "fa2c2061-961b-428d-a952-a01145bd80d2",
   "metadata": {},
   "source": [
    "## Instalación desde Repositorios de <a href=\"https://github.com/\">GitHub</a>"
   ]
  },
  {
   "cell_type": "markdown",
   "id": "e1d02467-3ab1-4e43-84d6-41eea8cacc58",
   "metadata": {},
   "source": [
    "Si necesitas instalar un paquete que está en desarrollo o que no está en <a href=\"https://pypi.org/\">Python Package Index (PyPI)</a>, puedes instalarlo directamente desde <a href=\"https://github.com/\">GitHub</a> usando ``pip``."
   ]
  },
  {
   "cell_type": "markdown",
   "id": "082fbf01-95e7-4063-acc4-ac48698e7046",
   "metadata": {},
   "source": [
    "### Ejemplo de instalación desde GitHub:"
   ]
  },
  {
   "cell_type": "markdown",
   "id": "c1b17fa3-64f6-4ea8-a61d-7783bda450f4",
   "metadata": {},
   "source": [
    "Supongamos que queremos instalar una biblioteca personalizada llamada ``estructura-tools`` desde un repositorio de GitHub.\n",
    "```bash\n",
    "pip install git+https://github.com/usuario/estructura-tools.git\r\n",
    "```"
   ]
  },
  {
   "cell_type": "markdown",
   "id": "56c0a57e-33b1-49eb-9d82-fb37e275e948",
   "metadata": {},
   "source": [
    "- ``git+https://...``: Indica que se usará Git para descargar el repositorio.\n",
    "- El formato ``usuario/nombre_del_repositorio.git`` se refiere al enlace del repositorio en GitHub."
   ]
  },
  {
   "cell_type": "markdown",
   "id": "be3e3f3d-7a55-40a0-958b-27b8c7e0c7c3",
   "metadata": {},
   "source": [
    "Si deseas instalar desde una rama específica, puedes añadir ``@rama`` al final del enlace."
   ]
  },
  {
   "cell_type": "markdown",
   "id": "27205671-d272-4121-a319-249cb8d56d0b",
   "metadata": {},
   "source": [
    "```bash\n",
    "pip install git+https://github.com/usuario/estructura-tools.git@dev-branch\n",
    "```"
   ]
  },
  {
   "cell_type": "markdown",
   "id": "a89ee29e-8b30-4d8e-bb58-3edd063e5b58",
   "metadata": {},
   "source": [
    "## Instalación de Módulos Locales o Personalizados"
   ]
  },
  {
   "cell_type": "markdown",
   "id": "ae8ba8be-1cb6-483b-9a11-5d7162daa025",
   "metadata": {},
   "source": [
    "En algunos casos, puede ser necesario instalar módulos que no están en línea, sino en tu máquina local o un repositorio privado. Para esto, puedes usar rutas locales."
   ]
  },
  {
   "cell_type": "markdown",
   "id": "eff22ad0-a8ae-4205-9926-e55eadd04747",
   "metadata": {},
   "source": [
    "### Ejemplo de instalación local:"
   ]
  },
  {
   "cell_type": "markdown",
   "id": "8ea2d97a-35b9-48f1-904a-2abb793dce5b",
   "metadata": {},
   "source": [
    "```bash\n",
    "pip install ./path/to/module\r",
    "```\n"
   ]
  },
  {
   "cell_type": "markdown",
   "id": "e32807da-cad1-4904-9774-bfbf020ec30c",
   "metadata": {},
   "source": [
    "Esto es útil cuando trabajas en equipo y necesitas instalar módulos personalizados en un entorno local."
   ]
  },
  {
   "cell_type": "markdown",
   "id": "6e848a86-2932-4bd2-8783-9fbe8a43bd6c",
   "metadata": {},
   "source": [
    "## Gestión de Versiones"
   ]
  },
  {
   "cell_type": "markdown",
   "id": "c1cb2ff0-08be-47f6-9526-6375abab7dfb",
   "metadata": {},
   "source": [
    "Con ``pip``, puedes especificar versiones exactas de bibliotecas para evitar conflictos en tus proyectos."
   ]
  },
  {
   "cell_type": "markdown",
   "id": "e6df20ec-582e-4393-89d2-0e0f3ff49b6d",
   "metadata": {},
   "source": [
    "### Ejemplo:"
   ]
  },
  {
   "cell_type": "markdown",
   "id": "4e3bf724-5d9c-473e-a0af-6f9375e844a0",
   "metadata": {},
   "source": [
    "Para instalar una versión específica de una biblioteca:\n",
    "```bash\n",
    "pip install numpy==1.19.5\n",
    "```"
   ]
  },
  {
   "cell_type": "markdown",
   "id": "590e8f6c-7447-42f4-91bf-d8bfe22e55a2",
   "metadata": {},
   "source": [
    "Además, puedes usar comparadores de versiones como ``>=`` para asegurarte de tener una versión mínima:"
   ]
  },
  {
   "cell_type": "markdown",
   "id": "ec52bdb6-f364-4844-b43b-d96cbbe1b452",
   "metadata": {},
   "source": [
    "```bash\n",
    "pip install \"numpy>=1.19.0\"\n",
    "```"
   ]
  },
  {
   "cell_type": "markdown",
   "id": "8712f287-002f-4965-b3ca-7f7a5e6b21ef",
   "metadata": {},
   "source": [
    "## Ver y Desinstalar Paquetes"
   ]
  },
  {
   "cell_type": "markdown",
   "id": "f94039c2-9a14-4a22-a94c-13d24b93ef58",
   "metadata": {},
   "source": [
    "Si deseas ver los **paquetes instalados** en tu entorno, puedes usar:"
   ]
  },
  {
   "cell_type": "markdown",
   "id": "c4d95902-0c39-4559-998c-3c64b0cb6eed",
   "metadata": {},
   "source": [
    "```bash\n",
    "pip list\n",
    "```"
   ]
  },
  {
   "cell_type": "markdown",
   "id": "8fa1a73b-2cf7-4ea5-a555-1b68f4cd3975",
   "metadata": {},
   "source": [
    "Para **desinstalar un paquete**, simplemente ejecuta:\n",
    "\n",
    "```bash\n",
    "pip uninstall nombre_del_paquete\n",
    "```\n"
   ]
  },
  {
   "cell_type": "markdown",
   "id": "41446f6f-9193-4f72-8844-90a609fb3935",
   "metadata": {},
   "source": [
    "Ejemplo:"
   ]
  },
  {
   "cell_type": "markdown",
   "id": "6b4a14f2-71df-42f7-ac15-e4d000475f3a",
   "metadata": {},
   "source": [
    "```bash\n",
    "pip uninstall numpy\n",
    "```"
   ]
  },
  {
   "cell_type": "markdown",
   "id": "f0cf6788-da27-428b-9699-1827df683378",
   "metadata": {},
   "source": [
    "## Resumen"
   ]
  },
  {
   "cell_type": "markdown",
   "id": "0f963b06-4e6f-4f40-93b0-ad65bd2d7ad7",
   "metadata": {},
   "source": [
    "- Instalación de paquetes con pip: Instala paquetes desde PyPI o desde un archivo requirements.txt.\n",
    "- Instalación desde GitHub: Usa pip para instalar repositorios directamente desde GitHub.\n",
    "- Gestión de versiones: Puedes controlar versiones exactas para evitar conflictos en proyectos.\n",
    "- Módulos locales: Instala módulos desde tu sistema local, útil en equipos o con repositorios privados.\n",
    "- Ver y desinstalar paquetes: Consulta los paquetes instalados y desinstala los que ya no necesitas.\n",
    "\n",
    "Con estos comandos y buenas prácticas, puedes gestionar eficientemente las bibliotecas y herramientas necesarias para tus proyectos, garantizando que tu entorno de trabajo esté siempre bien configurado."
   ]
  },
  {
   "cell_type": "markdown",
   "id": "5da2d6a5-55ac-4f95-ab45-928c911f09dc",
   "metadata": {},
   "source": [
    "# Importación de Librerías Instaladas"
   ]
  },
  {
   "cell_type": "markdown",
   "id": "4a9574de-fbf1-4bee-92d2-cc904197f0a0",
   "metadata": {},
   "source": [
    "En Python, es común trabajar con bibliotecas externas que extienden las funcionalidades básicas del lenguaje. Para utilizar estas bibliotecas, primero debemos importarlas en nuestros scripts. Las bibliotecas pueden ser instaladas con `pip` (como vimos en la sección anterior) y luego importadas usando la sintaxis adecuada. En esta sección, veremos las formas más comunes de importar bibliotecas y módulos."
   ]
  },
  {
   "cell_type": "markdown",
   "id": "17b36a41-7338-4c38-a090-75016672fa25",
   "metadata": {},
   "source": [
    "## Importación Directa con `import`"
   ]
  },
  {
   "cell_type": "markdown",
   "id": "66629c03-e1c9-4085-9c3e-1bd594365156",
   "metadata": {},
   "source": [
    "La forma más sencilla de importar una biblioteca es usando `import` seguido del nombre de la biblioteca. Esta sintaxis importa todo el módulo, lo que significa que puedes acceder a todas sus funciones y clases."
   ]
  },
  {
   "cell_type": "markdown",
   "id": "b3fed77c-33e9-4386-8f18-ac215b0c51ab",
   "metadata": {},
   "source": [
    "### Ejemplo usamos numpy para crear un array:"
   ]
  },
  {
   "cell_type": "markdown",
   "id": "2831934b-59cd-42bf-a854-e0e8fd439030",
   "metadata": {},
   "source": [
    "Bibliotecas como **NumPy** son esenciales para cálculos numéricos. La sintaxis básica para importar **NumPy** es la siguiente:"
   ]
  },
  {
   "cell_type": "code",
   "execution_count": 10,
   "id": "da8d9a47-9b3a-4f8f-86dd-21386b5c3c0b",
   "metadata": {},
   "outputs": [],
   "source": [
    "import numpy"
   ]
  },
  {
   "cell_type": "code",
   "execution_count": 12,
   "id": "004556a3-ed8f-431a-ac5b-bc39cfe794a6",
   "metadata": {},
   "outputs": [
    {
     "name": "stdout",
     "output_type": "stream",
     "text": [
      "[[1 2]\n",
      " [3 4]]\n"
     ]
    }
   ],
   "source": [
    "matriz = numpy.array([[1, 2], [3, 4]])\n",
    "print(matriz)"
   ]
  },
  {
   "cell_type": "markdown",
   "id": "3bed4a6f-eb40-4fa0-8120-68359f225613",
   "metadata": {},
   "source": [
    "## Importación Selectiva con from - import"
   ]
  },
  {
   "cell_type": "markdown",
   "id": "893a4f51-600d-4039-aeb0-6061632afee3",
   "metadata": {},
   "source": [
    "A veces solo necesitas importar funciones o clases específicas de un módulo en lugar de todo el módulo. Esto reduce el espacio de nombres ocupado en el script y puede hacer el código más claro."
   ]
  },
  {
   "cell_type": "markdown",
   "id": "3263af6e-8825-4569-ab14-9eaedf4c2014",
   "metadata": {},
   "source": [
    "### Ejemplo:"
   ]
  },
  {
   "cell_type": "markdown",
   "id": "6fdefd1d-90cb-4766-bdea-a07397f284a3",
   "metadata": {},
   "source": [
    "Si solo necesitas la función ``array`` de **NumPy** para crear matrices:"
   ]
  },
  {
   "cell_type": "code",
   "execution_count": null,
   "id": "224d719f-ff6a-4a7c-8c34-21685891b687",
   "metadata": {},
   "outputs": [],
   "source": [
    "from numpy import array\n",
    "\n",
    "# Ahora usamos array directamente sin la necesidad de llamar a numpy.array\n",
    "matriz = array([[1, 2], [3, 4]])\n",
    "print(matriz)"
   ]
  },
  {
   "cell_type": "markdown",
   "id": "e8cd2a1b-0ac6-47bc-962c-7af80da58086",
   "metadata": {},
   "source": [
    "Esto es útil cuando solo necesitamos algunas partes de una biblioteca grande y no queremos cargar todo el módulo."
   ]
  },
  {
   "cell_type": "markdown",
   "id": "ecc5c1c0-e644-4ffa-92aa-c3c17eb82db5",
   "metadata": {},
   "source": [
    "## Importación con Alias usando ``as``"
   ]
  },
  {
   "cell_type": "markdown",
   "id": "bb2a8c16-291f-4951-bcf2-cf1ee3a79e12",
   "metadata": {},
   "source": [
    "Es común que algunas bibliotecas tengan nombres largos o que se usen repetidamente en el código. Para simplificar su uso, podemos asignarles un alias usando ``as``."
   ]
  },
  {
   "cell_type": "markdown",
   "id": "503eeef9-380e-4e58-bfc2-3ef3f6463071",
   "metadata": {},
   "source": [
    "### Ejemplo:"
   ]
  },
  {
   "cell_type": "code",
   "execution_count": 13,
   "id": "a1e8a1e2-56d2-40eb-86d1-ef0717a6bbde",
   "metadata": {},
   "outputs": [
    {
     "name": "stdout",
     "output_type": "stream",
     "text": [
      "[[1 2]\n",
      " [3 4]]\n"
     ]
    }
   ],
   "source": [
    "import numpy as np\n",
    "\n",
    "# Usamos el alias np para acceder a las funciones de numpy\n",
    "matriz = np.array([[1, 2], [3, 4]])\n",
    "print(matriz)"
   ]
  },
  {
   "cell_type": "markdown",
   "id": "876bd7a6-6698-404b-8e55-9f8a77af9c2e",
   "metadata": {},
   "source": [
    "En ingeniería estructural, donde a menudo realizamos múltiples cálculos numéricos, el uso de alias mejora la legibilidad del código, haciéndolo más limpio y fácil de escribir."
   ]
  },
  {
   "cell_type": "markdown",
   "id": "89de1820-8a6b-41ea-bab1-50a583b074f4",
   "metadata": {},
   "source": [
    "## Combinando Importaciones"
   ]
  },
  {
   "cell_type": "markdown",
   "id": "e08a1577-6dfc-4dcf-ad7a-0fc674e2eaf8",
   "metadata": {},
   "source": [
    "En algunos casos, puedes combinar varias formas de importación para facilitar el trabajo en proyectos más grandes."
   ]
  },
  {
   "cell_type": "markdown",
   "id": "de297e1d-34c6-437d-847c-042baf019752",
   "metadata": {},
   "source": [
    "### Ejemplo:"
   ]
  },
  {
   "cell_type": "markdown",
   "id": "73cb19aa-f7da-4839-9976-79988b11ce3d",
   "metadata": {},
   "source": [
    "En un proyecto de análisis estructural, podríamos necesitar **NumPy** para cálculos numéricos y **matplotlib** para visualizar los resultados. Podemos usar un alias para una biblioteca y una importación selectiva para otra."
   ]
  },
  {
   "cell_type": "code",
   "execution_count": null,
   "id": "00ef6793-c8e5-4ba4-b81d-b42eeb09a253",
   "metadata": {},
   "outputs": [],
   "source": [
    "import numpy as np\n",
    "from matplotlib import pyplot as plt\n",
    "\n",
    "# Creamos una serie de datos de esfuerzo en una viga\n",
    "longitudes = np.array([1, 2, 3, 4, 5])\n",
    "esfuerzos = np.array([100, 150, 200, 180, 160])\n",
    "\n",
    "# Graficamos los datos\n",
    "plt.plot(longitudes, esfuerzos)\n",
    "plt.xlabel('Longitud (m)')\n",
    "plt.ylabel('Esfuerzo (MPa)')\n",
    "plt.title('Esfuerzo vs Longitud de Viga')\n",
    "plt.show()"
   ]
  },
  {
   "cell_type": "markdown",
   "id": "45bc897a-3c42-429f-9adb-bc856e0fc67a",
   "metadata": {},
   "source": [
    "## Resumen"
   ]
  },
  {
   "cell_type": "markdown",
   "id": "110f044c-c6c1-4c16-8a1b-07c4ad42f826",
   "metadata": {},
   "source": [
    "- ``import``: Importa todo el módulo, lo que permite acceder a todas las funciones y clases del mismo.\n",
    "- ``from - import``: Permite importar solo partes específicas de un módulo, lo que puede hacer el código más claro y eficiente.\n",
    "- ``as``: Asigna un alias a un módulo para simplificar su uso y mejorar la legibilidad del código.\n",
    "- Estas técnicas de importación son esenciales cuando trabajas con bibliotecas complejas como **NumPy**, **SciPy** o **matplotlib**, que son fundamentales en el análisis y modelado de estructuras en Python."
   ]
  },
  {
   "cell_type": "markdown",
   "id": "c4facac3-b895-497d-a832-dc85457d33b4",
   "metadata": {},
   "source": [
    "Con estas herramientas, puedes estructurar mejor tu código y utilizar solo lo que necesitas de cada biblioteca, haciendo que tu código sea más eficiente y fácil de mantener."
   ]
  },
  {
   "cell_type": "markdown",
   "id": "fc25faad-652d-45eb-bbe8-52fefd3b08b3",
   "metadata": {},
   "source": [
    "<h1 style=\"color:rgb(0, 100, 255)\">Gestión de Ficheros en Python</h1>"
   ]
  },
  {
   "cell_type": "markdown",
   "id": "5ee758cb-74b2-4e22-b9f8-4b338bc1509b",
   "metadata": {},
   "source": [
    "Es común trabajar con archivos para almacenar y leer datos. En nuestra aplicación particular, trataremos ficheros de datos de esfuerzos, deformaciones o incluso resultados de simulaciones. Python ofrece varias formas de manejar archivos, incluyendo la apertura, lectura, escritura y cierre de archivos. También veremos cómo los context managers () simplifican este proceso."
   ]
  },
  {
   "cell_type": "markdown",
   "id": "37f416ed-e254-4bdd-bb34-2b86bc881374",
   "metadata": {},
   "source": [
    "## Abrir un Fichero: `open()`"
   ]
  },
  {
   "cell_type": "markdown",
   "id": "aa74928c-8664-4d7d-a973-606a3d4a3b53",
   "metadata": {},
   "source": [
    "Para trabajar con un archivo en Python, primero debemos abrirlo utilizando la función **`open()`**, que toma al menos dos argumentos:\n",
    "\n",
    "- El **nombre del archivo** (ruta del archivo).\n",
    "- El **modo** en que queremos abrir el archivo (lectura, escritura, etc.)."
   ]
  },
  {
   "cell_type": "markdown",
   "id": "976a2c4b-5504-4b53-bc9a-d6f345c921b4",
   "metadata": {},
   "source": [
    "### Ejemplo:"
   ]
  },
  {
   "cell_type": "code",
   "execution_count": null,
   "id": "a87d263f-d08f-4a8e-934f-7986bd834997",
   "metadata": {},
   "outputs": [],
   "source": [
    "archivo = open('esfuerzos.txt', 'r')  # Abrimos el archivo en modo lectura ('r')"
   ]
  },
  {
   "cell_type": "markdown",
   "id": "bcc2061a-4698-4a1e-be74-3aba97b059f2",
   "metadata": {
    "jp-MarkdownHeadingCollapsed": true
   },
   "source": [
    "## Modos de Apertura y su Aplicación"
   ]
  },
  {
   "cell_type": "markdown",
   "id": "84c11afe-350a-4939-b529-8da7bb9fd272",
   "metadata": {},
   "source": [
    "\r\n",
    "Los modos de apertura en Python determinan cómo interactuamos con un archivo: si vamos a leer, escribir o modificar su contenido. A continuación, se explican los modos más comunes, su aplicación en ingeniería estructural y qué ocurre si el archivo no existe:\r\n",
    "\r\n",
    "- **Lectura (`'r'`)**: Abre el archivo para lectura. **Si el archivo no existe**, se lanzará un error (`FileNotFoundError`). Este modo es útil para leer datos de mediciones o simulaciones previas.\r\n",
    "  \r\n",
    "- **Escritura (`'w'`)**: Abre el archivo para escritura. **Si el archivo no existe**, Python lo creará automáticamente. **Si ya existe**, sobrescribirá el contenido del archivo. Se utiliza para guardar resultados de simulaciones.\r\n",
    "\r\n",
    "- **Adjuntar (`'a'`)**: Abre el archivo para añadir contenido al final. **Si el archivo no existe**, también lo creará automáticamente. **Si ya existe**, no sobrescribirá el contenido anterior, sino que agregará los nuevos datos al final. Es ideal para añadir nuevas mediciones o resultados sin borrar los antiguos.\r\n",
    "\r\n",
    "- **Lectura/Escritura (`'r+'`)**: Permite leer y escribir en el mismo archivo. **Si el archivo no existe**, se lanzará un error (`FileNotFoundError`). Este modo es útil para actualizar archivos de datos existentes sin perder la información original.\r\n",
    "\r\n",
    "- **Binario (`'b'`)**: Añadir `'b'` a los modos anteriores (`'rb'`, `'wb'`, `'ab'`, `'r+b'`) permite trabajar con archivos binarios, como imágenes o archivos de datos estructurados. **El comportamiento respecto a la existencia del archivo es el mismo** que en los modos de texto: `'rb'` fallará si el archivo no existe, mientras que `'wb'` o `'ab'` lo crearán si no es presente.\r\n",
    "\r\n"
   ]
  },
  {
   "cell_type": "markdown",
   "id": "a3e86d0e-e882-4ebc-989e-dd6874950f64",
   "metadata": {
    "jp-MarkdownHeadingCollapsed": true
   },
   "source": [
    "## Lectura de Ficheros"
   ]
  },
  {
   "cell_type": "markdown",
   "id": "80f466eb-e252-47c9-aa0a-97a5980e54e5",
   "metadata": {},
   "source": [
    "Una vez que el archivo está abierto, podemos leer su contenido. Hay varias formas de hacerlo:"
   ]
  },
  {
   "cell_type": "markdown",
   "id": "4557e7c5-5aee-45f1-9120-2b8157c124cf",
   "metadata": {},
   "source": [
    "### Ejemplo: Leer todo el contenido"
   ]
  },
  {
   "cell_type": "code",
   "execution_count": null,
   "id": "36f4aee7-e569-4ff2-85d4-221d1eba046f",
   "metadata": {},
   "outputs": [],
   "source": [
    "archivo = open('esfuerzos.txt', 'r')\n",
    "contenido = archivo.read()\n",
    "print(contenido)\n",
    "archivo.close()  # Cerramos el archivo después de su uso"
   ]
  },
  {
   "cell_type": "markdown",
   "id": "a60f4742-3ca8-4472-875e-3488e9e70731",
   "metadata": {},
   "source": [
    "Los datos numéricos suelen estar organizados en líneas, por lo que leer un archivo línea por línea es útil cuando tratamos con grandes volúmenes de datos."
   ]
  },
  {
   "cell_type": "markdown",
   "id": "92701faf-1b0a-428d-9eb5-56c09d3cb1fd",
   "metadata": {},
   "source": [
    "### Ejemplo: Leer línea por línea"
   ]
  },
  {
   "cell_type": "code",
   "execution_count": null,
   "id": "72457dcd-cac2-4c45-a1e9-be927d33033c",
   "metadata": {},
   "outputs": [],
   "source": [
    "archivo = open('esfuerzos.txt', 'r')\n",
    "for linea in archivo:\n",
    "    print(linea.strip())  # strip() elimina saltos de línea\n",
    "archivo.close()"
   ]
  },
  {
   "cell_type": "markdown",
   "id": "87b63ca0-9a6f-4119-a66b-7f45d566e756",
   "metadata": {
    "jp-MarkdownHeadingCollapsed": true
   },
   "source": [
    "## Escritura en Ficheros"
   ]
  },
  {
   "cell_type": "markdown",
   "id": "cbed8481-7b34-407d-9285-0e794caf1fac",
   "metadata": {},
   "source": [
    "Para escribir en un archivo, usamos el modo ``'w'`` o ``'a'``. El modo ``'w'`` sobrescribe el contenido, mientras que ``'a'`` adjunta datos al final del archivo."
   ]
  },
  {
   "cell_type": "markdown",
   "id": "70ae125b-2cef-45a8-bf4d-edb9873ed8b7",
   "metadata": {},
   "source": [
    "### Ejemplo: Escribir datos de simulación en un archivo"
   ]
  },
  {
   "cell_type": "code",
   "execution_count": null,
   "id": "4805d4b1-46c3-4152-b4bd-7069dd3d2420",
   "metadata": {},
   "outputs": [],
   "source": [
    "esfuerzos = [100, 150, 200, 180, 160]\n",
    "\n",
    "archivo = open('resultados.txt', 'w')\n",
    "for esfuerzo in esfuerzos:\n",
    "    archivo.write(f\"{esfuerzo}\\n\")  # Escribimos cada esfuerzo en una nueva línea\n",
    "archivo.close()"
   ]
  },
  {
   "cell_type": "markdown",
   "id": "3494fb67-a56c-4dcb-964d-1ce5d1911cb3",
   "metadata": {},
   "source": [
    "Este ejemplo es útil para guardar los resultados de una simulación de esfuerzos en un archivo de texto para futuras referencias."
   ]
  },
  {
   "cell_type": "markdown",
   "id": "c6da4a44-207a-44ba-9477-ba24be2846cd",
   "metadata": {
    "jp-MarkdownHeadingCollapsed": true
   },
   "source": [
    "## Cerrar un Fichero: close()"
   ]
  },
  {
   "cell_type": "markdown",
   "id": "62809667-cc61-4720-8c64-3ebcd042ffac",
   "metadata": {},
   "source": [
    "Después de haber leído o escrito en un archivo, es importante cerrarlo usando **close()**. Esto libera el recurso y asegura que no queden archivos abiertos que puedan afectar a otros procesos."
   ]
  },
  {
   "cell_type": "markdown",
   "id": "f69471d7-877e-4f18-92d0-9159d9dc0db6",
   "metadata": {},
   "source": [
    "### Ejemplo:"
   ]
  },
  {
   "cell_type": "code",
   "execution_count": null,
   "id": "02264753-19b2-4cce-9f11-05ac0c7306ef",
   "metadata": {},
   "outputs": [],
   "source": [
    "archivo = open('esfuerzos.txt', 'r')\n",
    "contenido = archivo.read()\n",
    "archivo.close()  # Cierra el archivo después de la lectura"
   ]
  },
  {
   "cell_type": "markdown",
   "id": "653e6c96-70e0-4fa2-8fa9-d041c46f0236",
   "metadata": {},
   "source": [
    "Si olvidamos cerrar el archivo, podemos experimentar problemas con la integridad de los datos o consumo innecesario de memoria."
   ]
  },
  {
   "cell_type": "markdown",
   "id": "c1226362-9316-43bb-ba3f-7478cceba4ce",
   "metadata": {
    "jp-MarkdownHeadingCollapsed": true
   },
   "source": [
    "## Uso de Context Managers para la Gestión de Ficheros"
   ]
  },
  {
   "cell_type": "markdown",
   "id": "1a011b51-90b5-4cac-b770-6f875afc520a",
   "metadata": {},
   "source": [
    "La mejor manera de trabajar con archivos en Python es utilizando **context managers** con la palabra clave **with**. Al usar **with**, el archivo se cierra automáticamente al final del bloque, incluso si ocurre una excepción."
   ]
  },
  {
   "cell_type": "markdown",
   "id": "ec80b167-ad2c-4f81-98ae-09fc984ec81a",
   "metadata": {},
   "source": [
    "### Ejemplo: Lectura con **with**"
   ]
  },
  {
   "cell_type": "code",
   "execution_count": null,
   "id": "8a169653-4652-4bb7-8ffe-a53c289b536f",
   "metadata": {},
   "outputs": [],
   "source": [
    "with open('esfuerzos.txt', 'r') as archivo:\n",
    "    contenido = archivo.read()\n",
    "    print(contenido)\n",
    "# No es necesario llamar a archivo.close(), se cierra automáticamente\n"
   ]
  },
  {
   "cell_type": "markdown",
   "id": "5abb253a-e0fa-408a-89c5-50c390b5828b",
   "metadata": {},
   "source": [
    "### Ejemplo: Escritura con with"
   ]
  },
  {
   "cell_type": "code",
   "execution_count": null,
   "id": "84fc64b5-7b83-4259-98d1-606bf9725629",
   "metadata": {},
   "outputs": [],
   "source": [
    "esfuerzos = [100, 150, 200, 180, 160]\n",
    "\n",
    "with open('resultados.txt', 'w') as archivo:\n",
    "    for esfuerzo in esfuerzos:\n",
    "        archivo.write(f\"{esfuerzo}\\n\")\n",
    "# El archivo se cierra automáticamente al salir del bloque with"
   ]
  },
  {
   "cell_type": "markdown",
   "id": "533c1870-5449-4db4-ab3f-bb5357bbd530",
   "metadata": {},
   "source": [
    "### Ejemplo Aplicado: Simulación de Cargas en una Viga"
   ]
  },
  {
   "cell_type": "markdown",
   "id": "c6cb05a7-c049-46a0-8170-26c0a14cb062",
   "metadata": {},
   "source": [
    "Supongamos que estamos realizando una simulación en la que calculamos los esfuerzos en una viga a lo largo de su longitud y guardamos los resultados en un archivo."
   ]
  },
  {
   "cell_type": "code",
   "execution_count": null,
   "id": "5a4ccaf4-3508-48d2-af49-26b82c313fb2",
   "metadata": {},
   "outputs": [],
   "source": [
    "# Datos de ejemplo de simulación\n",
    "longitudes = [1, 2, 3, 4, 5]\n",
    "esfuerzos = [120, 140, 160, 150, 130]\n",
    "\n",
    "# Guardar resultados en un archivo\n",
    "with open('resultados_simulacion.txt', 'w') as archivo:\n",
    "    archivo.write(\"Longitud (m), Esfuerzo (MPa)\\n\")  # Cabecera\n",
    "    for longitud, esfuerzo in zip(longitudes, esfuerzos):\n",
    "        archivo.write(f\"{longitud}, {esfuerzo}\\n\")  # Guardamos los resultados"
   ]
  },
  {
   "cell_type": "markdown",
   "id": "7f50a49c-3501-47e4-a435-22ea0a405625",
   "metadata": {
    "jp-MarkdownHeadingCollapsed": true
   },
   "source": [
    "## Resumen"
   ]
  },
  {
   "cell_type": "markdown",
   "id": "94f1ea2a-f8df-47da-9ffe-23a6af5cb162",
   "metadata": {},
   "source": [
    "La gestión de ficheros en Python es esencial para manipular datos de manera eficiente. A continuación, se resumen los puntos clave:\n",
    "\n",
    "- **Apertura de un fichero**: Utilizamos la función `open()` para abrir archivos, especificando el modo de apertura (por ejemplo, `'r'`, `'w'`, `'a'`, etc.) según la operación deseada.\n",
    "  \n",
    "- **Modos de apertura**:\n",
    "  - **Lectura (`'r'`)**: Para leer datos; el archivo debe existir.\n",
    "  - **Escritura (`'w'`)**: Para guardar datos; se crea el archivo si no existe y se sobrescribe si ya está presente.\n",
    "  - **Adjuntar (`'a'`)**: Para añadir datos al final del archivo; se crea el archivo si no existe.\n",
    "  - **Lectura/Escritura (`'r+'`)**: Para leer y escribir; el archivo debe existir.\n",
    "  - **Binario (`'b'`)**: Para manejar archivos binarios, el comportamiento respecto a la existencia es similar a los modos de texto.\n",
    "\n",
    "- **Lectura y escritura de ficheros**: Dependiendo de nuestras necesidades, podemos leer el contenido de un archivo de una vez o línea por línea, y también escribir datos en él, utilizando formatos como `write()`.\n",
    "\n",
    "- **Cierre de un fichero**: Es importante cerrar el archivo con `close()` después de su uso para liberar recursos, o mejor aún, utilizar **context managers** con `with`, que aseguran el cierre automático del archivo al salir del bloque.\n",
    "\n",
    "El manejo adecuado de archivos es crucial para almacenar, procesar y recuperar datos relevantes en proyectos de ingeniería estructural, facilitando el análisis y la documentación de resultados."
   ]
  },
  {
   "cell_type": "code",
   "execution_count": null,
   "id": "aaf3ee14-7edb-4332-b293-edccce60e708",
   "metadata": {},
   "outputs": [],
   "source": []
  },
  {
   "cell_type": "code",
   "execution_count": null,
   "id": "03b56025-4b3b-4875-8ae8-429edf528a70",
   "metadata": {},
   "outputs": [],
   "source": []
  },
  {
   "cell_type": "code",
   "execution_count": null,
   "id": "60ad2c3a-fa82-4fb8-93ef-732abd94aafa",
   "metadata": {},
   "outputs": [],
   "source": []
  },
  {
   "cell_type": "code",
   "execution_count": null,
   "id": "869dc0e2-065b-47da-9514-2da27ccb560e",
   "metadata": {},
   "outputs": [],
   "source": []
  },
  {
   "cell_type": "code",
   "execution_count": null,
   "id": "73480e28-f905-485d-9b39-0cb8894041d3",
   "metadata": {},
   "outputs": [],
   "source": []
  },
  {
   "cell_type": "code",
   "execution_count": null,
   "id": "9364cdaf-e835-4d8f-9126-5a9f3f985c52",
   "metadata": {},
   "outputs": [],
   "source": []
  },
  {
   "cell_type": "code",
   "execution_count": null,
   "id": "7980df7a-b27d-4af7-8fee-430fb73e4ee8",
   "metadata": {},
   "outputs": [],
   "source": []
  },
  {
   "cell_type": "markdown",
   "id": "8678bb30-045b-4c3d-8595-242a12db43c6",
   "metadata": {},
   "source": [
    "## Ficheros con formatos comunes"
   ]
  },
  {
   "cell_type": "markdown",
   "id": "1755fc57-d2cf-43c8-8dc0-150786e68711",
   "metadata": {
    "jp-MarkdownHeadingCollapsed": true
   },
   "source": [
    "### Ficheros planos (txt)"
   ]
  },
  {
   "cell_type": "markdown",
   "id": "066776a2-5a4c-4a04-915b-ec3456971091",
   "metadata": {},
   "source": [
    "Los **ficheros planos** son archivos de texto que almacenan datos en un formato estructurado y fácilmente accesible. Estos archivos son ampliamente utilizados en ingeniería estructural para registrar mediciones, resultados de simulaciones, o cualquier dato que necesitemos manipular o analizar."
   ]
  },
  {
   "cell_type": "markdown",
   "id": "70ebdb84-6de1-47d7-a2e6-a7a61ee88c56",
   "metadata": {
    "jp-MarkdownHeadingCollapsed": true
   },
   "source": [
    "#### Características de los Ficheros Planos"
   ]
  },
  {
   "cell_type": "markdown",
   "id": "b0121ed5-8f0b-4994-8c5e-b84f05255850",
   "metadata": {},
   "source": [
    "- **Formato de Texto**: Los ficheros planos suelen estar en un formato de texto sin formato (ASCII), lo que permite que sean legibles tanto por humanos como por programas.\n",
    "- **Estructura Simple**: Generalmente, cada línea del archivo representa un registro y los campos de datos están separados por delimitadores (como comas, tabulaciones o espacios).\n",
    "- **Portabilidad**: Dado que son archivos de texto, se pueden abrir y editar con casi cualquier editor de texto, y son fáciles de transferir entre diferentes sistemas."
   ]
  },
  {
   "cell_type": "markdown",
   "id": "98140352-db3c-4ac5-9725-574800ef569f",
   "metadata": {
    "jp-MarkdownHeadingCollapsed": true
   },
   "source": [
    "#### Usos Comunes"
   ]
  },
  {
   "cell_type": "markdown",
   "id": "f11f4ad9-2620-48c5-8d21-72a9a4d07d6a",
   "metadata": {},
   "source": [
    "1. **Registro de Datos**: Los ficheros planos son ideales para registrar datos de mediciones de estructuras, como esfuerzos y deformaciones, en formato tabular. Por ejemplo, un archivo que almacena las mediciones de tensiones en una viga podría tener la siguiente estructura:\n",
    "\n",
    "| Longitud (m) | Esfuerzo (MPa) |\n",
    "|--------------|-----------------|\n",
    "| 1.0          | 120             |\n",
    "| 1.5          | 140             |\n",
    "| 2.0          | 160             |  |\n",
    "\n",
    "\n",
    "2. **Resultados de Simulaciones**: Almacenar los resultados de simulaciones estructurales en un fichero plano permite realizar análisis posteriores y compartir datos con otros ingenieros. Por ejemplo, después de una simulación de carga, se podría guardar un archivo con la siguiente estruct\n",
    "\n",
    "| Desplazamiento (mm)  | Carga (kN) |\n",
    "|----------------------|------------|\n",
    "| 0.5                  | 10         |\n",
    "| 1.0                  | 20         |\n",
    "| 1.5                  | 30         |\n",
    "\n",
    "3. **Intercambio de Datos**: Los ficheros planos son un formato común para el intercambio de datos entre diferentes aplicaciones o sistemas. Son fácilmente importables a software de análisis y visualización de datos."
   ]
  },
  {
   "cell_type": "markdown",
   "id": "0e340a28-25e2-48ec-b8b5-d804d124e51d",
   "metadata": {
    "jp-MarkdownHeadingCollapsed": true
   },
   "source": [
    "#### Manipulación de Ficheros Planos en Python"
   ]
  },
  {
   "cell_type": "markdown",
   "id": "affc3757-e0d5-4a4b-a06e-5af31fb0cb06",
   "metadata": {},
   "source": [
    "La manipulación de ficheros planos en Python se realiza de manera similar a otros tipos de archivos.\n",
    "\n",
    "Aquí hay un ejemplo de cómo leer y escribir un fichero plano"
   ]
  },
  {
   "cell_type": "markdown",
   "id": "a77f1c91-165a-4b6a-aced-579ba83c8c4d",
   "metadata": {},
   "source": [
    "##### Ejemplo: Leer un Fichero Plano"
   ]
  },
  {
   "cell_type": "code",
   "execution_count": null,
   "id": "eaaff1bc-d6ca-4c79-9ef2-37a164dafa1f",
   "metadata": {},
   "outputs": [],
   "source": [
    "with open('mediciones.txt', 'r') as archivo:\n",
    " for linea in archivo:\n",
    "     longitud, esfuerzo = linea.strip().split(', ')\n",
    "     print(f\"Longitud: {longitud} m, Esfuerzo: {esfuerzo} MPa\")"
   ]
  },
  {
   "cell_type": "markdown",
   "id": "e41739bf-0c27-437a-84b3-071822507f6b",
   "metadata": {},
   "source": [
    "##### Ejemplo: Escribir en un Fichero Plano"
   ]
  },
  {
   "cell_type": "code",
   "execution_count": null,
   "id": "fd36a032-be3c-430b-94ae-0f009363411d",
   "metadata": {},
   "outputs": [],
   "source": [
    "resultados = [(1.0, 120), (1.5, 140), (2.0, 160)]\n",
    "\n",
    "with open('resultados_mediciones.txt', 'w') as archivo:\n",
    "    archivo.write(\"Longitud (m), Esfuerzo (MPa)\\n\")  # Cabecera\n",
    "    for longitud, esfuerzo in resultados:\n",
    "        archivo.write(f\"{longitud}, {esfuerzo}\\n\")  # Escribimos los resultados"
   ]
  },
  {
   "cell_type": "markdown",
   "id": "5372d379-14ba-44da-828e-fb1f80b02279",
   "metadata": {
    "jp-MarkdownHeadingCollapsed": true
   },
   "source": [
    "#### Conclusión"
   ]
  },
  {
   "cell_type": "markdown",
   "id": "af58cf7f-72cc-4f82-9536-1f535a482a9f",
   "metadata": {},
   "source": [
    "Los ficheros planos son una herramienta valiosa en ingeniería estructural para almacenar y manipular datos. Su estructura simple y facilidad de uso los convierte en una opción ideal para registrar y analizar mediciones y resultados de simulaciones."
   ]
  },
  {
   "cell_type": "markdown",
   "id": "b966c91d-c743-44d5-ad63-0b9a68668fe1",
   "metadata": {
    "jp-MarkdownHeadingCollapsed": true
   },
   "source": [
    "### Ficheros csv"
   ]
  },
  {
   "cell_type": "markdown",
   "id": "6cf07b04-57f8-4555-9ff0-b57597ac6b72",
   "metadata": {},
   "source": [
    "Los **ficheros CSV** (Comma-Separated Values) son un formato de archivo de texto que se utiliza para almacenar datos tabulares. Cada línea del fichero representa un registro, y los campos de cada registro están separados por comas (u otros delimitadores, como punto y coma)."
   ]
  },
  {
   "cell_type": "markdown",
   "id": "2fcb7b32-49f6-45d7-b0e7-fd7446c37c3f",
   "metadata": {
    "jp-MarkdownHeadingCollapsed": true
   },
   "source": [
    "#### Características de los Ficheros CSV"
   ]
  },
  {
   "cell_type": "markdown",
   "id": "70a492e2-2e4b-4ea0-9d64-602b41833203",
   "metadata": {},
   "source": [
    "- **Formato de Texto**: Similar a los ficheros planos, los CSV son archivos de texto que pueden ser abiertos y editados con cualquier editor.\n",
    "- **Estructura Tabular**: Los datos se organizan en filas y columnas, facilitando su interpretación y análisis.\n",
    "- **Compatibilidad**: Son ampliamente soportados por software de hojas de cálculo (como Excel) y bases de datos, lo que permite un fácil intercambio de datos."
   ]
  },
  {
   "cell_type": "markdown",
   "id": "2e286316-da09-495f-a961-612b85426134",
   "metadata": {},
   "source": [
    "| Desplazamiento (mm)  | Carga (kN) |\n",
    "|----------------------|------------|\n",
    "| 0.5                  | 10         |\n",
    "| 1.0                  | 20         |\n",
    "| 1.5                  | 30         |"
   ]
  },
  {
   "cell_type": "markdown",
   "id": "7cec728f-2aa8-4624-bfe8-7a22d1af3e7a",
   "metadata": {
    "jp-MarkdownHeadingCollapsed": true
   },
   "source": [
    "#### Manipulación de Ficheros CSV en Python"
   ]
  },
  {
   "cell_type": "markdown",
   "id": "76d52240-0fac-430e-9d43-cf7e84140cbe",
   "metadata": {},
   "source": [
    "Python ofrece el módulo `csv` que simplifica la lectura y escritura de archivos CSV. A continuación se presentan ejemplos de cómo trabajar con ficheros CSV.\n",
    "\n",
    "Aquí hay un ejemplo de cómo leer y escribir un fichero plano"
   ]
  },
  {
   "cell_type": "markdown",
   "id": "b50e6be6-5a16-42ad-a244-ed73adf50321",
   "metadata": {},
   "source": [
    "##### Ejemplo: Leer un Fichero CSV"
   ]
  },
  {
   "cell_type": "code",
   "execution_count": null,
   "id": "329c2fed-40a7-4c03-a67e-013bd2c1f6a4",
   "metadata": {},
   "outputs": [],
   "source": [
    "import csv\n",
    "\n",
    "with open('mediciones.csv', 'r') as archivo:\n",
    " lector = csv.reader(archivo)\n",
    " for fila in lector:\n",
    "     longitud, esfuerzo = fila\n",
    "     print(f\"Longitud: {longitud} m, Esfuerzo: {esfuerzo} MPa\")"
   ]
  },
  {
   "cell_type": "markdown",
   "id": "706086ef-bab0-4ef4-8f4f-ebc095ade098",
   "metadata": {},
   "source": [
    "##### Ejemplo: Escribir en un Fichero CSV"
   ]
  },
  {
   "cell_type": "code",
   "execution_count": null,
   "id": "281c6ea2-addf-436a-a1f4-ae1a611b51fa",
   "metadata": {},
   "outputs": [],
   "source": [
    "import csv\n",
    "\n",
    "resultados = [(1.0, 120), (1.5, 140), (2.0, 160)]\n",
    "\n",
    "with open('resultados_mediciones.csv', 'w', newline='') as archivo:\n",
    "    escritor = csv.writer(archivo)\n",
    "    escritor.writerow([\"Longitud (m)\", \"Esfuerzo (MPa)\"])  # Cabecera\n",
    "    escritor.writerows(resultados)  # Escribimos los resultados"
   ]
  },
  {
   "cell_type": "markdown",
   "id": "770ca709-83d9-4dbf-8af0-c8b1798f4845",
   "metadata": {
    "jp-MarkdownHeadingCollapsed": true
   },
   "source": [
    "#### Conclusión"
   ]
  },
  {
   "cell_type": "markdown",
   "id": "a0ba0ec7-bcc6-478a-af35-34567a16cc1b",
   "metadata": {},
   "source": [
    "Los ficheros CSV son una herramienta fundamental en la gestión de datos en ingeniería estructural. Su estructura sencilla y su compatibilidad con múltiples aplicaciones los convierten en una opción ideal para almacenar y compartir información crítica."
   ]
  },
  {
   "cell_type": "markdown",
   "id": "9ac00280-25a4-4d82-b0fe-2e53f17e4da4",
   "metadata": {
    "jp-MarkdownHeadingCollapsed": true
   },
   "source": [
    "### Ficheros EXCEL"
   ]
  },
  {
   "cell_type": "markdown",
   "id": "b86da4b4-7a63-4757-a9a6-d2d104966d70",
   "metadata": {},
   "source": [
    "Los **ficheros Excel** son archivos de hoja de cálculo que permiten almacenar y manipular datos en formato tabular. Este formato es muy utilizado en ingeniería estructural para la gestión de datos, análisis y presentación de resultados, gracias a sus potentes herramientas de cálculo y visualización."
   ]
  },
  {
   "cell_type": "markdown",
   "id": "f1675bd1-95f1-4593-bba1-1461797e1835",
   "metadata": {
    "jp-MarkdownHeadingCollapsed": true
   },
   "source": [
    "#### Características de los Ficheros Excel"
   ]
  },
  {
   "cell_type": "markdown",
   "id": "4427df2a-4e72-4cfd-91ac-deeabbd3de4e",
   "metadata": {},
   "source": [
    "- **Formato Estructurado**: Los ficheros Excel permiten organizar datos en filas y columnas, facilitando la visualización y el análisis de grandes volúmenes de información.\n",
    "- **Funciones y Fórmulas**: Excel ofrece una amplia variedad de funciones matemáticas y estadísticas que son útiles para realizar cálculos complejos sin necesidad de programar.\n",
    "- **Gráficos y Visualización**: Los datos se pueden representar visualmente mediante gráficos, lo que ayuda en la interpretación y presentación de resultados."
   ]
  },
  {
   "cell_type": "markdown",
   "id": "267839ff-13f3-40c1-b23e-fe640ceb3579",
   "metadata": {
    "jp-MarkdownHeadingCollapsed": true
   },
   "source": [
    "#### Manipulación de Ficheros Excel en Python"
   ]
  },
  {
   "cell_type": "markdown",
   "id": "badb162e-286f-4f66-8ebd-15f4b731306b",
   "metadata": {},
   "source": [
    "Para trabajar con ficheros Excel en Python, se puede utilizar la biblioteca `pandas`, que facilita la lectura y escritura de archivos Excel. A continuación se presentan ejemplos de cómo manipular ficheros Excel."
   ]
  },
  {
   "cell_type": "markdown",
   "id": "7f692a79-bf39-4e93-9e3b-48e7872d3aa8",
   "metadata": {},
   "source": [
    "##### Ejemplo: Leer un Fichero Excel"
   ]
  },
  {
   "cell_type": "code",
   "execution_count": null,
   "id": "1779ac82-efe7-495f-b3c4-204a25503eb1",
   "metadata": {},
   "outputs": [],
   "source": [
    "import pandas as pd\n",
    "\n",
    "# Leer un fichero Excel\n",
    "df = pd.read_excel('mediciones.xlsx', sheet_name='Hoja1')\n",
    "print(df)"
   ]
  },
  {
   "cell_type": "markdown",
   "id": "af02a076-5a84-43f7-aeef-fa87204bdd8b",
   "metadata": {},
   "source": [
    "##### Ejemplo: Escribir en un Fichero Excel"
   ]
  },
  {
   "cell_type": "code",
   "execution_count": null,
   "id": "08696e2f-a044-4ab2-805d-f95a1bb963a0",
   "metadata": {},
   "outputs": [],
   "source": [
    "import pandas as pd\n",
    "\n",
    "# Crear un DataFrame con resultados\n",
    "resultados = {\n",
    "    'Longitud (m)': [1.0, 1.5, 2.0],\n",
    "    'Esfuerzo (MPa)': [120, 140, 160]\n",
    "}\n",
    "\n",
    "df = pd.DataFrame(resultados)\n",
    "\n",
    "# Escribir el DataFrame en un fichero Excel\n",
    "df.to_excel('resultados_mediciones.xlsx', index=False, sheet_name='Resultados')"
   ]
  },
  {
   "cell_type": "markdown",
   "id": "96cca7e0-6e3b-4bf0-980c-2a0272675069",
   "metadata": {},
   "source": [
    "#### Conclusión"
   ]
  },
  {
   "cell_type": "markdown",
   "id": "47080ad4-671c-4ed6-8717-d1aafb2e2b41",
   "metadata": {},
   "source": [
    "Los ficheros Excel son una herramienta poderosa en la gestión de datos en ingeniería estructural. Su estructura intuitiva, junto con las capacidades de cálculo y visualización, los convierte en una opción ideal para almacenar, analizar y presentar información técnica de manera eficiente."
   ]
  },
  {
   "cell_type": "markdown",
   "id": "457d32b9-54a4-43d5-9f15-1bc805a2dab0",
   "metadata": {
    "jp-MarkdownHeadingCollapsed": true
   },
   "source": [
    "### Ficheros JSON"
   ]
  },
  {
   "cell_type": "markdown",
   "id": "502f94dc-9102-4995-b967-d20054270f2f",
   "metadata": {},
   "source": [
    "Los **ficheros JSON** (JavaScript Object Notation) son un formato de texto ligero para el intercambio de datos. Este formato es fácil de leer y escribir tanto para humanos como para máquinas, lo que lo convierte en una opción popular para la transmisión de datos estructurados en aplicaciones web y de software."
   ]
  },
  {
   "cell_type": "markdown",
   "id": "e8fdb674-1dac-475a-89e5-ba7665af068f",
   "metadata": {
    "jp-MarkdownHeadingCollapsed": true
   },
   "source": [
    "#### Características de los Ficheros JSON"
   ]
  },
  {
   "cell_type": "markdown",
   "id": "1fb8d47a-a0fb-4f5e-a1d3-770fec8aaefa",
   "metadata": {},
   "source": [
    "- **Formato Ligero**: JSON es un formato de texto que ocupa menos espacio que otros formatos como XML, lo que facilita la transmisión de datos.\n",
    "- **Estructura de Datos**: Permite representar estructuras de datos complejas utilizando pares de clave-valor, lo que lo hace muy flexible y adecuado para diversas aplicaciones.\n",
    "- **Facilidad de Uso**: Los ficheros JSON son fácilmente legibles por humanos y se pueden manejar sin dificultad en la mayoría de los lenguajes de programación, incluidos Python y JavaScript."
   ]
  },
  {
   "cell_type": "markdown",
   "id": "2b706fd5-5df2-42ed-b2e2-84d199240604",
   "metadata": {
    "jp-MarkdownHeadingCollapsed": true
   },
   "source": [
    "#### Usos Comunes en Ingeniería Estructural"
   ]
  },
  {
   "cell_type": "markdown",
   "id": "6eda5014-1b5d-483a-91fe-efac8710727c",
   "metadata": {},
   "source": [
    "1. **Intercambio de Datos**: Los ficheros JSON son ampliamente utilizados para la comunicación entre aplicaciones, especialmente en el contexto de servicios web y APIs, facilitando la integración de datos de diferentes fuentes.\n",
    "\n",
    "2. **Configuración de Proyectos**: Se utilizan para almacenar configuraciones de proyectos de ingeniería, como parámetros de simulación o características de materiales, permitiendo una fácil modificación y reutilización."
   ]
  },
  {
   "cell_type": "markdown",
   "id": "7acbef4c-f00d-4441-a419-6b89360593a9",
   "metadata": {
    "jp-MarkdownHeadingCollapsed": true
   },
   "source": [
    "#### Manipulación de Ficheros JSON en Python"
   ]
  },
  {
   "cell_type": "markdown",
   "id": "1deff7ee-d6cd-4299-9495-2327cbc7b68c",
   "metadata": {},
   "source": [
    "Python proporciona el módulo `json` que facilita la lectura y escritura de ficheros JSON. A continuación se presentan ejemplos de cómo trabajar con ficheros JSON."
   ]
  },
  {
   "cell_type": "markdown",
   "id": "88d93083-e44f-4934-8453-da732137d717",
   "metadata": {
    "jp-MarkdownHeadingCollapsed": true
   },
   "source": [
    "##### Ejemplo: Leer un Fichero JSON"
   ]
  },
  {
   "cell_type": "code",
   "execution_count": null,
   "id": "af98ed54-656b-4ff9-a8a9-8c089a027850",
   "metadata": {},
   "outputs": [],
   "source": [
    "import json\n",
    "\n",
    "# Leer un fichero JSON\n",
    "with open('mediciones.json', 'r') as archivo:\n",
    "    datos = json.load(archivo)\n",
    "    for medicion in datos['mediciones']:\n",
    "        print(f\"Longitud: {medicion['longitud']} m, Esfuerzo: {medicion['esfuerzo']} MPa\")"
   ]
  },
  {
   "cell_type": "markdown",
   "id": "ddf4c635-3474-40ac-9193-6f672110d77e",
   "metadata": {
    "jp-MarkdownHeadingCollapsed": true
   },
   "source": [
    "##### Ejemplo: Escribir en un Fichero JSON"
   ]
  },
  {
   "cell_type": "code",
   "execution_count": null,
   "id": "0dcc840d-2922-4919-b1c5-2b67718ec31d",
   "metadata": {},
   "outputs": [],
   "source": [
    "import json\n",
    "\n",
    "# Datos a escribir\n",
    "resultados = {\n",
    "    'mediciones': [\n",
    "        {'longitud': 1.0, 'esfuerzo': 120},\n",
    "        {'longitud': 1.5, 'esfuerzo': 140},\n",
    "        {'longitud': 2.0, 'esfuerzo': 160}\n",
    "    ]\n",
    "}\n",
    "\n",
    "# Escribir datos en un fichero JSON\n",
    "with open('resultados_mediciones.json', 'w') as archivo:\n",
    "    json.dump(resultados, archivo, indent=4)  # Usar indentación para una mejor legibilidad"
   ]
  },
  {
   "cell_type": "markdown",
   "id": "cb24e9c5-e46c-4610-badf-42510239058d",
   "metadata": {
    "jp-MarkdownHeadingCollapsed": true
   },
   "source": [
    "#### Conclusión"
   ]
  },
  {
   "cell_type": "markdown",
   "id": "f20896e0-c85b-4b17-9183-a2e85a2ac639",
   "metadata": {},
   "source": [
    "Los ficheros JSON son una herramienta versátil y eficiente para el manejo de datos en ingeniería estructural. Su capacidad para representar datos complejos de manera legible y su fácil integración con aplicaciones modernas los convierten en una opción ideal para el almacenamiento y el intercambio de información técnica."
   ]
  },
  {
   "cell_type": "markdown",
   "id": "500af87e-fd2a-4309-98dc-b3d3582901a1",
   "metadata": {
    "jp-MarkdownHeadingCollapsed": true
   },
   "source": [
    "### Ficheros XML"
   ]
  },
  {
   "cell_type": "markdown",
   "id": "ac861244-5816-4b44-a569-3dad4b9f9b15",
   "metadata": {},
   "source": [
    "Los **ficheros XML** (eXtensible Markup Language) son un formato de texto diseñado para almacenar y transportar datos de manera estructurada y legible tanto para humanos como para máquinas. Este formato es ampliamente utilizado en aplicaciones que requieren una descripción detallada de los datos y su jerarquía."
   ]
  },
  {
   "cell_type": "markdown",
   "id": "6dbe3a3d-3fed-4f89-bd00-8f04debefb2a",
   "metadata": {
    "jp-MarkdownHeadingCollapsed": true
   },
   "source": [
    "#### Usos Comunes"
   ]
  },
  {
   "cell_type": "markdown",
   "id": "aaac1901-1da7-4566-989e-45f143b5d326",
   "metadata": {},
   "source": [
    "1. **Intercambio de Datos entre Sistemas**: Los ficheros XML son ideales para la transmisión de datos entre aplicaciones de software diferentes, como programas de diseño estructural y análisis de datos.\n",
    "   \n",
    "2. **Almacenamiento de Configuraciones**: Se utilizan para guardar configuraciones de proyectos o datos de materiales, permitiendo una fácil modificación y reutilización.\n",
    "\n",
    "3. **Documentación de Resultados**: XML es útil para estructurar y documentar resultados de análisis, ya que su formato permite incluir metadatos que describen los datos almacenados."
   ]
  },
  {
   "cell_type": "markdown",
   "id": "e8663dc5-3134-425b-84b3-74a5bab45432",
   "metadata": {
    "jp-MarkdownHeadingCollapsed": true
   },
   "source": [
    "#### Manipulación de Ficheros XML en Python"
   ]
  },
  {
   "cell_type": "markdown",
   "id": "621a8364-8e51-4f78-8466-25edebeac96e",
   "metadata": {},
   "source": [
    "Python proporciona varias bibliotecas para trabajar con ficheros XML, siendo `xml.etree.ElementTree` una de las más utilizadas. A continuación se presentan ejemplos de cómo manipular ficheros XML."
   ]
  },
  {
   "cell_type": "markdown",
   "id": "f61be717-d353-45ce-9ddb-32d2f738c5a1",
   "metadata": {},
   "source": [
    "- El método .find() se utiliza para buscar el primer subelemento con una etiqueta específica dentro de un elemento XML. Devuelve el primer elemento encontrado o None si no se encuentra ninguno.\n",
    "- El método .findall() se utiliza para buscar todos los subelementos que coinciden con una etiqueta específica dentro de un elemento XML. Devuelve una lista de todos los elementos encontrados.\n",
    "- El método .remove() se utiliza para eliminar un subelemento específico de un elemento XML. Se debe pasar el elemento que se desea eliminar como argumento."
   ]
  },
  {
   "cell_type": "markdown",
   "id": "30accea6-9746-4655-80cd-aca2ea849b5c",
   "metadata": {
    "jp-MarkdownHeadingCollapsed": true
   },
   "source": [
    "##### Ejemplo: Leer un Fichero XML"
   ]
  },
  {
   "cell_type": "code",
   "execution_count": null,
   "id": "15912f9d-8148-4e65-9ec2-ae3c7cbbadee",
   "metadata": {},
   "outputs": [],
   "source": [
    "import xml.etree.ElementTree as ET\n",
    "\n",
    "# Leer un fichero XML\n",
    "tree = ET.parse('mediciones.xml')\n",
    "root = tree.getroot()\n",
    "\n",
    "for medicion in root.findall('medicion'):\n",
    "    longitud = medicion.find('longitud').text\n",
    "    esfuerzo = medicion.find('esfuerzo').text\n",
    "    print(f\"Longitud: {longitud} m, Esfuerzo: {esfuerzo} MPa\")"
   ]
  },
  {
   "cell_type": "markdown",
   "id": "5d247b7d-db60-48a7-b667-84d796053f97",
   "metadata": {
    "jp-MarkdownHeadingCollapsed": true
   },
   "source": [
    "##### Ejemplo: Escribir en un Fichero XML"
   ]
  },
  {
   "cell_type": "code",
   "execution_count": null,
   "id": "0d3bd798-015d-40ed-91f4-73589afe872b",
   "metadata": {},
   "outputs": [],
   "source": [
    "import xml.etree.ElementTree as ET\n",
    "\n",
    "# Crear el elemento raíz\n",
    "root = ET.Element('mediciones')\n",
    "\n",
    "# Datos a añadir\n",
    "data = [\n",
    "    {'longitud': 1.0, 'esfuerzo': 120},\n",
    "    {'longitud': 1.5, 'esfuerzo': 140},\n",
    "    {'longitud': 2.0, 'esfuerzo': 160}\n",
    "]\n",
    "\n",
    "# Crear elementos para cada medición\n",
    "for item in data:\n",
    "    medicion = ET.SubElement(root, 'medicion')\n",
    "    ET.SubElement(medicion, 'longitud').text = str(item['longitud'])\n",
    "    ET.SubElement(medicion, 'esfuerzo').text = str(item['esfuerzo'])\n",
    "\n",
    "# Escribir el árbol en un fichero XML\n",
    "tree = ET.ElementTree(root)\n",
    "tree.write('resultados_mediciones.xml', encoding='utf-8', xml_declaration=True)"
   ]
  },
  {
   "cell_type": "markdown",
   "id": "a9adf7a7-554f-4dbc-9f1e-7728a207f090",
   "metadata": {
    "jp-MarkdownHeadingCollapsed": true
   },
   "source": [
    "##### Ejemplo: Añadir Nuevos Elementos"
   ]
  },
  {
   "cell_type": "markdown",
   "id": "6c8f81e5-47f5-41ec-b2f1-8117fb494c5e",
   "metadata": {},
   "source": [
    "Puedes agregar nuevos elementos al árbol XML, como añadir una nueva medición."
   ]
  },
  {
   "cell_type": "code",
   "execution_count": null,
   "id": "709d4243-0288-45ed-9980-4dbe3be861fe",
   "metadata": {},
   "outputs": [],
   "source": [
    "# Añadir una nueva medición\n",
    "nueva_medicion = ET.SubElement(root, 'medicion')\n",
    "ET.SubElement(nueva_medicion, 'longitud').text = '2.5'\n",
    "ET.SubElement(nueva_medicion, 'esfuerzo').text = '180'"
   ]
  },
  {
   "cell_type": "markdown",
   "id": "dbea8f1d-1a3b-419a-9759-228ee98b4ddc",
   "metadata": {
    "jp-MarkdownHeadingCollapsed": true
   },
   "source": [
    "##### Ejemplo: Eliminar Elementos"
   ]
  },
  {
   "cell_type": "markdown",
   "id": "59b1bdaf-9f1d-4e02-847e-4b77256d5ea2",
   "metadata": {},
   "source": [
    "Puedes eliminar elementos que ya no sean necesarios, como eliminar una medición específica."
   ]
  },
  {
   "cell_type": "code",
   "execution_count": null,
   "id": "1076d940-e60c-450c-8987-63284a91f37c",
   "metadata": {},
   "outputs": [],
   "source": [
    "# Eliminar mediciones con un esfuerzo menor a 130 MPa\n",
    "for medicion in root.findall('medicion'):\n",
    "    if int(medicion.find('esfuerzo').text) < 130:\n",
    "        root.remove(medicion)"
   ]
  },
  {
   "cell_type": "markdown",
   "id": "5a81bcee-1bf1-4b7a-898d-8bb1f4336999",
   "metadata": {
    "jp-MarkdownHeadingCollapsed": true
   },
   "source": [
    "##### Ejemplo: Convertir a Otros Formatos"
   ]
  },
  {
   "cell_type": "markdown",
   "id": "f7c458a1-23eb-40db-b55d-9afc1f6e001d",
   "metadata": {},
   "source": [
    "A veces, es necesario convertir un archivo XML a otros formatos como JSON o CSV. Esto se puede lograr leyendo el XML y luego guardando los datos en el formato deseado."
   ]
  },
  {
   "cell_type": "code",
   "execution_count": null,
   "id": "14e267b4-81ed-4941-8ac7-691814ae52b9",
   "metadata": {},
   "outputs": [],
   "source": [
    "import json\n",
    "\n",
    "# Convertir a JSON\n",
    "data = [{'longitud': medicion.find('longitud').text,\n",
    "         'esfuerzo': medicion.find('esfuerzo').text} \n",
    "         for medicion in root.findall('medicion')]\n",
    "\n",
    "with open('resultados_mediciones.json', 'w') as json_file:\n",
    "    json.dump(data, json_file, indent=4)"
   ]
  },
  {
   "cell_type": "markdown",
   "id": "5a9a9cc4-30f5-4789-b7df-02ff91113972",
   "metadata": {
    "jp-MarkdownHeadingCollapsed": true
   },
   "source": [
    "##### Ejemplo: Validar Estructura XML"
   ]
  },
  {
   "cell_type": "markdown",
   "id": "97e61034-2ad3-41f5-b089-161c868dbaf6",
   "metadata": {},
   "source": [
    "Puedes verificar si un archivo XML cumple con un esquema específico (XSD). Esto es importante para asegurarse de que los datos estén estructurados correctamente antes de procesarlos."
   ]
  },
  {
   "cell_type": "code",
   "execution_count": null,
   "id": "4c05c99a-00dc-4a37-8a10-ee67df528b79",
   "metadata": {},
   "outputs": [],
   "source": [
    "from lxml import etree\n",
    "\n",
    "# Validar con un esquema XSD (ejemplo de esquema)\n",
    "schema_root = etree.XML('schema.xsd')\n",
    "schema = etree.XMLSchema(schema_root)\n",
    "\n",
    "# Validar el XML\n",
    "if schema.validate(tree):\n",
    "    print(\"El XML es válido\")\n",
    "else:\n",
    "    print(\"El XML no es válido\")"
   ]
  },
  {
   "cell_type": "markdown",
   "id": "ce43b040-a8da-4aec-9544-749fa71dde75",
   "metadata": {},
   "source": [
    "##### Ejemplo: <a href=\"https://es.wikipedia.org/wiki/Serializaci%C3%B3n\"> Serialización y Deserialización </a>"
   ]
  },
  {
   "cell_type": "markdown",
   "id": "f518b1d5-af27-4464-9138-06b4404ad62f",
   "metadata": {},
   "source": [
    "Puedes serializar el contenido de un XML a una cadena para su almacenamiento o transmisión y luego deserializarlo de nuevo al formato XML."
   ]
  },
  {
   "cell_type": "code",
   "execution_count": null,
   "id": "d3281149-e407-4e89-8a70-7903d1584a78",
   "metadata": {},
   "outputs": [],
   "source": [
    "# Serializar a cadena\n",
    "xml_str = ET.tostring(root, encoding='unicode')\n",
    "print(xml_str)\n",
    "\n",
    "# Deserializar de cadena\n",
    "root_from_str = ET.fromstring(xml_str)"
   ]
  },
  {
   "cell_type": "markdown",
   "id": "6d534d77-f368-4a42-8644-cdac50eaef93",
   "metadata": {},
   "source": [
    "##### Ejemplo: Formato de Salida Personalizado"
   ]
  },
  {
   "cell_type": "markdown",
   "id": "caa977e3-1f80-4386-b3aa-22c1a255b982",
   "metadata": {},
   "source": [
    "Puedes ajustar la salida al guardar el XML, como añadir saltos de línea o sangrías (separacion horizontal) para mejorar la legibilidad."
   ]
  },
  {
   "cell_type": "code",
   "execution_count": null,
   "id": "4fab402b-1ebd-44ff-a290-230096ddc1fc",
   "metadata": {},
   "outputs": [],
   "source": [
    "# Escribir el árbol en un fichero XML con formato personalizado\n",
    "tree.write('resultados_mediciones.xml', encoding='utf-8', xml_declaration=True, pretty_print=True)"
   ]
  },
  {
   "cell_type": "markdown",
   "id": "9f56c873-2047-49e1-b314-ad37809d33c8",
   "metadata": {},
   "source": [
    "Los ficheros XML son una herramienta poderosa para la gestión de datos en ingeniería estructural. Su capacidad para estructurar información de manera jerárquica y extensible los convierte en una opción ideal para el almacenamiento y el intercambio de datos complejos y detallados."
   ]
  },
  {
   "cell_type": "markdown",
   "id": "b8d1fabf-c3be-4bd5-a490-9cdb15f1df47",
   "metadata": {
    "jp-MarkdownHeadingCollapsed": true
   },
   "source": [
    "### Extra: ficheros HDF(5). Librería h5py."
   ]
  },
  {
   "cell_type": "markdown",
   "id": "20ecad63-5ad8-4282-b95f-941e4459df32",
   "metadata": {},
   "source": [
    "https://www.h5py.org/"
   ]
  },
  {
   "cell_type": "markdown",
   "id": "cbc62e99-aba4-41bf-96ae-a372f19dd834",
   "metadata": {},
   "source": [
    "### Conclusión"
   ]
  },
  {
   "cell_type": "markdown",
   "id": "05d29de1-d763-4188-9840-f144f7f12e4a",
   "metadata": {},
   "source": [
    "Los entornos virtuales son una práctica recomendada en el desarrollo de Python, especialmente en proyectos de ingeniería y análisis de datos, ya que aseguran que las dependencias se gestionen de manera eficiente y organizada. Utilizar entornos virtuales te ayudará a mantener tu trabajo estructurado y libre de conflictos."
   ]
  },
  {
   "cell_type": "markdown",
   "id": "401b9da8-b1e4-4f85-ba5f-ed11b088633d",
   "metadata": {},
   "source": [
    "# Context Managers: concepto, uso habitual y detalles"
   ]
  },
  {
   "cell_type": "markdown",
   "id": "6fe32fb2-4f8e-4600-96f2-2afd0e198301",
   "metadata": {},
   "source": [
    "Los **context managers** son una herramienta poderosa en Python que permiten gestionar recursos de forma eficiente, asegurando que se abran, utilicen y luego se cierren de manera correcta. Estos son particularmente útiles cuando trabajamos con archivos, conexiones a bases de datos o en simulaciones que requieren inicialización y limpieza de recursos.\n",
    "\n",
    "En Python, los **context managers** se implementan a través del uso de la palabra clave `with`. Cuando trabajamos con archivos o estructuras de datos grandes, es común utilizar context managers para asegurarnos de que se liberen correctamente los recursos después de que se hayan usado."
   ]
  },
  {
   "cell_type": "markdown",
   "id": "79f43fd6-50f3-4e3f-8efa-729684b38fff",
   "metadata": {},
   "source": [
    "## Uso Básico de `with`"
   ]
  },
  {
   "cell_type": "markdown",
   "id": "af5e8fdc-3ccb-4b8f-a3ca-a02125d2639f",
   "metadata": {},
   "source": [
    "El uso más común de los context managers es el manejo de archivos. Al abrir un archivo con `with`, no necesitamos preocuparnos de cerrarlo manualmente, ya que Python lo hará automáticamente, incluso si ocurre una excepción durante su uso."
   ]
  },
  {
   "cell_type": "markdown",
   "id": "d13e49d7-9c2e-4f38-b715-635d095e814c",
   "metadata": {},
   "source": [
    "### Ejemplo:"
   ]
  },
  {
   "cell_type": "markdown",
   "id": "e098125b-4081-499c-bbbf-7fc8f2222949",
   "metadata": {},
   "source": [
    "Supongamos que estamos leyendo datos de esfuerzos en una viga desde un archivo. Usamos el contexto `with` para asegurarnos de que el archivo se cierre correctamente al finalizar la lectura."
   ]
  },
  {
   "cell_type": "code",
   "execution_count": null,
   "id": "b2828bbc-f904-40f7-bd5c-94ceb575ae8b",
   "metadata": {},
   "outputs": [],
   "source": [
    "with open('esfuerzos.txt', 'r') as archivo:\n",
    "    datos = archivo.readlines()"
   ]
  },
  {
   "cell_type": "markdown",
   "id": "cd6c9961-dc6b-4344-8039-5a4fda942119",
   "metadata": {},
   "source": [
    "#### Procesamos los datos"
   ]
  },
  {
   "cell_type": "code",
   "execution_count": null,
   "id": "422d3fbb-bc0b-4019-b979-87062b340fb5",
   "metadata": {},
   "outputs": [],
   "source": [
    "esfuerzos = [float(dato.strip()) for dato in datos]\n",
    "print(esfuerzos)"
   ]
  },
  {
   "cell_type": "markdown",
   "id": "1b26bb19-13c0-4ca8-b5bd-b97e4f12e4dd",
   "metadata": {},
   "source": [
    "Aquí, el archivo se cierra automáticamente después de que el bloque ``with`` termina, lo que garantiza que no queden archivos abiertos en el sistema, evitando fugas de recursos."
   ]
  },
  {
   "cell_type": "markdown",
   "id": "39bd6d9c-fa17-451b-a699-4bd25e066971",
   "metadata": {},
   "source": [
    "## Implementación de un Context Manager Personalizado"
   ]
  },
  {
   "cell_type": "markdown",
   "id": "998b0a0c-8878-4f02-a760-1ec7f015e5fb",
   "metadata": {},
   "source": [
    "Es posible crear nuestros propios context managers, lo cual es útil en aplicaciones más complejas donde necesitamos gestionar recursos específicos. Para ello, implementamos los métodos ``__enter__`` y ``__exit__`` en una clase.\n",
    "\n",
    "- __enter__: Se ejecuta al entrar en el bloque ``with``. Aquí inicializamos los recursos.\n",
    "- __exit__: Se ejecuta al salir del bloque ``with``, incluso si ocurre una excepción. Aquí cerramos o liberamos los recursos."
   ]
  },
  {
   "cell_type": "markdown",
   "id": "ddad1cdf-08d9-451e-ac96-ddbef52a38d6",
   "metadata": {},
   "source": [
    "### Ejemplo:"
   ]
  },
  {
   "cell_type": "markdown",
   "id": "5153734f-891a-450c-a533-32a7e43a7da5",
   "metadata": {},
   "source": [
    "Imaginemos que estamos realizando una simulación numérica de carga en una estructura. Crearemos un context manager que configure el entorno de simulación, ejecute la simulación y luego limpie los recursos."
   ]
  },
  {
   "cell_type": "code",
   "execution_count": null,
   "id": "090e1542-07da-40fd-9ab8-2bc186773756",
   "metadata": {},
   "outputs": [],
   "source": [
    "class SimulacionCarga:\n",
    "    def __enter__(self):\n",
    "        print(\"Iniciando simulación de carga en la estructura...\")\n",
    "        # Configuramos el entorno de simulación (p.ej., iniciar variables)\n",
    "        return self  # Devuelve el objeto gestionado\n",
    "    \n",
    "    def __exit__(self, exc_type, exc_value, traceback):\n",
    "        print(\"Limpiando recursos de la simulación...\")\n",
    "        # Limpiamos los recursos (p.ej., cerrar archivos o liberar memoria)\n",
    "        if exc_type:\n",
    "            print(f\"Se produjo una excepción: {exc_value}\")\n",
    "        return True  # Evitamos que se propague la excepción\n",
    "\n",
    "# Usamos el context manager\n",
    "with SimulacionCarga() as simulacion:\n",
    "    print(\"Ejecutando simulación...\")\n",
    "    # Aquí iría la lógica de la simulación, p.ej., cálculo de tensiones o deformaciones.\n",
    "    # Podemos generar una excepción intencional para demostrar el manejo\n",
    "    raise ValueError(\"Error en el cálculo de cargas\")\n"
   ]
  },
  {
   "cell_type": "markdown",
   "id": "05dc797e-53b7-483c-a65d-d4a4cbdd48e7",
   "metadata": {},
   "source": [
    "Salida esperada:"
   ]
  },
  {
   "cell_type": "markdown",
   "id": "c5cb16db-828b-4188-8ec0-93aa5f325c0d",
   "metadata": {},
   "source": [
    "```txt\n",
    "Iniciando simulación de carga en la estructura...\n",
    "Ejecutando simulación...\n",
    "Limpiando recursos de la simulación...\n",
    "Se produjo una excepción: Error en el cálculo de cargas\n",
    "```"
   ]
  },
  {
   "cell_type": "markdown",
   "id": "6165b75f-ffdf-4d8a-9c29-81618f6583d9",
   "metadata": {},
   "source": [
    "Este ejemplo ilustra cómo implementar un context manager que gestiona el inicio y la limpieza de una simulación. Aunque se genere una excepción, los recursos son limpiados correctamente."
   ]
  },
  {
   "cell_type": "markdown",
   "id": "3c8cd3ba-e61f-4a77-b2ea-d8cbafe72b38",
   "metadata": {},
   "source": [
    "## Detalles de Diseño: Métodos ``__enter__`` y ``__exit__``"
   ]
  },
  {
   "cell_type": "markdown",
   "id": "7d00b14d-0769-4e48-9464-a83d3622a5bf",
   "metadata": {},
   "source": [
    "- ``__enter__``: Este método define lo que ocurre al entrar en el contexto (el bloque ``with``). Suele configurarse aquí el recurso que se va a gestionar. Puede devolver un objeto que será accesible en el bloque ``with``.\n",
    "\n",
    "- ``__exit__``: Este método define lo que ocurre al salir ``del`` contexto, tanto si el bloque ``with`` se completó sin errores como si se produjo una excepción. Recibe tres argumentos que permiten gestionar las excepciones:\n",
    "\n",
    "    - ``exc_type``: Tipo de la excepción (si ocurrió).\n",
    "    - ``exc_value``: Valor de la excepción (detalles del error).\n",
    "    - ``traceback``: Traza del error.\n",
    "  Este método es donde generalmente se realiza la limpieza, como cerrar archivos, liberar memoria, o desactivar recursos.\n",
    "    - Si ``__exit__`` devuelve ``True``, la excepción se suprime y el programa continúa sin detenerse. Si devuelve ``False`` (o nada), la excepción se propaga."
   ]
  },
  {
   "cell_type": "markdown",
   "id": "aa501490-a5cf-4585-83eb-412309d342c7",
   "metadata": {},
   "source": [
    "### Ejemplo con Aplicación de Ingeniería"
   ]
  },
  {
   "cell_type": "markdown",
   "id": "fcc5355c-8e03-4bc3-b6a0-4131228927f2",
   "metadata": {},
   "source": [
    "Imaginemos que estamos analizando los datos de una estructura compleja, y queremos asegurarnos de que los cálculos de esfuerzo se hagan correctamente y que todos los recursos (por ejemplo, archivos de entrada) se gestionen de manera adecuada."
   ]
  },
  {
   "cell_type": "code",
   "execution_count": 20,
   "id": "373a1bdf-a5d1-4ef4-a93e-c26bd7bb8b55",
   "metadata": {},
   "outputs": [
    {
     "name": "stdout",
     "output_type": "stream",
     "text": [
      "Inicializando análisis estructural...\n",
      "1. ...Lectura de datos y configuracion...\n",
      "2. ...Lectura completada\n",
      "Realizando análisis de esfuerzos...\n",
      "3. ...Finalizando análisis y limpiando recursos...\n",
      "Se produjo un error: Datos de entrada inválidos para el análisis\n"
     ]
    }
   ],
   "source": [
    "class AnalisisEstructural:\n",
    "    def __enter__(self):\n",
    "        # Simularíamos la configuración de archivos o recursos\n",
    "        print(\"Inicializando análisis estructural...\")\n",
    "        print(\"1. ...Lectura de datos y configuracion...\")\n",
    "        # Codigo de lectura\n",
    "        print(\"2. ...Lectura completada\")\n",
    "        return self\n",
    "    \n",
    "    def __exit__(self, exc_type, exc_value, traceback):\n",
    "        print(\"3. ...Finalizando análisis y limpiando recursos...\")\n",
    "        if exc_type:\n",
    "            print(f\"Se produjo un error: {exc_value}\")\n",
    "        return True  # Suprimir la excepción (podemos cambiar esto si queremos propagarla)\n",
    "\n",
    "# Uso del context manager\n",
    "with AnalisisEstructural() as analisis:\n",
    "    print(\"Realizando análisis de esfuerzos...\")\n",
    "    # Imaginamos un error en los datos de entrada\n",
    "    raise ValueError(\"Datos de entrada inválidos para el análisis\")"
   ]
  },
  {
   "cell_type": "markdown",
   "id": "7edf11c1-e9d5-477f-9e0d-a999c3aecf43",
   "metadata": {},
   "source": [
    "## Resumen"
   ]
  },
  {
   "cell_type": "markdown",
   "id": "fcdc0e25-b582-4b72-bc7c-157d25ba5112",
   "metadata": {},
   "source": [
    "- Los context managers simplifican la gestión de recursos en Python, especialmente cuando se trabaja con archivos, conexiones o simulaciones que requieren inicialización y limpieza.\n",
    "- ``with`` se usa para encapsular el manejo de estos recursos de manera automática.\n",
    "- Implementar los métodos ``__enter__`` y ``__exit__`` te permite diseñar tus propios context managers personalizados, ideales para gestionar simulaciones y análisis en proyectos de ingeniería estructural."
   ]
  },
  {
   "cell_type": "markdown",
   "id": "061f86d3-db03-466b-a2fa-e575bca4fbb8",
   "metadata": {},
   "source": [
    "El uso de context managers asegura que los recursos críticos, como archivos o memoria, se manejen adecuadamente en tus proyectos, reduciendo el riesgo de errores y mejorando la eficiencia del código."
   ]
  },
  {
   "cell_type": "markdown",
   "id": "2a701cd4-0047-45cf-a88a-a335c8178ce5",
   "metadata": {
    "jp-MarkdownHeadingCollapsed": true
   },
   "source": [
    "# Entornos Virtuales: creacion, listar entornos, eliminar entorno."
   ]
  },
  {
   "cell_type": "markdown",
   "id": "5ff29aee-f55d-48b8-b4f1-7bf25c3a1e8a",
   "metadata": {},
   "source": [
    "Los **entornos virtuales** son una herramienta crucial en Python que permiten crear espacios aislados para proyectos específicos. Esto es especialmente útil para gestionar dependencias y versiones de paquetes sin afectar el entorno global de Python en tu sistema.\n",
    "\n",
    "Los entornos virtuales en Python se pueden guardar en cualquier ubicación en tu sistema de archivos, pero es común seguir ciertas prácticas para mantener una organización adecuada. Aquí hay algunas opciones sobre dónde se pueden guardar:"
   ]
  },
  {
   "cell_type": "markdown",
   "id": "047caf7d-a189-4646-a5c1-4e5283cf6128",
   "metadata": {
    "jp-MarkdownHeadingCollapsed": true
   },
   "source": [
    "## Usos de los Entornos Virtuales"
   ]
  },
  {
   "cell_type": "markdown",
   "id": "34201728-2a0f-428e-ace8-e78b597b97ec",
   "metadata": {},
   "source": [
    "- **Aislamiento de Proyectos**: Permiten tener diferentes versiones de paquetes para diferentes proyectos, evitando conflictos entre dependencias.\n",
    "\n",
    "- **Pruebas de Compatibilidad**: Facilitan probar un paquete en diferentes entornos sin interferir con el sistema global.\n",
    "\n",
    "- **Colaboración en Proyectos**: Los entornos virtuales permiten que diferentes desarrolladores trabajen en el mismo proyecto con configuraciones de dependencias idénticas, asegurando que el código se ejecute de la misma manera en todos los entornos.\n",
    "\n",
    "- **Pruebas y Desarrollo**: Proporcionan un espacio seguro para experimentar con nuevas bibliotecas o versiones de Python sin afectar otros proyectos."
   ]
  },
  {
   "cell_type": "markdown",
   "id": "09a4b87c-a433-4b2e-ac6d-e8381bdca5f4",
   "metadata": {
    "jp-MarkdownHeadingCollapsed": true
   },
   "source": [
    "## Organización de los entornos virtuales en el directorio"
   ]
  },
  {
   "cell_type": "markdown",
   "id": "b3acfce4-2078-4041-8bdf-b115b95f4b08",
   "metadata": {
    "jp-MarkdownHeadingCollapsed": true
   },
   "source": [
    "### Dentro de Proyectos Específicos\n",
    "\n",
    "Es habitual crear un entorno virtual dentro del directorio de un proyecto específico. Esto asegura que cada proyecto tenga su propio conjunto de dependencias y evita conflictos con otros proyectos.\n",
    "\n",
    "#### Ejemplo:\n",
    "```bash\n",
    "/ruta/a/tu/proyecto/\n",
    "    ├── nombre_entorno/    # Entorno virtual para este proyecto\n",
    "    ├── src/               # Código fuente\n",
    "    ├── requirements.txt    # Dependencias del proyecto\n",
    "```"
   ]
  },
  {
   "cell_type": "markdown",
   "id": "7b6a5380-efcd-45ca-9cd6-6874b7f1b5f6",
   "metadata": {},
   "source": [
    "### Carpeta Centralizada para Entornos Virtuales\n",
    "\n",
    "Algunas personas prefieren crear una carpeta específica para almacenar todos sus entornos virtuales. Esto facilita la gestión de múltiples entornos y su localización.\n",
    "\n",
    "#### Ejemplo:\n",
    "```bash\n",
    "/ruta/a/tu/\n",
    "    ├── entornos_virtuales/  # Carpeta para todos los entornos virtuales\n",
    "        ├── proyecto1/\n",
    "        ├── proyecto2/\n",
    "        ├── proyecto3/\n",
    "```"
   ]
  },
  {
   "cell_type": "markdown",
   "id": "22d492b3-ee56-447c-8bb6-361a9dfad6d2",
   "metadata": {
    "jp-MarkdownHeadingCollapsed": true
   },
   "source": [
    "### Ubicación por Defecto\n",
    "Si no se especifica una ubicación al crear el entorno virtual, el entorno se creará en la carpeta actual desde la que se ejecutó el comando. Por ejemplo, si ejecutas ``python -m venv entorno``, el directorio ``entorno`` se creará en la carpeta donde estés ubicado."
   ]
  },
  {
   "cell_type": "markdown",
   "id": "4bea8eba-8550-4750-b6a1-45b811dbdb4d",
   "metadata": {
    "jp-MarkdownHeadingCollapsed": true
   },
   "source": [
    "### Consideraciones"
   ]
  },
  {
   "cell_type": "markdown",
   "id": "a14f5d8e-94ff-41df-8625-61770ee4336c",
   "metadata": {},
   "source": [
    "- **Persistencia**: Los entornos virtuales son simplemente carpetas que contienen la instalación de Python y los paquetes requeridos. Pueden ser fácilmente eliminados o movidos.\n",
    "- **Portabilidad**: Puedes mover la carpeta del entorno virtual a otro sistema, pero ten en cuenta que las dependencias deben ser compatibles con el nuevo entorno.\n",
    "- **Evitar Rutas Largas**: Es recomendable no crear entornos virtuales en rutas muy largas, ya que puede causar problemas al intentar activar el entorno o ejecutar scripts."
   ]
  },
  {
   "cell_type": "markdown",
   "id": "6af60bc6-3eec-42c5-a81b-14692e2ce75f",
   "metadata": {},
   "source": [
    "## Usos de los Entornos Virtuales"
   ]
  },
  {
   "cell_type": "markdown",
   "id": "ad2d46b7-a5b6-417d-833d-4cc1f9c64c1f",
   "metadata": {},
   "source": [
    "1. **Aislamiento de Proyectos**: Permiten tener diferentes versiones de paquetes para diferentes proyectos, evitando conflictos entre dependencias.\n",
    "\n",
    "1. **Pruebas de Compatibilidad**: Facilitan probar un paquete en diferentes entornos sin interferir con el sistema global.\n",
    "\n",
    "1. **Colaboración en Proyectos**: Los entornos virtuales permiten que diferentes desarrolladores trabajen en el mismo proyecto con configuraciones de dependencias idénticas, asegurando que el código se ejecute de la misma manera en todos los entornos.\n",
    "\n",
    "1. **Pruebas y Desarrollo**: Proporcionan un espacio seguro para experimentar con nuevas bibliotecas o versiones de Python sin afectar otros proyectos."
   ]
  },
  {
   "cell_type": "markdown",
   "id": "fd83f64d-eb76-41bf-9186-757d167a58c8",
   "metadata": {
    "jp-MarkdownHeadingCollapsed": true
   },
   "source": [
    "## Gestión del Entorno Virtual"
   ]
  },
  {
   "cell_type": "markdown",
   "id": "28b51f53-fe4f-4fa8-87b7-a362ebf2ca87",
   "metadata": {
    "jp-MarkdownHeadingCollapsed": true
   },
   "source": [
    "### Creación del Entorno\n",
    "Para crear un entorno virtual, se utiliza el módulo `venv`, que se incluye con Python. A continuación, se muestra cómo crear un entorno virtual:\n",
    "\n",
    "```bash\n",
    "# Crear un nuevo entorno virtual\n",
    "python -m venv nombre_entorno\n",
    "```\n",
    "\n",
    "Este comando creará una carpeta llamada nombre_entorno que contendrá una copia aislada de Python y los paquetes instalados."
   ]
  },
  {
   "cell_type": "markdown",
   "id": "3e90df6f-eebc-449a-a9e1-ee226109013a",
   "metadata": {
    "jp-MarkdownHeadingCollapsed": true
   },
   "source": [
    "### Activación del Entorno\n",
    "\n",
    "Antes de usar el entorno, necesitas activarlo. Los comandos varían según el sistema operativo:\n",
    "\n",
    "#### En Windows:\n",
    "```bash\n",
    "nombre_entorno\\Scripts\\activate\n",
    "```\n",
    "#### En macOS y Linux:\n",
    "```bash\n",
    "source nombre_entorno/bin/activate\n",
    "```\n",
    "Una vez activado, tu terminal mostrará el nombre del entorno al principio de la línea de comandos."
   ]
  },
  {
   "cell_type": "markdown",
   "id": "9ec257fa-3f9a-45d4-bc99-ddecde9bf29e",
   "metadata": {
    "jp-MarkdownHeadingCollapsed": true
   },
   "source": [
    "### Eliminación de un Entorno\n",
    "Para eliminar un entorno virtual, simplemente debes borrar la carpeta correspondiente. Por ejemplo:\n",
    "```bash\n",
    "# Eliminar el entorno virtual\n",
    "rm -rf nombre_entorno  # Para macOS/Linux\n",
    "rmdir /s /q nombre_entorno  # Para Windows\n",
    "```"
   ]
  },
  {
   "cell_type": "markdown",
   "id": "b9053140-a910-4d41-a4e7-8e5e3c46d7ee",
   "metadata": {
    "jp-MarkdownHeadingCollapsed": true
   },
   "source": [
    "## Conclusión"
   ]
  },
  {
   "cell_type": "markdown",
   "id": "0ead77e1-8b3e-461a-8e58-eb036b8176e0",
   "metadata": {},
   "source": [
    "Los entornos virtuales son una práctica recomendada en el desarrollo de Python, especialmente en proyectos de ingeniería y análisis de datos, ya que aseguran que las dependencias se gestionen de manera eficiente y organizada. Utilizar entornos virtuales te ayudará a mantener tu trabajo estructurado y libre de conflictos."
   ]
  },
  {
   "cell_type": "markdown",
   "id": "fbeae95b-ba04-4d63-92a1-991e37fdc77d",
   "metadata": {
    "jp-MarkdownHeadingCollapsed": true
   },
   "source": [
    "# Librerías internas de Python:"
   ]
  },
  {
   "cell_type": "markdown",
   "id": "73ca73e4-b68d-4300-83be-2076efdf6753",
   "metadata": {},
   "source": [
    "1. **os** -> contiene utilidades para interacturar con el sistema operativo y la gestión de directorios\n",
    "1. **datetime** -> contiene funciones prácticas para el formato y el cálculo de fechas y horas.\n",
    "1. **collections** -> contiene estructuras de datos especiales que pueden ser de utilidad en múltiples de problemas.\n",
    "1. **itertools** -> contiene funciones de combinatoria de elementos como grupos, repeticiones, parejas, productos, permutaciones, variaciones, etc.\n",
    "1. **numpy** -> librería de cálculo numérico y algebraico con caracter multi-dimensional (uso de arrays multi-dimensionales)\n",
    "1. **scipy** -> libreria con multiples modulos de computacion cientifica: estadisticas, procesamiento de señales, probabilidad, algebra, imagenes, 1. diferenciacion, integracion, optimizacion de sistemas de ecuaciones, solucion de polinomios, interpolaciones, utilidades de lectura y escritura (I/O), estructuras de datos espaciales + algos, sparsed arrays...\n",
    "1. **statsmodels** -> contiene otros recursos para análisis estadísticos."
   ]
  },
  {
   "cell_type": "markdown",
   "id": "bb426980-4406-4507-b5be-ed8213939a92",
   "metadata": {},
   "source": [
    "# Contenido adicional"
   ]
  },
  {
   "cell_type": "markdown",
   "id": "6909f678-24aa-44fe-8d0a-a4bfe9196134",
   "metadata": {
    "jp-MarkdownHeadingCollapsed": true
   },
   "source": [
    "## Anotaciones de Tipo\n",
    "\n",
    "Las **anotaciones de tipo** en Python son una forma de indicar el tipo de datos que se espera para los argumentos de una función y el tipo de datos que devolverá. Aunque Python es un lenguaje de tipado dinámico y no requiere estas anotaciones, su uso puede mejorar la legibilidad del código y facilitar la detección de errores."
   ]
  },
  {
   "cell_type": "markdown",
   "id": "e817959b-8339-4c0c-9989-15f7a5b230cc",
   "metadata": {},
   "source": [
    "### Beneficios de las Anotaciones de Tipo\n",
    "\n",
    "1. **Mejora de la Legibilidad**: Ayudan a otros desarrolladores (o a ti mismo en el futuro) a entender mejor el propósito y el tipo de los datos en el código.\n",
    "2. **Detección Temprana de Errores**: Los análisis estáticos de código pueden identificar errores relacionados con tipos antes de que el código se ejecute.\n",
    "3. **Documentación Automática**: Las herramientas de documentación pueden generar información más precisa sobre las funciones y sus expectativas."
   ]
  },
  {
   "cell_type": "markdown",
   "id": "bbee7a80-4c8b-477d-a973-8b1bf81f206f",
   "metadata": {},
   "source": [
    "### Sintaxis de Anotaciones de Tipo\n",
    "Las anotaciones de tipo se añaden después de los parámetros de las funciones y el valor de retorno, usando la sintaxis `parametro: tipo` y `-> tipo_retornado`."
   ]
  },
  {
   "cell_type": "markdown",
   "id": "8e7636f9-85b0-480c-a6af-4c600ecb983a",
   "metadata": {},
   "source": [
    "##### Ejemplo: Función con Anotaciones de Tipo\n",
    "\n",
    "```python\n",
    "def calcular_esfuerzo(longitud: float, area: float) -> float:\n",
    "    \"\"\"Calcula el esfuerzo en MPa a partir de la longitud y el área.\"\"\"\n",
    "    esfuerzo = 1000 * (longitud / area)  # Cálculo simplificado\n",
    "    return esfuerzo\n",
    "```\n",
    "\n",
    "En este ejemplo:\n",
    "\n",
    "- ``longitud: float`` indica que ``longitud`` debe ser un número de punto flotante.\n",
    "- ``area: float`` indica que ``area`` también debe ser un número de punto flotante.\n",
    "- ``-> float`` indica que la función devolverá un número de punto flotante."
   ]
  },
  {
   "cell_type": "markdown",
   "id": "292212d0-6efb-4528-8566-39bcba5dc80a",
   "metadata": {},
   "source": [
    "### Anotaciones de Tipo para Colecciones\n",
    "Las anotaciones de tipo también se pueden usar para colecciones, como listas, diccionarios y conjuntos. Esto se hace utilizando las clases del módulo ``typing``."
   ]
  },
  {
   "cell_type": "markdown",
   "id": "f263424c-780a-4c09-b54e-8c85fe753b7a",
   "metadata": {},
   "source": [
    "##### Ejemplo: Anotaciones para Listas y Diccionarios"
   ]
  },
  {
   "cell_type": "code",
   "execution_count": 38,
   "id": "f63ca635-f1c7-42ac-b011-47cb8df7bc8e",
   "metadata": {},
   "outputs": [],
   "source": [
    "from typing import List, Dict, \n",
    "\n",
    "def obtener_mediciones() -> List[Dict[str, float]]:\n",
    "    \"\"\"Devuelve una lista de diccionarios con mediciones.\"\"\"\n",
    "    return [{'longitud': 1.0, 'esfuerzo': 120}, \n",
    "            {'longitud': 1.5, 'esfuerzo': 140}]"
   ]
  },
  {
   "cell_type": "markdown",
   "id": "b4420fb2-b4b6-4aa2-9a6b-8c2ea025591e",
   "metadata": {},
   "source": [
    "En este caso:\n",
    "\n",
    "- ``List[Dict[str, float]]`` indica que la función devolverá una lista de diccionarios, donde cada diccionario tiene claves de tipo ``str`` y valores de tipo ``float``.40}]\n",
    "- Otras anotaciones internas y de la clase ``typing`` son:\n",
    "  - Set, Tuple, ByteString, int"
   ]
  },
  {
   "cell_type": "markdown",
   "id": "8e7c562b-8482-4a02-aebb-a996c8dc16fd",
   "metadata": {},
   "source": [
    "### Conclusión\n",
    "\n",
    "Las anotaciones de tipo son una herramienta poderosa en Python que mejora la claridad del código y ayuda a prevenir errores. Su uso es especialmente recomendable en proyectos de ingeniería estructural, donde la precisión de los datos es crucial."
   ]
  },
  {
   "cell_type": "markdown",
   "id": "044f8d14-866e-4710-9aa4-3b178afb947e",
   "metadata": {
    "jp-MarkdownHeadingCollapsed": true
   },
   "source": [
    "## Namespaces\n",
    "Un **namespace** o **espacio de nombres** en Python es una estructura que organiza y gestiona los nombres de las variables, funciones, clases, y otros objetos. Los namespaces aseguran que los nombres en un programa no entren en conflicto entre sí, manteniendo el código organizado y evitando ambigüedades."
   ]
  },
  {
   "cell_type": "markdown",
   "id": "86058d89-7f61-4eca-9269-706612af6583",
   "metadata": {},
   "source": [
    "### Tipos de Namespaces"
   ]
  },
  {
   "cell_type": "markdown",
   "id": "f70b9014-6637-4d94-b3e3-a96ab7482928",
   "metadata": {
    "jp-MarkdownHeadingCollapsed": true
   },
   "source": [
    "En Python, los namespaces se crean y destruyen automáticamente. Hay tres tipos principales de namespaces:\n",
    "\n",
    "1. **Namespace Local**: Cada función o método tiene su propio namespace local que contiene nombres definidos dentro de esa función. Este namespace se crea cuando se llama a la función y se destruye cuando la función termina.\n",
    "\n",
    "**Ejemplo**:\n",
    "```python\n",
    "def calcular_area(base, altura):\n",
    "   area = base * altura  # 'area' está en el namespace local de la función\n",
    "   return area\n",
    "```\n",
    "\n",
    "2. **Namespace Global**: Este namespace incluye todos los nombres definidos en el nivel superior de un archivo o módulo de Python. Las variables globales viven en este espacio y son accesibles en cualquier parte del archivo, pero solo dentro del módulo donde están definidas.\n",
    "\n",
    "**Ejemplo**:\n",
    "```python\n",
    "pi = 3.14159  # 'pi' está en el namespace global\n",
    "\n",
    "def area_circulo(radio):\n",
    "    return pi * radio ** 2  # Usa la variable global 'pi'\n",
    "```\n",
    "\n",
    "3. **Namespace Built-in**: Este espacio contiene todos los nombres predefinidos por Python, como las funciones ``len()``, ``print()``, y ``int()``. Este es el espacio de nombres más amplio y siempre está disponible.\n",
    "\n",
    "```python\n",
    "longitud = len([1, 2, 3])  # 'len' está en el namespace built-in\r",
    "```\n",
    "\n",
    "```"
   ]
  },
  {
   "cell_type": "markdown",
   "id": "e0861f6f-5406-4ddc-ab42-5c2a8197d668",
   "metadata": {
    "jp-MarkdownHeadingCollapsed": true
   },
   "source": [
    "### Orden de Búsqueda de nombres: LEGB\n",
    "Cuando Python intenta resolver un nombre (como una variable o función), sigue un orden específico llamado **LEGB**, que significa:"
   ]
  },
  {
   "cell_type": "markdown",
   "id": "f82896f1-aaa5-4494-b554-b4549db30a63",
   "metadata": {},
   "source": [
    "1. **Local**: Busca primero en el namespace local de la función.\n",
    "1. **Enclosing**: Si la función está anidada dentro de otra función, busca en el namespace de la función envolvente.\n",
    "1. **Global**: Si no lo encuentra en los niveles anteriores, busca en el namespace global.\n",
    "1. **Built-in**: Finalmente, busca en el namespace built-in si no lo encuentra en los anteriores."
   ]
  },
  {
   "cell_type": "markdown",
   "id": "3800cc18-39d7-41d3-ba43-9fe049721d3a",
   "metadata": {},
   "source": [
    "**Ejemplo**:"
   ]
  },
  {
   "cell_type": "code",
   "execution_count": null,
   "id": "fd4a9afa-a793-4da0-b971-067b5ba3511f",
   "metadata": {},
   "outputs": [],
   "source": [
    "x = \"global\"\n",
    "\n",
    "def funcion_externa():\n",
    "    x = \"enclosing\"\n",
    "    \n",
    "    def funcion_interna():\n",
    "        x = \"local\"\n",
    "        print(x)  # Python busca primero en el namespace local\n",
    "\n",
    "    funcion_interna()\n",
    "\n",
    "funcion_externa()  # Imprime 'local'"
   ]
  },
  {
   "cell_type": "markdown",
   "id": "bf2f5579-1a17-4da8-8cc1-c1b2f170d8ed",
   "metadata": {
    "jp-MarkdownHeadingCollapsed": true
   },
   "source": [
    "### Manipulación de Variables Globales y Locales\n",
    "\n",
    "Por defecto, dentro de una función, Python no permite modificar una variable global directamente. Para modificarla, es necesario utilizar la palabra clave global para indicarle a Python que queremos referirnos a la variable global."
   ]
  },
  {
   "cell_type": "markdown",
   "id": "63a9e2f3-c06e-484b-a56c-6f12df35102e",
   "metadata": {},
   "source": [
    "##### Ejemplo"
   ]
  },
  {
   "cell_type": "code",
   "execution_count": null,
   "id": "99dcbb9a-ceb5-4e86-af4c-3dfac11dcadf",
   "metadata": {},
   "outputs": [],
   "source": [
    "contador = 0\n",
    "\n",
    "def incrementar():\n",
    "    global contador\n",
    "    contador += 1\n",
    "\n",
    "incrementar()\n",
    "print(contador)  # Imprime 1"
   ]
  },
  {
   "cell_type": "markdown",
   "id": "5f15fa71-d90d-48d5-9521-1db33e1365c0",
   "metadata": {},
   "source": [
    "<p style=\"color:rgb(255, 0, 0)\">Nota</p> El uso de global es generalmente desaconsejado en programas complejos porque puede dificultar el seguimiento de los cambios en las variables."
   ]
  },
  {
   "cell_type": "markdown",
   "id": "277d0ae2-b26c-4575-a604-6c67adb3d735",
   "metadata": {},
   "source": [
    "### ¿Cuándo y Por Qué Usar Namespaces?"
   ]
  },
  {
   "cell_type": "markdown",
   "id": "f177d505-c691-41ec-87e9-bc57bb8eb28c",
   "metadata": {},
   "source": [
    "1. **Evitar Conflictos de Nombres**: Al trabajar en proyectos grandes, es probable que se utilicen muchos nombres para funciones, variables y clases. Los namespaces evitan que los nombres entren en conflicto entre sí.\n",
    "\n",
    "1. **Mantener la Organización del Código**: Usar diferentes namespaces para distintos módulos y funciones permite que el código sea más estructurado y legible.\n",
    "\n",
    "1. **Facilitar la Depuración**: Los namespaces hacen más fácil rastrear el origen de los errores relacionados con variables o funciones mal definidas."
   ]
  },
  {
   "cell_type": "markdown",
   "id": "34c91892-e33d-4806-97c2-264983319638",
   "metadata": {
    "jp-MarkdownHeadingCollapsed": true
   },
   "source": [
    "### Conclusión"
   ]
  },
  {
   "cell_type": "markdown",
   "id": "4ca8ba72-6e95-4f95-8450-bea3fe986b59",
   "metadata": {},
   "source": [
    "Los **namespaces** son una parte fundamental de cómo Python gestiona las variables y los objetos en memoria. Comprender cómo funcionan te permitirá escribir código más limpio, evitar conflictos de nombres y aprovechar mejor las funciones y métodos predefinidos de Python."
   ]
  },
  {
   "cell_type": "markdown",
   "id": "71b1ced1-b917-466d-96b3-5532a60eb1b1",
   "metadata": {
    "jp-MarkdownHeadingCollapsed": true
   },
   "source": [
    "## Mutabilidad e inmutabilidad de las estructuras de datos"
   ]
  },
  {
   "cell_type": "markdown",
   "id": "1c7a6bc3-ecd5-4adb-b2dd-a200f18a1ca0",
   "metadata": {},
   "source": [
    "## References, copies and deepcopies"
   ]
  },
  {
   "cell_type": "markdown",
   "id": "f7641e9d-fc28-4012-97f2-838e688475b7",
   "metadata": {},
   "source": [
    "En Python, la forma en que los objetos se asignan y se copian puede tener un impacto importante en cómo se comporta tu código, especialmente cuando trabajas con estructuras de datos mutables como listas o diccionarios. Es fundamental entender la diferencia entre **referencias**, **copias superficiales** (shallow copies), y **copias profundas** (deep copies).\n",
    "\n",
    "### Referencias\n",
    "\n",
    "Cuando asignas una variable a otra en Python, ambas variables apuntan al mismo objeto en memoria. Esto significa que cualquier cambio en el objeto se verá reflejado en ambas variables, ya que no se crea una copia.\n",
    "\n",
    "**Ejemplo**:"
   ]
  },
  {
   "cell_type": "code",
   "execution_count": 67,
   "id": "3299a9be-926b-4973-95c9-3d4fcfb05a3d",
   "metadata": {},
   "outputs": [
    {
     "name": "stdout",
     "output_type": "stream",
     "text": [
      "[1, 2, 3, 4]\n"
     ]
    },
    {
     "data": {
      "text/plain": [
       "[1, 2, 3, 4]"
      ]
     },
     "execution_count": 67,
     "metadata": {},
     "output_type": "execute_result"
    }
   ],
   "source": [
    "a = [1, 2, 3]\n",
    "b = a  # 'b' es una referencia a 'a'\n",
    "\n",
    "b.append(4)\n",
    "print(a)  # Imprime [1, 2, 3, 4], ya que 'a' y 'b' son el mismo objeto\n",
    "b"
   ]
  },
  {
   "cell_type": "markdown",
   "id": "4e1d70a6-d22c-4bf3-85ec-0ca4c6b494de",
   "metadata": {},
   "source": [
    "### Copias Superficiales (Shallow Copies)"
   ]
  },
  {
   "cell_type": "markdown",
   "id": "c4d4eaf0-d93b-4724-b8f7-a4abc7f7690e",
   "metadata": {},
   "source": [
    "Una copia superficial crea un nuevo objeto, pero las referencias a los elementos contenidos en el objeto original no se copian. Esto significa que, si los elementos en la estructura son mutables (como listas anidadas), las modificaciones a estos elementos mutables se reflejarán tanto en la copia como en el original.\n",
    "\n",
    "Puedes realizar una copia superficial de varias maneras:\n",
    "\n",
    "- Usando el método copy().\n",
    "- Usando la función copy.copy() del módulo copy."
   ]
  },
  {
   "cell_type": "code",
   "execution_count": 66,
   "id": "e11fe997-8bf6-42c0-9f03-9342dd46b0bb",
   "metadata": {},
   "outputs": [
    {
     "name": "stdout",
     "output_type": "stream",
     "text": [
      "[[1, 2, 5], [3, 4]]\n"
     ]
    },
    {
     "data": {
      "text/plain": [
       "[[1, 2, 5], [3, 4]]"
      ]
     },
     "execution_count": 66,
     "metadata": {},
     "output_type": "execute_result"
    }
   ],
   "source": [
    "import copy\n",
    "\n",
    "a = [[1, 2], [3, 4]]\n",
    "b = copy.copy(a)  # Crea una copia superficial de 'a'\n",
    "\n",
    "b[0].append(5)\n",
    "print(a)  # Imprime [[1, 2, 5], [3, 4]], porque 'a' y 'b' comparten los mismos sub-elementos\n",
    "b"
   ]
  },
  {
   "cell_type": "markdown",
   "id": "8a65d32a-89a3-4424-9eb4-1a0a6b34c1c3",
   "metadata": {},
   "source": [
    "### Copias Profundas (Deep Copies)"
   ]
  },
  {
   "cell_type": "markdown",
   "id": "2256dc9d-ad9e-4801-9fc5-b55d7c01c1dc",
   "metadata": {},
   "source": [
    "Una **copia profunda** crea un nuevo objeto, y además copia recursivamente todos los objetos contenidos, asegurando que el nuevo objeto y el original no compartan ninguna referencia a objetos mutables. Para realizar una copia profunda, se utiliza la función ``copy.deepcopy()`` del módulo ``copy``."
   ]
  },
  {
   "cell_type": "code",
   "execution_count": 69,
   "id": "ea5b4ea0-5cb6-4fb1-a072-452afceaefc3",
   "metadata": {},
   "outputs": [
    {
     "name": "stdout",
     "output_type": "stream",
     "text": [
      "[[1, 2], [3, 4]]\n"
     ]
    }
   ],
   "source": [
    "import copy\n",
    "\n",
    "a = [[1, 2], [3, 4]]\n",
    "b = copy.deepcopy(a)  # Crea una copia profunda de 'a'\n",
    "\n",
    "b[0].append(5)\n",
    "print(a)  # Imprime [[1, 2], [3, 4]], porque 'a' y 'b' son completamente independientes"
   ]
  },
  {
   "cell_type": "markdown",
   "id": "6697b6cc-fc79-49b3-a3c1-7d446ab64a86",
   "metadata": {},
   "source": [
    "En este caso, b es una copia completamente independiente de a. Ningún cambio en b afectará a a, y viceversa."
   ]
  },
  {
   "cell_type": "markdown",
   "id": "4209359d-da5f-42a2-aefe-d595e62c215f",
   "metadata": {},
   "source": [
    "### ¿Cuándo usar referencias, copias superficiales o copias profundas?\n",
    "\n",
    "- **Referencias**: Si quieres que varios nombres apunten al mismo objeto (por ejemplo, cuando trabajas con grandes estructuras de datos y no deseas duplicar la memoria).\n",
    "\n",
    "- **Copias Superficiales**: Cuando quieres crear un nuevo contenedor, pero puedes permitir que sus elementos internos sean compartidos entre la copia y el original. Esto puede ser útil si los elementos internos son inmutables o si no te importa compartir la referencia a los elementos internos.\n",
    "\n",
    "- **Copias Profundas**: Cuando quieres crear una copia completa e independiente del objeto original, incluyendo todos sus sub-objetos. Esto es importante cuando trabajas con estructuras de datos mutables que contienen otras estructuras mutables."
   ]
  },
  {
   "cell_type": "markdown",
   "id": "daca53dd-d567-48bf-9519-c525c46791cd",
   "metadata": {},
   "source": [
    "### Ejemplo Práctico concreto"
   ]
  },
  {
   "cell_type": "markdown",
   "id": "0dcc25aa-1460-4477-8807-ddb91154f591",
   "metadata": {},
   "source": [
    "Imagina que tienes una lista de estructuras de datos representando resultados de análisis estructurales. Usar solo referencias entre objetos puede causar que al modificar una estructura de datos en particular, se modifiquen todas las copias de dicha estructura, lo que puede llevar a errores inesperados."
   ]
  },
  {
   "cell_type": "code",
   "execution_count": null,
   "id": "c56858e6-2c74-4b9d-a52f-a7bd66550a9a",
   "metadata": {},
   "outputs": [],
   "source": [
    "# Resultados de un análisis estructural\n",
    "resultados_original = [{'esfuerzo': 120, 'deformacion': 0.002}, {'esfuerzo': 140, 'deformacion': 0.003}]\n",
    "resultados_copia = copy.deepcopy(resultados_original)\n",
    "\n",
    "# Modificamos la copia profunda\n",
    "resultados_copia[0]['esfuerzo'] = 130\n",
    "\n",
    "# Verificamos que la copia y el original son independientes\n",
    "print(resultados_original)  # [{'esfuerzo': 120, 'deformacion': 0.002}, {'esfuerzo': 140, 'deformacion': 0.003}]\n",
    "print(resultados_copia)      # [{'esfuerzo': 130, 'deformacion': 0.002}, {'esfuerzo': 140, 'deformacion': 0.003}]"
   ]
  },
  {
   "cell_type": "markdown",
   "id": "cc206310-1cb9-465e-981c-ea3e2ccf5b69",
   "metadata": {},
   "source": [
    "### Conclusión"
   ]
  },
  {
   "cell_type": "markdown",
   "id": "0f9e36c5-706b-4046-82d8-d119df723231",
   "metadata": {},
   "source": [
    "La diferencia entre referencias, copias superficiales y copias profundas es crucial al trabajar con estructuras de datos en Python. Comprender cuándo usar cada una de estas opciones evitará errores inesperados y ayudará a optimizar el rendimiento de tu código."
   ]
  },
  {
   "cell_type": "code",
   "execution_count": null,
   "id": "ceeccdc4-fa79-4a87-ae62-df07c14ea8c6",
   "metadata": {},
   "outputs": [],
   "source": []
  }
 ],
 "metadata": {
  "kernelspec": {
   "display_name": "Python 3 (ipykernel)",
   "language": "python",
   "name": "python3"
  },
  "language_info": {
   "codemirror_mode": {
    "name": "ipython",
    "version": 3
   },
   "file_extension": ".py",
   "mimetype": "text/x-python",
   "name": "python",
   "nbconvert_exporter": "python",
   "pygments_lexer": "ipython3",
   "version": "3.9.19"
  }
 },
 "nbformat": 4,
 "nbformat_minor": 5
}
